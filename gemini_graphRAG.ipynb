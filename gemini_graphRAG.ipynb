{
 "cells": [
  {
   "cell_type": "markdown",
   "id": "e8b9fa04-4278-4d6e-9947-4a21ea14e730",
   "metadata": {},
   "source": [
    "# Using a SurrealDB Knowedge Graph and Gemini to build a Graph-RAG \n",
    "\n",
    "This Jupyter Notebook illustrates the implementation and utilization of a graph-based Retrieval-Augmented Generation (RAG) system using a knowledge graph stored in SurrealDB. It focuses on leveraging the knowledge graph created by the graph_extractor.ipynb notebook for question answering tasks.\n",
    "\n",
    "### Key Functionality\n",
    "####  Data Loading:\n",
    "        Loads the raw text data from which will be used for context in the prompt.\n",
    "\n",
    "#### Leveraging the Existing Knowledge Graph:\n",
    "\n",
    "        Create a SurrQL function to query the knowledge graph using vector search for the descriptions of the entities and the other entities and relationships they have in the graph. This data will also be fed into the prompt for context.\n",
    "\n",
    "        \n",
    "#### Response Generation without a knowledge graph:\n",
    "    Using a template prompt in the RAG_prompts.py file a simple context window of the text data loaded earlier with the question is asked of the LLM model.\n",
    "\n",
    "    \n",
    "\n",
    "#### Response Generation with knowledge graph:\n",
    "    Using a template prompt in the RAG_prompts.py file a context window of the text data loaded earlier, plus the graph data retrieved from SurrealDB with the question is asked of the LLM model.\n",
    "\n",
    "\n",
    "##### notes:\n",
    "    This notebook utilizes libraries :\n",
    "        surrealdb to interact with SurrealDB\n",
    "        google.generativeai to interact with Gemini\n",
    "\n",
    "    Prerquisite is to install the embedding model as in this python script:\n",
    "            https://github.com/apireno/surrealDB_embedding_model\n",
    "            and load a knowledge graph using the other notebook in this repo: graph_extractor.ipynb\n",
    "\n",
    "    The notebook is loosely based on a larger repository microsoft/graphrag. The microsoft/graphrag repository provides a more comprehensive, modular graph-based RAG system. This notebook focuses specifically on the knowledge graph construction aspect."
   ]
  },
  {
   "cell_type": "code",
   "execution_count": 1,
   "id": "04f3f765-96d5-49c2-96e3-aa64c560e88d",
   "metadata": {},
   "outputs": [],
   "source": [
    "import sys\n",
    "import os\n",
    "import json\n",
    "import google.generativeai as genai\n",
    "import os\n",
    "import time\n",
    "import ipynb_path\n",
    "import pandas as pd\n",
    "from surrealdb import AsyncSurreal\n",
    "\n",
    "from IPython.display import display, Markdown,JSON\n",
    "from IPython.display import JSON\n",
    "\n",
    "\n",
    "#get this notebook's path for access to the other files needed\n",
    "dir_path = os.path.dirname(os.path.realpath(ipynb_path.get(__name__)))\n",
    "sys.path.append(dir_path) #add the current directory for adding py imports\n",
    "from RAG_prompts import STD_RAG_PROMPT, GRAPH_RAG_PROMPT"
   ]
  },
  {
   "cell_type": "code",
   "execution_count": 2,
   "id": "3d8dfda3-61c6-4ec0-8803-7ef419ea7448",
   "metadata": {},
   "outputs": [
    {
     "name": "stdout",
     "output_type": "stream",
     "text": [
      "surreal start --allow-net --log none --user root --pass root --bind 0.0.0.0:8000 \"rocksdb:///Users/sandro/git_repos/graph_rag/db\"\n",
      "\n",
      "ensure you installed the embedding model!\n",
      "      \n",
      "      https://github.com/apireno/surrealDB_embedding_model\n",
      "\n",
      "the model will power the function fn::sentence_to_vector($text)\n",
      "\n"
     ]
    }
   ],
   "source": [
    "\n",
    "# this folder\n",
    "nb_folder = dir_path\n",
    "input_file = nb_folder + \"/Operation Dulce v2 1 1.md\"\n",
    "\n",
    "out_folder = nb_folder + \"/rag_{0}\".format(time.strftime(\"%Y%m%d-%H%M%S\"))\n",
    "os.makedirs(out_folder, exist_ok=True)\n",
    "chat_file = out_folder + \"/chat.json\"\n",
    "\n",
    "messages_to_log = []\n",
    "\n",
    "\n",
    "\n",
    "ip = \"0.0.0.0:8000\"\n",
    "url = \"ws://{0}\".format(ip)\n",
    "\n",
    "u = \"root\"\n",
    "p = \"root\"\n",
    "n = \"graph_rag\"\n",
    "d = \"graph_rag\"\n",
    "db_folder = nb_folder + \"/db\"\n",
    "\n",
    "surrealdb_start = \"surreal start --allow-net --log none --user {u} --pass {p} --bind {ip} \\\"rocksdb://{db_folder}\\\"\".format(\n",
    "    u=u,\n",
    "    p=p,\n",
    "    ip=ip,\n",
    "    db_folder=db_folder)\n",
    "\n",
    "#run this command if your surreal instance isn't running yet \n",
    "#copy and paste from below into a terminal\n",
    "print(surrealdb_start)\n",
    "\n",
    "#and ensure you installed the embedding model!\n",
    "#the model will power the function fn::sentence_to_vector($text)\n",
    "print(\"\"\"\n",
    "ensure you installed the embedding model!\n",
    "      \n",
    "      https://github.com/apireno/surrealDB_embedding_model\n",
    "\n",
    "the model will power the function fn::sentence_to_vector($text)\n",
    "\"\"\"   )  "
   ]
  },
  {
   "cell_type": "code",
   "execution_count": 24,
   "id": "a4a60278-ae0c-43e7-b5cc-f887dbd400e3",
   "metadata": {},
   "outputs": [],
   "source": [
    "\n",
    "# get the text from the source file for use in our prompt\n",
    "with open(input_file, \"r\") as f:\n",
    "    input_text = f.read()\n",
    "\n",
    "\n",
    "entity_types = [\"PERSON\", \"PLACE\"]\n",
    "relation_type = \"RELATED_TO\"\n",
    "\n",
    "#create the function that will return the portion of the knowledge graph \n",
    "#relevant to the question using vector search on the description embedding\n",
    "retrieve_function_surql = \"\"\"\n",
    "DEFINE FUNCTION OVERWRITE fn::get_related_entities($text: string) {{\n",
    "    \n",
    "    LET $emb = fn::sentence_to_vector($text);\n",
    "    \n",
    "    RETURN SELECT id,description, ->{1}.{{out,strength,description}} FROM {0} \n",
    "        WHERE  embedding <|5,COSINE|> $emb;\n",
    "}};\n",
    "\"\"\".format(entity_types[0],relation_type)\n",
    "\n",
    "\n",
    "async with AsyncSurreal(url) as db:\n",
    "    await db.signin( {\"username\":u, \"password\":p}) \n",
    "    await db.use(n, d)\n",
    "    outcome = await db.query(retrieve_function_surql)\n",
    "\n"
   ]
  },
  {
   "cell_type": "code",
   "execution_count": 3,
   "id": "cd7119d8-1537-4e03-a850-3baa84aa9b03",
   "metadata": {},
   "outputs": [],
   "source": [
    "\n",
    "#This is a helper function to make the knowledge graph a bit easier to read.\n",
    "def transform_record_ids(data):\n",
    "  \"\"\"\n",
    "  Transforms the input data to extract the 'ID' field from 'out' and 'in' objects.\n",
    "\n",
    "  Args:\n",
    "    data: An array of dictionaries.\n",
    "\n",
    "  Returns:\n",
    "    The transformed array of dictionaries.\n",
    "  \"\"\"\n",
    "    \n",
    "  for item in data:\n",
    "    if \"id\" in item:\n",
    "        item[\"id\"] = item[\"id\"].id\n",
    "    if \"->RELATED_TO\" in item:\n",
    "      for inner_dict in item[\"->RELATED_TO\"]:\n",
    "        if \"out\" in inner_dict and hasattr(inner_dict[\"out\"], \"id\"):\n",
    "          inner_dict[\"out\"] = inner_dict[\"out\"].id\n",
    "        if \"in\" in inner_dict and hasattr(inner_dict[\"in\"], \"id\"):\n",
    "          inner_dict[\"in\"] = inner_dict[\"in\"].id\n",
    "        if \"id\" in inner_dict and hasattr(inner_dict[\"id\"], \"id\"):\n",
    "          inner_dict[\"id\"] = inner_dict[\"id\"].id\n",
    "      \n",
    "    \n",
    "  return data\n"
   ]
  },
  {
   "cell_type": "code",
   "execution_count": 7,
   "id": "cd2da166-a935-4df7-b11d-3aac7fa91bab",
   "metadata": {},
   "outputs": [
    {
     "name": "stdout",
     "output_type": "stream",
     "text": [
      "[\n",
      "    {\n",
      "        \"->RELATED_TO\": [\n",
      "            {\n",
      "                \"description\": \"Alex Mercer operates within Dulce Base during Operation: Dulce.\",\n",
      "                \"out\": \"DULCE BASE\",\n",
      "                \"strength\": 9\n",
      "            },\n",
      "            {\n",
      "                \"description\": \"Alex Mercer and Taylor Cruz are both members of the Paranormal Military Squad and work together on Operation: Dulce.\",\n",
      "                \"out\": \"TAYLOR CRUZ\",\n",
      "                \"strength\": 8\n",
      "            },\n",
      "            {\n",
      "                \"description\": \"Alex Mercer reports to and receives orders from Washington D.C.\",\n",
      "                \"out\": \"WASHINGTON\",\n",
      "                \"strength\": 6\n",
      "            },\n",
      "            {\n",
      "                \"description\": \"Alex Mercer and Jordan Hayes are both members of the Paranormal Military Squad and work closely together, sharing a mutual respect and understanding.\",\n",
      "                \"out\": \"JORDAN HAYES\",\n",
      "                \"strength\": 9\n",
      "            },\n",
      "            {\n",
      "                \"description\": \"Alex Mercer leads the team during Operation: Dulce\",\n",
      "                \"out\": \"ALEX MERCER\",\n",
      "                \"strength\": 10\n",
      "            },\n",
      "            {\n",
      "                \"description\": \"Alex Mercer and Sam Rivera are both members of the Paranormal Military Squad and work together on Operation: Dulce. Alex mentors Sam.\",\n",
      "                \"out\": \"SAM RIVERA\",\n",
      "                \"strength\": 7\n",
      "            }\n",
      "        ],\n",
      "        \"description\": \"Agent Alex Mercer is a member of the Paranormal Military Squad. He is unfailingly determined, observant, and a skilled leader.  He is shown to be capable of strategic thinking and has a strong sense of responsibility.\",\n",
      "        \"id\": \"ALEX MERCER\"\n",
      "    },\n",
      "    {\n",
      "        \"->RELATED_TO\": [\n",
      "            {\n",
      "                \"description\": \"Jordan Hayes is a key member of the team, conducting critical analysis.\",\n",
      "                \"out\": \"JORDAN HAYES\",\n",
      "                \"strength\": 10\n",
      "            },\n",
      "            {\n",
      "                \"description\": \"Jordan Hayes operates within Dulce Base during Operation: Dulce.\",\n",
      "                \"out\": \"DULCE BASE\",\n",
      "                \"strength\": 9\n",
      "            },\n",
      "            {\n",
      "                \"description\": \"Jordan Hayes and Sam Rivera are both members of the Paranormal Military Squad and collaborate closely on technical aspects of Operation: Dulce.\",\n",
      "                \"out\": \"SAM RIVERA\",\n",
      "                \"strength\": 8\n",
      "            },\n",
      "            {\n",
      "                \"description\": \"Jordan Hayes reports to and receives orders from Washington D.C.\",\n",
      "                \"out\": \"WASHINGTON\",\n",
      "                \"strength\": 6\n",
      "            }\n",
      "        ],\n",
      "        \"description\": \"Agent Jordan Hayes is a member of the Paranormal Military Squad and is a doctor.  They are analytical, skeptical, and possess a strong understanding of science and the unexplained. They are a skilled analyst and possesses a cautious nature.\",\n",
      "        \"id\": \"JORDAN HAYES\"\n",
      "    },\n",
      "    {\n",
      "        \"->RELATED_TO\": [\n",
      "            {\n",
      "                \"description\": \"Sam Rivera provides crucial technological support to the team.\",\n",
      "                \"out\": \"SAM RIVERA\",\n",
      "                \"strength\": 10\n",
      "            },\n",
      "            {\n",
      "                \"description\": \"Sam Rivera reports to and receives orders from Washington D.C.\",\n",
      "                \"out\": \"WASHINGTON\",\n",
      "                \"strength\": 6\n",
      "            },\n",
      "            {\n",
      "                \"description\": \"Sam Rivera operates within Dulce Base during Operation: Dulce.\",\n",
      "                \"out\": \"DULCE BASE\",\n",
      "                \"strength\": 9\n",
      "            }\n",
      "        ],\n",
      "        \"description\": \"Agent Sam Rivera is a member of the Paranormal Military Squad and is a cybersecurity expert. They are curious, tech-savvy, and possess a good sense of humor. They are skilled at interpreting data and adapting to unexpected situations.\",\n",
      "        \"id\": \"SAM RIVERA\"\n",
      "    },\n",
      "    {\n",
      "        \"->RELATED_TO\": [\n",
      "            {\n",
      "                \"description\": \"Taylor Cruz and Sam Rivera are both members of the Paranormal Military Squad. Taylor is Sam's superior officer, but Sam's expertise is highly valued.\",\n",
      "                \"out\": \"SAM RIVERA\",\n",
      "                \"strength\": 6\n",
      "            },\n",
      "            {\n",
      "                \"description\": \"Taylor Cruz reports to and receives orders from Washington D.C.\",\n",
      "                \"out\": \"WASHINGTON\",\n",
      "                \"strength\": 6\n",
      "            },\n",
      "            {\n",
      "                \"description\": \"Taylor Cruz operates within Dulce Base during Operation: Dulce.\",\n",
      "                \"out\": \"DULCE BASE\",\n",
      "                \"strength\": 9\n",
      "            },\n",
      "            {\n",
      "                \"description\": \"Taylor Cruz and Jordan Hayes are both members of the Paranormal Military Squad and often have conflicting viewpoints. Taylor's authority sometimes clashes with Jordan's independent thinking.\",\n",
      "                \"out\": \"JORDAN HAYES\",\n",
      "                \"strength\": 5\n",
      "            },\n",
      "            {\n",
      "                \"description\": \"Taylor Cruz is the leader of the team during Operation: Dulce\",\n",
      "                \"out\": \"TAYLOR CRUZ\",\n",
      "                \"strength\": 10\n",
      "            }\n",
      "        ],\n",
      "        \"description\": \"Agent Taylor Cruz is a member of the Paranormal Military Squad. They are ambitious, meticulous, and authoritarian. They value obedience and control. They are skilled at commanding and maintaining order.\",\n",
      "        \"id\": \"TAYLOR CRUZ\"\n",
      "    }\n",
      "]\n"
     ]
    }
   ],
   "source": [
    "\n",
    "#Let's test out vector/graph query\n",
    "#we should see a collection of people and relationships\n",
    "#where the person's description is related to the question \n",
    "\n",
    "async with AsyncSurreal(url) as db:\n",
    "    await db.signin( {\"username\":u, \"password\":p}) \n",
    "    await db.use(n, d)\n",
    "    get_the_graph_context_surql = \"fn::get_related_entities('{0}')\"\n",
    "    outcome = await db.query(get_the_graph_context_surql.format(\"Who is the main character?\"))\n",
    "\n",
    "result = transform_record_ids(outcome)\n",
    "#print(result[0])\n",
    "\n",
    "#df[\"out\"] = df[\"out\"].apply(lambda x: x.id) \n",
    "#print(df[\"->RELATED_TO\"].apply(lambda x: pd.DataFrame(x)[\"out\"]))\n",
    "#JSON(result)\n",
    "print(json.dumps(result, indent=4, sort_keys=True))\n",
    "    "
   ]
  },
  {
   "cell_type": "code",
   "execution_count": 9,
   "id": "4b9a6852-bed5-4cdc-aa58-a4b0d58cbe6f",
   "metadata": {},
   "outputs": [],
   "source": [
    "#these functions will call gemini api based on our prompt templates and input\n",
    "\n",
    "\n",
    "#input object of the model, reference to the attached file and the prompt content\n",
    "def generate_content_with_attachment(the_model,the_messages,attached_file):\n",
    "    #time.sleep(5) # to stop generating too many requests per min\n",
    "\n",
    "    response = the_model.generate_content([attached_file,str(the_messages)])\n",
    "    return response\n",
    "\n",
    "\n",
    "\n",
    "\n",
    "\n",
    "#this generates the prompt for a std RAG approach where we are supplying the document with the question\n",
    "def generate_std_LLM_messages(the_question,attached_file):\n",
    "    messages =  [\n",
    "            {\"role\": \"user\", \"parts\": [{\"text\": STD_RAG_PROMPT.format(\n",
    "                question = the_question\n",
    "            )}]}\n",
    "        ]\n",
    "    return messages\n",
    "\n",
    "\n",
    "#this function will call the LLM with a std RAG approach prompt \n",
    "def get_std_LLM_response(the_model,the_question,attached_file):\n",
    "    \n",
    "    messages = generate_std_LLM_messages(the_question,attached_file)\n",
    "    messages_to_log.append(messages)\n",
    "    \n",
    "    with open(chat_file, \"w\") as f:\n",
    "        json.dump(messages_to_log, f)\n",
    "        \n",
    "    response = generate_content_with_attachment(the_model,messages,attached_file)\n",
    "    return response\n",
    "\n",
    "\n",
    "#this generates the prompt for a graphRAG approach where we are supplying the document and knowledge graph with the question\n",
    "#it calls the SurQL function get_related_entities to do a vector search based on the input question   \n",
    "async def generate_graph_RAG_messages(the_db,the_question,attached_file):\n",
    "    get_the_graph_context_surql = \"fn::get_related_entities('{0}')\"\n",
    "    \n",
    "    outcome = await the_db.query(get_the_graph_context_surql.format(the_question))\n",
    "    messages = [\n",
    "            {\"role\": \"user\", \"parts\": [{\"text\": GRAPH_RAG_PROMPT.format(\n",
    "                question = the_question,\n",
    "                knowledge_graph = outcome\n",
    "            )}]}\n",
    "        ]\n",
    "    \n",
    "    return messages\n",
    "    \n",
    " \n",
    "#this function will call the LLM with a prompt that includes the text of the original document\n",
    "#plus the relevant entities and relationships from the knowledge graph based on a vector search\n",
    "async def get_graph_RAG_response(the_db,the_model,the_question,attached_file):\n",
    "    \n",
    "    messages = await generate_graph_RAG_messages(the_db,the_question,attached_file)\n",
    "    messages_to_log.append(messages)\n",
    "    \n",
    "    with open(chat_file, \"w\") as f:\n",
    "        json.dump(messages_to_log, f)\n",
    "    \n",
    "    response = generate_content_with_attachment(the_model,messages,attached_file)\n",
    "    return response\n",
    "    \n",
    "       "
   ]
  },
  {
   "cell_type": "code",
   "execution_count": 10,
   "id": "7a0050ec-609c-4b15-af47-38bdb03a0edc",
   "metadata": {},
   "outputs": [],
   "source": [
    "\n",
    "# Set your API key (I've stored mine in an env variable)\n",
    "genai.configure(api_key=os.getenv('GOOGLE_GENAI_API_KEY'))\n",
    "\n",
    "#flash is faster and good enough\n",
    "#model = \"gemini-1.0-pro\"\n",
    "model = \"gemini-1.5-flash\"\n",
    "\n",
    "model = genai.GenerativeModel(model)\n",
    "\n",
    "\n",
    "the_attached_file = genai.upload_file(input_file)\n",
    "\n",
    "while the_attached_file.state.name == \"PROCESSING\":\n",
    "    print(\".\", end=\"\")\n",
    "    time.sleep(10)\n",
    "    the_attached_file = genai.get_file(the_attached_file.name)\n",
    "\n",
    "\n",
    "\n"
   ]
  },
  {
   "cell_type": "code",
   "execution_count": 11,
   "id": "718fc9d3-85fb-4fc2-b72d-b4a29ffd30f6",
   "metadata": {},
   "outputs": [
    {
     "name": "stdout",
     "output_type": "stream",
     "text": [
      "\n",
      "\n",
      "\n",
      "\n",
      " ------ STD RAG -------------------------\n",
      "\n",
      "\n",
      "\n",
      "\n",
      "{\n",
      "    \"parts\": [\n",
      "        {\n",
      "            \"text\": \"\\n-Goal-\\nYou are a researcher who is providing answers to a question for you client based on documents provided you. Answer the questions to the best of your ability given the documents.\\n\\n<question>\\nWho is the main character and what motivates them?\\n</question>\\n\\n \"\n",
      "        }\n",
      "    ],\n",
      "    \"role\": \"user\"\n",
      "}\n",
      "\n",
      "\n",
      "\n",
      "\n",
      " ------ GRAPH RAG -------------------------\n",
      "\n",
      "\n",
      "\n",
      "\n",
      "{\n",
      "    \"parts\": [\n",
      "        {\n",
      "            \"text\": \"\\n-Goal-\\nYou are a researcher who is providing answers to a question for your client based on documents provided you. You also have access to a knowledge graph based on the documents provided. Answer the questions to the best of your ability given the documents and knowledge graph.\\n\\n<knowledge graph>\\n[{'->RELATED_TO': [{'description': 'Alex Mercer operates within Dulce Base during Operation: Dulce.', 'out': RecordID(table_name=PLACE, record_id=DULCE BASE), 'strength': 9}, {'description': 'Alex Mercer and Taylor Cruz are both members of the Paranormal Military Squad and work together on Operation: Dulce.', 'out': RecordID(table_name=PERSON, record_id=TAYLOR CRUZ), 'strength': 8}, {'description': 'Alex Mercer reports to and receives orders from Washington D.C.', 'out': RecordID(table_name=PLACE, record_id=WASHINGTON), 'strength': 6}, {'description': 'Alex Mercer and Jordan Hayes are both members of the Paranormal Military Squad and work closely together, sharing a mutual respect and understanding.', 'out': RecordID(table_name=PERSON, record_id=JORDAN HAYES), 'strength': 9}, {'description': 'Alex Mercer leads the team during Operation: Dulce', 'out': RecordID(table_name=PERSON, record_id=ALEX MERCER), 'strength': 10}, {'description': 'Alex Mercer and Sam Rivera are both members of the Paranormal Military Squad and work together on Operation: Dulce. Alex mentors Sam.', 'out': RecordID(table_name=PERSON, record_id=SAM RIVERA), 'strength': 7}], 'description': 'Agent Alex Mercer is a member of the Paranormal Military Squad. He is unfailingly determined, observant, and a skilled leader.  He is shown to be capable of strategic thinking and has a strong sense of responsibility.', 'id': RecordID(table_name=PERSON, record_id=ALEX MERCER)}, {'->RELATED_TO': [{'description': 'Jordan Hayes is a key member of the team, conducting critical analysis.', 'out': RecordID(table_name=PERSON, record_id=JORDAN HAYES), 'strength': 10}, {'description': 'Jordan Hayes operates within Dulce Base during Operation: Dulce.', 'out': RecordID(table_name=PLACE, record_id=DULCE BASE), 'strength': 9}, {'description': 'Jordan Hayes and Sam Rivera are both members of the Paranormal Military Squad and collaborate closely on technical aspects of Operation: Dulce.', 'out': RecordID(table_name=PERSON, record_id=SAM RIVERA), 'strength': 8}, {'description': 'Jordan Hayes reports to and receives orders from Washington D.C.', 'out': RecordID(table_name=PLACE, record_id=WASHINGTON), 'strength': 6}], 'description': 'Agent Jordan Hayes is a member of the Paranormal Military Squad and is a doctor.  They are analytical, skeptical, and possess a strong understanding of science and the unexplained. They are a skilled analyst and possesses a cautious nature.', 'id': RecordID(table_name=PERSON, record_id=JORDAN HAYES)}, {'->RELATED_TO': [{'description': 'Sam Rivera provides crucial technological support to the team.', 'out': RecordID(table_name=PERSON, record_id=SAM RIVERA), 'strength': 10}, {'description': 'Sam Rivera reports to and receives orders from Washington D.C.', 'out': RecordID(table_name=PLACE, record_id=WASHINGTON), 'strength': 6}, {'description': 'Sam Rivera operates within Dulce Base during Operation: Dulce.', 'out': RecordID(table_name=PLACE, record_id=DULCE BASE), 'strength': 9}], 'description': 'Agent Sam Rivera is a member of the Paranormal Military Squad and is a cybersecurity expert. They are curious, tech-savvy, and possess a good sense of humor. They are skilled at interpreting data and adapting to unexpected situations.', 'id': RecordID(table_name=PERSON, record_id=SAM RIVERA)}, {'->RELATED_TO': [{'description': \\\"Taylor Cruz and Sam Rivera are both members of the Paranormal Military Squad. Taylor is Sam's superior officer, but Sam's expertise is highly valued.\\\", 'out': RecordID(table_name=PERSON, record_id=SAM RIVERA), 'strength': 6}, {'description': 'Taylor Cruz reports to and receives orders from Washington D.C.', 'out': RecordID(table_name=PLACE, record_id=WASHINGTON), 'strength': 6}, {'description': 'Taylor Cruz operates within Dulce Base during Operation: Dulce.', 'out': RecordID(table_name=PLACE, record_id=DULCE BASE), 'strength': 9}, {'description': \\\"Taylor Cruz and Jordan Hayes are both members of the Paranormal Military Squad and often have conflicting viewpoints. Taylor's authority sometimes clashes with Jordan's independent thinking.\\\", 'out': RecordID(table_name=PERSON, record_id=JORDAN HAYES), 'strength': 5}, {'description': 'Taylor Cruz is the leader of the team during Operation: Dulce', 'out': RecordID(table_name=PERSON, record_id=TAYLOR CRUZ), 'strength': 10}], 'description': 'Agent Taylor Cruz is a member of the Paranormal Military Squad. They are ambitious, meticulous, and authoritarian. They value obedience and control. They are skilled at commanding and maintaining order.', 'id': RecordID(table_name=PERSON, record_id=TAYLOR CRUZ)}]\\n</knowledge graph>\\n\\n<question>\\nWho is the main character and what motivates them?\\n</question>\\n\\n \"\n",
      "        }\n",
      "    ],\n",
      "    \"role\": \"user\"\n",
      "}\n"
     ]
    }
   ],
   "source": [
    "#Let's see how the prompts will look\n",
    "#You can copy and paste these into any LLM chat engine to test if you also supply the document text\n",
    "\n",
    "\n",
    "q = \"Who is the main character and what motivates them?\"\n",
    "\n",
    "print (\"\\n\\n\\n\\n ------ STD RAG -------------------------\\n\\n\\n\\n\")\n",
    "messages = generate_std_LLM_messages(q,the_attached_file)\n",
    "print(json.dumps(messages[0], indent=4, sort_keys=True))\n",
    "\n",
    "print (\"\\n\\n\\n\\n ------ GRAPH RAG -------------------------\\n\\n\\n\\n\")\n",
    "\n",
    "async with AsyncSurreal(url) as db:\n",
    "    await db.signin( {\"username\":u, \"password\":p}) \n",
    "    await db.use(n, d)\n",
    "    messages = await generate_graph_RAG_messages(db,q,the_attached_file)\n",
    "    print(json.dumps(messages[0], indent=4, sort_keys=True))\n",
    " \n",
    "   \n"
   ]
  },
  {
   "cell_type": "code",
   "execution_count": 13,
   "id": "eaf947c4-621f-4e63-a914-c27c99d805a7",
   "metadata": {},
   "outputs": [
    {
     "name": "stdout",
     "output_type": "stream",
     "text": [
      "\n",
      "\n",
      "\n",
      "\n",
      " ------ STD RAG -------------------------\n",
      "\n",
      "\n",
      "\n",
      "\n"
     ]
    },
    {
     "data": {
      "text/markdown": [
       "* **Main Character:** While the story features a team, Agent Alex Mercer arguably functions as the main character.  He's the focal point of several scenes and his internal conflicts and reflections are prominently featured.\n",
       "\n",
       "* **Motivations:**\n",
       "    * **Duty and Obedience:** Mercer is initially driven by a sense of duty and obedience to his superiors, exemplified by his initial compliance with Agent Cruz's commands.  This is a learned response rooted in his military background.\n",
       "\n",
       "    * **Uncovering the Truth:**  A deeper motivation, however, emerges as the narrative progresses.  Mercer demonstrates a strong desire to understand the truth behind Operation Dulce, going beyond simple adherence to protocol. This is evident in his quiet observations of Jordan and Sam, and his willingness to question established narratives.\n",
       "\n",
       "    * **Protecting Humanity:** Mercer's actions suggest a desire to protect humanity from any potential threat emanating from Dulce, even if this means defying or challenging authority.\n",
       "\n",
       "    * **Collaboration and Understanding:**  As the operation unfolds, Mercer's motivation shifts towards collaboration and understanding. He actively seeks the insights of Jordan and Sam, recognizing their expertise is crucial to the team’s success.  His leadership style evolves from command-and-control to one of collaborative engagement.  He advocates for a cautious, diplomatic approach to interacting with the extraterrestrial intelligence.\n"
      ],
      "text/plain": [
       "<IPython.core.display.Markdown object>"
      ]
     },
     "metadata": {},
     "output_type": "display_data"
    }
   ],
   "source": [
    "#Lets test a question on doc alone ...\n",
    "\n",
    "q = \"Who is the main character and what motivates them? Format your response in bullet points.\"\n",
    "\n",
    "response = get_std_LLM_response(model,q,the_attached_file)\n",
    "\n",
    "print (\"\\n\\n\\n\\n ------ STD RAG -------------------------\\n\\n\\n\\n\")\n",
    "\n",
    "display(Markdown(response.text))\n",
    "\n",
    "\n",
    "\n"
   ]
  },
  {
   "cell_type": "code",
   "execution_count": 14,
   "id": "82ed8160-7d5a-4f89-beb6-2b724a4bf445",
   "metadata": {},
   "outputs": [
    {
     "name": "stdout",
     "output_type": "stream",
     "text": [
      "\n",
      "\n",
      "\n",
      "\n",
      " ------ GRAPH RAG -------------------------\n",
      "\n",
      "\n",
      "\n",
      "\n"
     ]
    },
    {
     "data": {
      "text/markdown": [
       "* **Main Character:** Agent Alex Mercer is the main character, although the narrative provides perspectives from other team members.\n",
       "\n",
       "* **Motivations:** Alex Mercer is motivated by several factors:\n",
       "\n",
       "    * **Duty and Responsibility:**  He feels a strong sense of duty to complete his mission and protect his team. His military background emphasizes following protocol, but he's also shown to be willing to deviate when necessary.  His leadership consistently emphasizes the safety and success of the mission and his team members.\n",
       "    * **Curiosity and a thirst for knowledge:** He is intensely curious about the mysteries surrounding Operation: Dulce and seeks to understand them, even questioning established narratives.  He's willing to consider speculative theories when the situation demands it.\n",
       "    * **Teamwork and Camaraderie:**  He values his team and works to foster collaboration and trust, even among those with conflicting personalities.  He develops a close working relationship and mutual respect with Jordan Hayes. He also acts as a mentor for Sam Rivera.  He seeks to leverage his team's diverse expertise to succeed.\n",
       "    * **Uncovering Truth:** There's an underlying desire to understand the true nature of Operation: Dulce.  He isn't just following orders; he's actively seeking truth and knowledge.  He shows a willingness to challenge authority when necessary to pursue this goal.\n",
       "\n"
      ],
      "text/plain": [
       "<IPython.core.display.Markdown object>"
      ]
     },
     "metadata": {},
     "output_type": "display_data"
    }
   ],
   "source": [
    "# and with the graph?\n",
    "print (\"\\n\\n\\n\\n ------ GRAPH RAG -------------------------\\n\\n\\n\\n\")\n",
    "\n",
    "async with AsyncSurreal(url) as db:\n",
    "    await db.signin( {\"username\":u, \"password\":p})  \n",
    "    await db.use(n, d)\n",
    "    response = await get_graph_RAG_response(db,model,q,the_attached_file)\n",
    "    display(Markdown(response.text))"
   ]
  },
  {
   "cell_type": "code",
   "execution_count": 16,
   "id": "1b0d7752-c5bb-4cb5-86a8-7c1aabeb912b",
   "metadata": {},
   "outputs": [],
   "source": [
    "\n",
    "#these helper functions will run both approaches on the same question and print them for us\n",
    "\n",
    "    \n",
    "async def process_and_display_RAG_comparison(model,q,the_attached_file):\n",
    "  \n",
    "    response = get_std_LLM_response(model,q,the_attached_file)\n",
    "    \n",
    "    print (\"\\n\\n\\n\\n ------ STD RAG -------------------------\\n\\n\\n\\n\")\n",
    "    \n",
    "    display(Markdown(response.text))\n",
    "\n",
    "    \n",
    "    print (\"\"\"------ GRAPH RAG -------------------------\n",
    "\"\"\")\n",
    "        \n",
    "    async with AsyncSurreal(url) as db:\n",
    "        await db.signin( {\"username\":u, \"password\":p})  \n",
    "        await db.use(n, d)\n",
    "        response = await get_graph_RAG_response(db,model,q,the_attached_file)\n",
    "        display(Markdown(response.text))\n",
    "\n",
    "    "
   ]
  },
  {
   "cell_type": "code",
   "execution_count": 18,
   "id": "e6cb7379-0b85-4320-8dc0-a3812e6ee888",
   "metadata": {},
   "outputs": [
    {
     "name": "stdout",
     "output_type": "stream",
     "text": [
      "\n",
      "\n",
      "\n",
      "\n",
      " ------ STD RAG -------------------------\n",
      "\n",
      "\n",
      "\n",
      "\n"
     ]
    },
    {
     "data": {
      "text/markdown": [
       "Based on the provided text, Alex Mercer's dearest places and people are not explicitly stated.  The narrative focuses on his professional life and his role within the team during Operation: Dulce.  While he shows camaraderie and respect for his team members (Jordan Hayes, Taylor Cruz, and Sam Rivera),  the text does not offer insight into his personal life or relationships outside of his work.  Therefore, a list of places and people he holds dearest cannot be created from this document.\n"
      ],
      "text/plain": [
       "<IPython.core.display.Markdown object>"
      ]
     },
     "metadata": {},
     "output_type": "display_data"
    },
    {
     "name": "stdout",
     "output_type": "stream",
     "text": [
      "------ GRAPH RAG -------------------------\n",
      "\n"
     ]
    },
    {
     "data": {
      "text/markdown": [
       "Based on the provided text and knowledge graph, here's what we can infer about the places and people Alex Mercer holds dearest:\n",
       "\n",
       "* **Dulce Base:** The knowledge graph shows a strong connection (strength 9) between Alex Mercer and Dulce Base, indicating his significant involvement and time spent there during Operation: Dulce.  The narrative strongly suggests a sense of shared mission and experience with his team within the base.\n",
       "\n",
       "* **Jordan Hayes:** The knowledge graph highlights a very strong relationship (strength 9) between Alex and Jordan.  The text emphasizes their mutual respect, shared understanding, and close collaboration.  This suggests a deep professional and possibly personal bond.\n",
       "\n",
       "* **Washington D.C.:** While not as strongly connected as Dulce Base or Jordan Hayes (strength 6), Washington D.C. represents Alex's chain of command and the source of his mission. His loyalty and adherence to protocols suggest a sense of duty towards this authority.\n",
       "\n",
       "* **Sam Rivera:**  The knowledge graph shows a strong connection (strength 7) between Alex and Sam. The text reveals that Alex mentors Sam, suggesting care and investment in Sam's development.  This suggests a mentor-mentee relationship that likely involves a degree of respect and concern.\n",
       "\n",
       "* **Taylor Cruz:** The knowledge graph shows a strong connection (strength 8) between Alex and Taylor.  The text suggests that their relationship is complex, with Taylor's authoritative style sometimes clashing with Alex's independent thinking.  While not explicitly stated as \"dearest,\" their close working relationship in a high-stakes situation suggests a certain level of professional respect and interdependence.\n",
       "\n",
       "\n",
       "It's important to note that \"dearest\" is subjective. This analysis focuses on the strength of relationships and emotional connections implied in the text and knowledge graph.  The narrative emphasizes Alex's professional dedication, and so his \"dearest\" relationships are likely strongly tied to his work and those vital to mission success.\n"
      ],
      "text/plain": [
       "<IPython.core.display.Markdown object>"
      ]
     },
     "metadata": {},
     "output_type": "display_data"
    }
   ],
   "source": [
    "\n",
    "#Let's test a question that asks about the main character's relationships\n",
    "q = \"What places and people does Alex Mercer hold dearest? Format your response in bullet points. Format your response in bullet points.\"\n",
    "await process_and_display_RAG_comparison(model,q,the_attached_file)\n"
   ]
  },
  {
   "cell_type": "code",
   "execution_count": 19,
   "id": "d090858a-dbd1-4efb-bba7-f55d9bdba45d",
   "metadata": {},
   "outputs": [
    {
     "name": "stdout",
     "output_type": "stream",
     "text": [
      "\n",
      "\n",
      "\n",
      "\n",
      " ------ STD RAG -------------------------\n",
      "\n",
      "\n",
      "\n",
      "\n"
     ]
    },
    {
     "data": {
      "text/markdown": [
       "## Alex Mercer's Communication Network\n",
       "\n",
       "| Person             | Communication Frequency | Places of Interaction (Ordered by Importance)                                                                     | Bond Strength | Interaction Weight Score |\n",
       "|----------------------|--------------------------|-----------------------------------------------------------------------------------------------------------------|-----------------|------------------------|\n",
       "| Jordan Hayes         | Very High                 | Dulce Base Command Center (multiple scenes, crucial discussions, collaborative work), Dulce Base Corridors (shared concerns), Elevator to Dulce (shared apprehension), Deserted Corridor (brief exchange), Briefing Room (initial meeting) | Very Strong      | 9                        |\n",
       "| Taylor Cruz          | High                      | Dulce Base Command Center (multiple scenes, contrasting views), Dulce Base Corridors (conflicts, brief agreements), Briefing Room (initial instructions), Equipment Bay (brief tension), Elevator to Dulce (brief exchange) | Strong but Tense   | 7                        |\n",
       "| Sam Rivera           | High                      | Dulce Base Command Center (multiple scenes, collaborative work), Sam's Office (advice, encouragement), Briefing Room (initial briefing) | Strong             | 6                        |\n",
       "\n",
       "\n",
       "**Note:** The \"Interaction Weight Score\" is a subjective assessment based on the length and significance of interactions described in the provided text.  A higher score indicates more frequent and/or crucial interactions.  The ordering of places within the \"Places of Interaction\" column is also based on a subjective interpretation of the narrative's emphasis.\n"
      ],
      "text/plain": [
       "<IPython.core.display.Markdown object>"
      ]
     },
     "metadata": {},
     "output_type": "display_data"
    },
    {
     "name": "stdout",
     "output_type": "stream",
     "text": [
      "------ GRAPH RAG -------------------------\n",
      "\n"
     ]
    },
    {
     "data": {
      "text/markdown": [
       "Based on the provided text, here's a table summarizing Alex Mercer's communications,  keeping in mind that \"scenes\" are inferred from the narrative and the strength of the bond is a subjective assessment based on the text's portrayal of their relationships.  The \"total weight\" is a combined score—a higher number indicating more significant and frequent interactions.  It's not a precise calculation but a qualitative assessment.\n",
       "\n",
       "| Person             | Frequency of Scenes | Places (Ordered by Importance)                                  | Bond Strength | Total Weight |\n",
       "|----------------------|----------------------|--------------------------------------------------------------------|-----------------|---------------|\n",
       "| Jordan Hayes         | Very High            | Dulce Base (Command Center, Corridors, Labs), Elevator, Briefing Room | 9               | 10            |\n",
       "| Sam Rivera           | High                 | Dulce Base (Command Center, Server Room), Briefing Room, Office     | 7               | 8             |\n",
       "| Taylor Cruz          | High                 | Dulce Base (Command Center, Corridors, Equipment Bay), Briefing Room | 8               | 9             |\n",
       "| Washington D.C.     | Moderate             | Briefing Room                                                    | 6               | 6             |\n",
       "\n",
       "\n",
       "**Note:**  The frequency and importance of places are subjective interpretations based on the narrative. The text doesn't offer precise counts of interactions in each location.  The bond strength is an estimate of the closeness and mutual respect shown between characters, based on my interpretation of the text. The \"Total Weight\" is a subjective assessment combining the frequency, importance of places, and bond strength to give an overall sense of the interaction's significance.\n"
      ],
      "text/plain": [
       "<IPython.core.display.Markdown object>"
      ]
     },
     "metadata": {},
     "output_type": "display_data"
    }
   ],
   "source": [
    "\n",
    "\n",
    "q = \"\"\"\n",
    "\n",
    "\n",
    "Create a table of places that Alex communicates with:\n",
    "\n",
    "\n",
    "In the first column indicate the person. \n",
    "In the 2nd column list the frequency he has scenes with them.\n",
    "In the 3rd column list the places they had scenes together ordered by importance of the place and scene.\n",
    "In the 4th column indicate the strength of the bond between the people.\n",
    "In the 5th column score the total weight of the interactions across the scenes in aggregate.\n",
    "\n",
    "output the response in a table format using markdown language.\n",
    "\"\"\"\n",
    "\n",
    "await process_and_display_RAG_comparison(model,q,the_attached_file)\n"
   ]
  },
  {
   "cell_type": "code",
   "execution_count": 20,
   "id": "69ef5cc5-6bce-466b-8ae2-1f0b95277a46",
   "metadata": {},
   "outputs": [
    {
     "name": "stdout",
     "output_type": "stream",
     "text": [
      "\n",
      "\n",
      "\n",
      "\n",
      " ------ STD RAG -------------------------\n",
      "\n",
      "\n",
      "\n",
      "\n"
     ]
    },
    {
     "data": {
      "text/markdown": [
       "## Alex Mercer's Locations in Operation: Dulce\n",
       "\n",
       "| Place Name             | Visit Frequency | People Present (Bond Strength)                  | Importance                               | Location Description                                                                     | Interaction Weight Score |\n",
       "|-------------------------|-----------------|-------------------------------------------------|-------------------------------------------|-----------------------------------------------------------------------------------------|--------------------------|\n",
       "| Briefing Room           | 2+              | Taylor Cruz (Antagonistic), Jordan Hayes (Allied), Sam Rivera (Allied) | High (Mission planning, strategy)     | Sterile, high-tech room for mission briefings.                                          | 8                         |\n",
       "| Dulce Base - Corridors | Multiple         | Jordan Hayes (Allied), Taylor Cruz (Antagonistic), Sam Rivera (Allied) | High (Main setting of operation)       | Long, dark, and ominous corridors of the underground base.                               | 10                        |\n",
       "| Dulce Base - Lab       | 1                | Jordan Hayes (Allied)                          | Medium (Alien tech analysis)           | Sterile laboratory for examining alien artifacts.                                        | 5                         |\n",
       "| Dulce Base - Server Room| 1                | Sam Rivera (Allied)                           | Medium (Data analysis)                  | Cramped room filled with servers and computing equipment.                                | 4                         |\n",
       "| Dulce Base - Elevator Shaft | 1                | Jordan Hayes (Allied), Taylor Cruz (Antagonistic), Sam Rivera (Allied) | High (Transportation to Dulce)         | Metal shaft leading into Dulce base. The elevator felt a disturbance within the walls    | 6                         |\n",
       "| Dulce Base - Equipment Bay | 1                | Taylor Cruz (Antagonistic), Jordan Hayes (Allied) | Low (Gear check)                         | Secluded area where Cruz checked mission equipment.                                   | 3                         |\n",
       "| Dulce Base - Mainframe Room | 2+              | Jordan Hayes (Allied), Taylor Cruz (Antagonistic), Sam Rivera (Allied)  | High (Central hub, communication)  | Imposing doors to the mainframe room, possibly an invitation or trap.                | 10                        |\n",
       "| Dulce Base - Communications Hub | 2+           | Jordan Hayes (Allied), Taylor Cruz (Antagonistic), Sam Rivera (Allied) | High (Signal analysis and communication) | Main communications hub; contains central servers and consoles for data processing.     | 10                         |\n",
       "| Dulce Base - Command Center | Multiple | Jordan Hayes (Allied), Taylor Cruz (Antagonistic), Sam Rivera (Allied) | High (Mission control, final communication) | Central control room of Dulce Base; advanced consoles and monitors.                  | 12                        |\n",
       "\n",
       "\n",
       "**Bond Strength Key:**\n",
       "\n",
       "* **Allied:** Strong mutual trust and collaboration.\n",
       "* **Antagonistic:**  Conflict or tension; differing goals or approaches.\n",
       "\n",
       "\n",
       "**Interaction Weight Score:** This is a subjective assessment based on the length and importance of scenes in which Alex interacts with others at each location.  Higher scores indicate more significant interactions.\n"
      ],
      "text/plain": [
       "<IPython.core.display.Markdown object>"
      ]
     },
     "metadata": {},
     "output_type": "display_data"
    },
    {
     "name": "stdout",
     "output_type": "stream",
     "text": [
      "------ GRAPH RAG -------------------------\n",
      "\n"
     ]
    },
    {
     "data": {
      "text/markdown": [
       "| Place Name        | Frequency | People (by strength)                     | Importance          | Location Description                                                                                                | Total Weight |\n",
       "|--------------------|-----------|------------------------------------------|----------------------|-------------------------------------------------------------------------------------------------------------------|-------------|\n",
       "| Dulce Base         | High       | Jordan Hayes (9), Taylor Cruz (8), Sam Rivera (7) | Extremely High      | Subterranean military base; mysterious, technologically advanced, holds many secrets.                               | 36          |\n",
       "| Washington         | Low        | N/A                                      | High                 | US Capital; headquarters for Paranormal Military Squad; provides orders and support for Operation: Dulce           | 12          |\n",
       "| Briefing Room (Dulce)| High       | Jordan Hayes, Taylor Cruz, Sam Rivera    | High                 | Sterile briefing room inside Dulce Base, where mission briefings take place.                                      | 24          |\n",
       "| Briefing Room (Washington)| Low       | N/A                                      | Medium               | Sterile briefing room in Washington D.C. where operational briefings take place.                              | 6           |\n",
       "| Cramped Office      | Low        | Sam Rivera                             | Medium               | Small office in the facility, likely near Dulce Base, contains multiple servers for Sam Rivera's data analysis. | 7           |\n",
       "| Deserted Corridor   | Low        | Taylor Cruz                             | Low                  | Long, empty corridor in the Dulce Base.                                                                          | 9          |\n",
       "| Secluded Equipment Bay| Low        | Taylor Cruz, Jordan Hayes                  | Low                  | Room in the facility where equipment is stored.                                                                   | 10          |\n",
       "| Cramped Underground Meeting Room | Low     | Jordan Hayes, Taylor Cruz, Sam Rivera    | High                | Small room, underground, used by team to strategize before entering Dulce Base.                                     | 24          |\n",
       "| Elevator Shaft      | Low        | Jordan Hayes, Taylor Cruz, Sam Rivera    | Medium               | Artificial shaft leading down to Dulce Base.                                                                 | 24          |\n",
       "| Central Communications Hub | Low | Jordan Hayes, Alex Mercer, Taylor Cruz | High | Main communications center deep within Dulce Base, where alien communication is received.            | 24          |\n",
       "| Mainframe Room      | Low        | Jordan Hayes, Alex Mercer, Taylor Cruz, Sam Rivera | High | Central server room of Dulce Base, containing the mainframe.                                                 | 34          |\n",
       "| Lab                  | Low        | Jordan Hayes, Alex Mercer                 | High                 | Laboratory within Dulce Base where the team analyzes alien artifacts.                                              | 19          |\n",
       "| Server Room          | Low        | Alex Mercer, Sam Rivera                    | High                 | Room with numerous servers, used for data analysis related to Operation: Dulce.                                | 17          |\n",
       "| Central Communications Hub (Surface) | Low | Alex Mercer, Jordan Hayes, Taylor Cruz | High | Surface facility adjacent to Dulce Base, acts as a communications relay point for the mission. | 24          |\n",
       "\n",
       "\n",
       "**Note:**  The \"Total Weight\" is a *rough estimate* based on the strength of relationships mentioned in the story and the frequency of locations mentioned.  It's not a precise metric.  Also, some locations are implied rather than explicitly stated; their weight and frequency are therefore subjective interpretations of the narrative.\n"
      ],
      "text/plain": [
       "<IPython.core.display.Markdown object>"
      ]
     },
     "metadata": {},
     "output_type": "display_data"
    }
   ],
   "source": [
    "\n",
    "\n",
    "q = \"\"\"\n",
    "\n",
    "Create a table of places that Alex visits:\n",
    "\n",
    "\n",
    "In the first column indicate the place name. \n",
    "In the 2nd column indicate the frequency he visits them.\n",
    "In the 3rd column list the people who were there with him by strength of the bond of the people.\n",
    "In the 4th column indicate the importance of the place.\n",
    "In the 5th column describe the location in 255 characters or less.\n",
    "In the 6th column score the total weight of the interactions across the scenes in aggregate.\n",
    "\n",
    "output the response in a table format using markdown language.\n",
    "\"\"\"\n",
    "\n",
    "\n",
    "await process_and_display_RAG_comparison(model,q,the_attached_file)\n"
   ]
  },
  {
   "cell_type": "code",
   "execution_count": 21,
   "id": "36c0c908-c6cf-49d7-908d-02fba9898a48",
   "metadata": {},
   "outputs": [
    {
     "name": "stdout",
     "output_type": "stream",
     "text": [
      "\n",
      "\n",
      "\n",
      "\n",
      " ------ STD RAG -------------------------\n",
      "\n",
      "\n",
      "\n",
      "\n"
     ]
    },
    {
     "data": {
      "text/markdown": [
       "Dulce Base command center: Four figures bathed in alien light, deciphering a cosmic message.\n"
      ],
      "text/plain": [
       "<IPython.core.display.Markdown object>"
      ]
     },
     "metadata": {},
     "output_type": "display_data"
    },
    {
     "name": "stdout",
     "output_type": "stream",
     "text": [
      "------ GRAPH RAG -------------------------\n",
      "\n"
     ]
    },
    {
     "data": {
      "text/markdown": [
       "Here's a description for the book cover, fulfilling the prompt's requirements:\n",
       "\n",
       "**Image:** Alex Mercer, Jordan Hayes, silhouetted against Dulce Base's glowing entrance, a cosmic signal pulsing behind them.\n",
       "\n",
       "**Words:**  Dulce Base:  First contact.  A battle for humanity's future.\n"
      ],
      "text/plain": [
       "<IPython.core.display.Markdown object>"
      ]
     },
     "metadata": {},
     "output_type": "display_data"
    }
   ],
   "source": [
    "\n",
    "\n",
    "\n",
    "q = \"\"\"\n",
    "    Based on Alex Mercer strongest relationships and the places most important to the plot choose a\n",
    "    scene that is the most emotionally charged and important to make the cover of the book. \n",
    "   Describe this cover in 20 words or less.\n",
    "\"\"\"\n",
    "await process_and_display_RAG_comparison(model,q,the_attached_file)\n",
    "\n"
   ]
  },
  {
   "cell_type": "code",
   "execution_count": 22,
   "id": "7512492a-5757-4b0d-890a-1f6370825b61",
   "metadata": {},
   "outputs": [
    {
     "name": "stdout",
     "output_type": "stream",
     "text": [
      "\n",
      "\n",
      "\n",
      "\n",
      " ------ STD RAG -------------------------\n",
      "\n",
      "\n",
      "\n",
      "\n"
     ]
    },
    {
     "data": {
      "text/markdown": [
       "The most emotionally charged and important scene for the book cover, considering Alex Mercer's strongest relationships and key plot locations, would be the moment in the Dulce Base command center when the team first establishes a reciprocal, responsive communication with the alien intelligence.  This scene encapsulates several key elements:\n",
       "\n",
       "* **Strongest Relationships:** The cover would show Alex Mercer, Jordan Hayes, Taylor Cruz, and Sam Rivera together, highlighting their collaborative effort and the bonds forged under pressure. The scene emphasizes their unity amidst the unknown.\n",
       "\n",
       "* **Key Plot Location:** The Dulce Base command center is a central location throughout the story, symbolizing the heart of the mystery and the site of their crucial breakthrough.\n",
       "\n",
       "* **Emotional Charge:** This moment is the culmination of their efforts, the point where they move beyond passive observation to active communication with an extraterrestrial intelligence. The emotional charge comes from the uncertainty, the risk, and the sheer enormity of the achievement. It is the point of no return, where their actions will irrevocably shape the future.\n",
       "\n",
       "\n",
       "**8-bit Video Game Cover Art Description:**\n",
       "\n",
       "The cover art would be rendered in a classic 8-bit style, reminiscent of early NES or SNES games.\n",
       "\n",
       "* **Background:** A stylized, pixelated representation of the Dulce Base command center.  The walls would be dark grey/blue blocks, with various shades of grey and blue used to suggest depth and texture.  The consoles would be brightly colored rectangles with pixelated lights flashing on and off in different colors (greens, blues, reds).  There could be a subtle pixelated starfield visible through a partially transparent window, suggesting the extraterrestrial connection.\n",
       "\n",
       "* **Characters:** Alex Mercer would be positioned slightly forward, central, depicted as a slightly taller, more detailed sprite than the others, showing his leadership role. He could be holding a handheld device or a console controller, suggesting active participation in communication. Jordan Hayes, Taylor Cruz, and Sam Rivera would be positioned slightly behind Alex, with slightly smaller sprites, suggesting a team working in unison.  Each would have unique color palettes (Jordan could be teal, Taylor maybe purple, Sam perhaps bright orange) to distinguish them easily.  They would each be interacting with their respective consoles or displays.\n",
       "\n",
       "* **Alien Signal:** The alien signal could be represented as a stream of vividly colored pixels flowing from a console or screen toward the characters, creating a visual bridge between them and the extraterrestrial intelligence. The colors should be vibrant and slightly otherworldly (think purples, pinks, and electric blues).\n",
       "\n",
       "* **Title:**  \"Operation: Dulce\" would be displayed at the top in a bold, pixelated 8-bit font, possibly with a subtitle beneath like \"First Contact.\"\n",
       "\n",
       "* **Overall Style:** The palette would be a blend of dark and bright colors, creating a sense of both tension and excitement.  The pixel art style would be crisp and clean, with a focus on clear silhouettes and contrasting colors to make the characters and the key elements of the scene stand out.  The overall mood would be one of anticipation, mystery, and slight apprehension, reflecting the essence of the story.\n"
      ],
      "text/plain": [
       "<IPython.core.display.Markdown object>"
      ]
     },
     "metadata": {},
     "output_type": "display_data"
    },
    {
     "name": "stdout",
     "output_type": "stream",
     "text": [
      "------ GRAPH RAG -------------------------\n",
      "\n"
     ]
    },
    {
     "data": {
      "text/markdown": [
       "Here's a description of an 8-bit video game style book cover, based on the provided text and knowledge graph:\n",
       "\n",
       "\n",
       "**Book Cover Title:** Operation: Dulce\n",
       "\n",
       "\n",
       "**Style:** 8-bit pixel art, reminiscent of classic NES or SNES RPGs.\n",
       "\n",
       "\n",
       "**Scene Depicted:** The cover art depicts the climax of the novel, where the team is in the Dulce Base command center engaging in their first interstellar communication.\n",
       "\n",
       "\n",
       "**Elements:**\n",
       "\n",
       "* **Background:** A pixelated depiction of the Dulce Base command center.  Use a dark blue/grey color palette for the walls and floors. Monitors displaying streams of alien code should dominate the background, using various shades of green and blue pixels to create a sense of technology and mystery.  A few flickering pixels suggest the power surges described.\n",
       "\n",
       "* **Characters:**\n",
       "\n",
       "    * **Alex Mercer:**  In the center foreground, slightly larger than the other characters to denote his leadership.  Depict him in pixelated 8-bit military attire (dark green jacket, darker pants) looking intently at a monitor, holding his rifle loosely, suggesting a balance of readiness and focused engagement.  Give him a determined expression with fairly detailed pixel eyes.\n",
       "\n",
       "    * **Jordan Hayes:** To Alex's left, slightly smaller but still prominent. They are dressed in more scientific attire (a white lab coat).  Their head is tilted toward a monitor, highlighting their role in deciphering the alien code, and their expression shows intense concentration.\n",
       "\n",
       "    * **Taylor Cruz:**  To Alex's right, slightly smaller and similarly outfitted as Alex but with more angular features to reflect their more severe personality. Their expression shows a blend of apprehension and calculated determination.\n",
       "\n",
       "    * **Sam Rivera:**  Smaller than the others, positioned slightly behind and between Alex and Taylor, hunched over a computer console displaying alien symbols. Their 8-bit design could include bright, colorful clothes to represent their youthful energy and tech-savvy nature. Their expression could be one of excited concentration.\n",
       "\n",
       "* **Color Palette:** Primarily dark blues, greens, and greys for the background and characters' attire, representing the shadowy base. Brighter greens, blues, and possibly yellows should be used for the monitors to highlight the alien code.\n",
       "\n",
       "\n",
       "**Overall Impression:** The cover should evoke a sense of mystery, tension, and impending discovery. The pixel art style should be clean and well-defined, avoiding too much detail to maintain the 8-bit aesthetic. The limited color palette should enhance the mood and style.  The overall scene should focus on the team in the midst of interaction with alien intelligence, highlighting both the excitement and the danger. The title \"Operation: Dulce\" should be prominently displayed in a classic 8-bit font, possibly with a pixelated glow effect.\n"
      ],
      "text/plain": [
       "<IPython.core.display.Markdown object>"
      ]
     },
     "metadata": {},
     "output_type": "display_data"
    }
   ],
   "source": [
    "\n",
    "\n",
    "q = \"\"\"Based on Alex Mercer strongest relationships and the places most important to the plot choose a\n",
    "    scene that is the most emotionally charged and important to make the cover of the book. \n",
    "   Draw this cover in the syle of an 8-bit video game.\n",
    "\"\"\"\n",
    "await process_and_display_RAG_comparison(model,q,the_attached_file)\n"
   ]
  },
  {
   "cell_type": "code",
   "execution_count": 80,
   "id": "cb987247-629d-48ba-8457-1d1fc8b2f53b",
   "metadata": {},
   "outputs": [
    {
     "ename": "NotFound",
     "evalue": "404 models/imagen-3.0-generate-001 is not found for API version v1beta, or is not supported for predict. Call ListModels to see the list of available models and their supported methods.",
     "output_type": "error",
     "traceback": [
      "\u001b[0;31m---------------------------------------------------------------------------\u001b[0m",
      "\u001b[0;31m_InactiveRpcError\u001b[0m                         Traceback (most recent call last)",
      "File \u001b[0;32m/Library/Frameworks/Python.framework/Versions/3.12/lib/python3.12/site-packages/google/api_core/grpc_helpers.py:76\u001b[0m, in \u001b[0;36m_wrap_unary_errors.<locals>.error_remapped_callable\u001b[0;34m(*args, **kwargs)\u001b[0m\n\u001b[1;32m     75\u001b[0m \u001b[38;5;28;01mtry\u001b[39;00m:\n\u001b[0;32m---> 76\u001b[0m     \u001b[38;5;28;01mreturn\u001b[39;00m \u001b[43mcallable_\u001b[49m\u001b[43m(\u001b[49m\u001b[38;5;241;43m*\u001b[39;49m\u001b[43margs\u001b[49m\u001b[43m,\u001b[49m\u001b[43m \u001b[49m\u001b[38;5;241;43m*\u001b[39;49m\u001b[38;5;241;43m*\u001b[39;49m\u001b[43mkwargs\u001b[49m\u001b[43m)\u001b[49m\n\u001b[1;32m     77\u001b[0m \u001b[38;5;28;01mexcept\u001b[39;00m grpc\u001b[38;5;241m.\u001b[39mRpcError \u001b[38;5;28;01mas\u001b[39;00m exc:\n",
      "File \u001b[0;32m/Library/Frameworks/Python.framework/Versions/3.12/lib/python3.12/site-packages/grpc/_channel.py:1181\u001b[0m, in \u001b[0;36m_UnaryUnaryMultiCallable.__call__\u001b[0;34m(self, request, timeout, metadata, credentials, wait_for_ready, compression)\u001b[0m\n\u001b[1;32m   1175\u001b[0m (\n\u001b[1;32m   1176\u001b[0m     state,\n\u001b[1;32m   1177\u001b[0m     call,\n\u001b[1;32m   1178\u001b[0m ) \u001b[38;5;241m=\u001b[39m \u001b[38;5;28mself\u001b[39m\u001b[38;5;241m.\u001b[39m_blocking(\n\u001b[1;32m   1179\u001b[0m     request, timeout, metadata, credentials, wait_for_ready, compression\n\u001b[1;32m   1180\u001b[0m )\n\u001b[0;32m-> 1181\u001b[0m \u001b[38;5;28;01mreturn\u001b[39;00m \u001b[43m_end_unary_response_blocking\u001b[49m\u001b[43m(\u001b[49m\u001b[43mstate\u001b[49m\u001b[43m,\u001b[49m\u001b[43m \u001b[49m\u001b[43mcall\u001b[49m\u001b[43m,\u001b[49m\u001b[43m \u001b[49m\u001b[38;5;28;43;01mFalse\u001b[39;49;00m\u001b[43m,\u001b[49m\u001b[43m \u001b[49m\u001b[38;5;28;43;01mNone\u001b[39;49;00m\u001b[43m)\u001b[49m\n",
      "File \u001b[0;32m/Library/Frameworks/Python.framework/Versions/3.12/lib/python3.12/site-packages/grpc/_channel.py:1006\u001b[0m, in \u001b[0;36m_end_unary_response_blocking\u001b[0;34m(state, call, with_call, deadline)\u001b[0m\n\u001b[1;32m   1005\u001b[0m \u001b[38;5;28;01melse\u001b[39;00m:\n\u001b[0;32m-> 1006\u001b[0m     \u001b[38;5;28;01mraise\u001b[39;00m _InactiveRpcError(state)\n",
      "\u001b[0;31m_InactiveRpcError\u001b[0m: <_InactiveRpcError of RPC that terminated with:\n\tstatus = StatusCode.NOT_FOUND\n\tdetails = \"models/imagen-3.0-generate-001 is not found for API version v1beta, or is not supported for predict. Call ListModels to see the list of available models and their supported methods.\"\n\tdebug_error_string = \"UNKNOWN:Error received from peer ipv4:142.251.32.106:443 {created_time:\"2025-01-13T12:07:13.20065-05:00\", grpc_status:5, grpc_message:\"models/imagen-3.0-generate-001 is not found for API version v1beta, or is not supported for predict. Call ListModels to see the list of available models and their supported methods.\"}\"\n>",
      "\nThe above exception was the direct cause of the following exception:\n",
      "\u001b[0;31mNotFound\u001b[0m                                  Traceback (most recent call last)",
      "Cell \u001b[0;32mIn[80], line 3\u001b[0m\n\u001b[1;32m      1\u001b[0m imagen \u001b[38;5;241m=\u001b[39m genai\u001b[38;5;241m.\u001b[39mImageGenerationModel(\u001b[38;5;124m\"\u001b[39m\u001b[38;5;124mimagen-3.0-generate-001\u001b[39m\u001b[38;5;124m\"\u001b[39m)\n\u001b[0;32m----> 3\u001b[0m result \u001b[38;5;241m=\u001b[39m \u001b[43mimagen\u001b[49m\u001b[38;5;241;43m.\u001b[39;49m\u001b[43mgenerate_images\u001b[49m\u001b[43m(\u001b[49m\n\u001b[1;32m      4\u001b[0m \u001b[43m    \u001b[49m\u001b[43mprompt\u001b[49m\u001b[38;5;241;43m=\u001b[39;49m\u001b[38;5;124;43m\"\u001b[39;49m\u001b[38;5;124;43mFuzzy bunnies in my kitchen\u001b[39;49m\u001b[38;5;124;43m\"\u001b[39;49m\u001b[43m,\u001b[49m\n\u001b[1;32m      5\u001b[0m \u001b[43m    \u001b[49m\u001b[43mnumber_of_images\u001b[49m\u001b[38;5;241;43m=\u001b[39;49m\u001b[38;5;241;43m4\u001b[39;49m\u001b[43m,\u001b[49m\n\u001b[1;32m      6\u001b[0m \u001b[43m    \u001b[49m\u001b[43msafety_filter_level\u001b[49m\u001b[38;5;241;43m=\u001b[39;49m\u001b[38;5;124;43m\"\u001b[39;49m\u001b[38;5;124;43mblock_only_high\u001b[39;49m\u001b[38;5;124;43m\"\u001b[39;49m\u001b[43m,\u001b[49m\n\u001b[1;32m      7\u001b[0m \u001b[43m    \u001b[49m\u001b[43mperson_generation\u001b[49m\u001b[38;5;241;43m=\u001b[39;49m\u001b[38;5;124;43m\"\u001b[39;49m\u001b[38;5;124;43mallow_adult\u001b[39;49m\u001b[38;5;124;43m\"\u001b[39;49m\u001b[43m,\u001b[49m\n\u001b[1;32m      8\u001b[0m \u001b[43m    \u001b[49m\u001b[43maspect_ratio\u001b[49m\u001b[38;5;241;43m=\u001b[39;49m\u001b[38;5;124;43m\"\u001b[39;49m\u001b[38;5;124;43m3:4\u001b[39;49m\u001b[38;5;124;43m\"\u001b[39;49m\u001b[43m,\u001b[49m\n\u001b[1;32m      9\u001b[0m \u001b[43m    \u001b[49m\u001b[43mnegative_prompt\u001b[49m\u001b[38;5;241;43m=\u001b[39;49m\u001b[38;5;124;43m\"\u001b[39;49m\u001b[38;5;124;43mOutside\u001b[39;49m\u001b[38;5;124;43m\"\u001b[39;49m\u001b[43m,\u001b[49m\n\u001b[1;32m     10\u001b[0m \u001b[43m)\u001b[49m\n\u001b[1;32m     12\u001b[0m \u001b[38;5;28;01mfor\u001b[39;00m image \u001b[38;5;129;01min\u001b[39;00m result\u001b[38;5;241m.\u001b[39mimages:\n\u001b[1;32m     13\u001b[0m   \u001b[38;5;28mprint\u001b[39m(image)\n",
      "File \u001b[0;32m/Library/Frameworks/Python.framework/Versions/3.12/lib/python3.12/site-packages/google/generativeai/vision_models/_vision_models.py:243\u001b[0m, in \u001b[0;36mImageGenerationModel.generate_images\u001b[0;34m(self, prompt, negative_prompt, number_of_images, aspect_ratio, guidance_scale, language, safety_filter_level, person_generation)\u001b[0m\n\u001b[1;32m    196\u001b[0m \u001b[38;5;28;01mdef\u001b[39;00m \u001b[38;5;21mgenerate_images\u001b[39m(\n\u001b[1;32m    197\u001b[0m     \u001b[38;5;28mself\u001b[39m,\n\u001b[1;32m    198\u001b[0m     prompt: \u001b[38;5;28mstr\u001b[39m,\n\u001b[0;32m   (...)\u001b[0m\n\u001b[1;32m    206\u001b[0m     person_generation: Optional[PersonGeneration] \u001b[38;5;241m=\u001b[39m \u001b[38;5;28;01mNone\u001b[39;00m,\n\u001b[1;32m    207\u001b[0m ) \u001b[38;5;241m-\u001b[39m\u001b[38;5;241m>\u001b[39m \u001b[38;5;124m\"\u001b[39m\u001b[38;5;124mImageGenerationResponse\u001b[39m\u001b[38;5;124m\"\u001b[39m:\n\u001b[1;32m    208\u001b[0m \u001b[38;5;250m    \u001b[39m\u001b[38;5;124;03m\"\"\"Generates images from text prompt.\u001b[39;00m\n\u001b[1;32m    209\u001b[0m \n\u001b[1;32m    210\u001b[0m \u001b[38;5;124;03m    Args:\u001b[39;00m\n\u001b[0;32m   (...)\u001b[0m\n\u001b[1;32m    241\u001b[0m \u001b[38;5;124;03m        An `ImageGenerationResponse` object.\u001b[39;00m\n\u001b[1;32m    242\u001b[0m \u001b[38;5;124;03m    \"\"\"\u001b[39;00m\n\u001b[0;32m--> 243\u001b[0m     \u001b[38;5;28;01mreturn\u001b[39;00m \u001b[38;5;28;43mself\u001b[39;49m\u001b[38;5;241;43m.\u001b[39;49m\u001b[43m_generate_images\u001b[49m\u001b[43m(\u001b[49m\n\u001b[1;32m    244\u001b[0m \u001b[43m        \u001b[49m\u001b[43mprompt\u001b[49m\u001b[38;5;241;43m=\u001b[39;49m\u001b[43mprompt\u001b[49m\u001b[43m,\u001b[49m\n\u001b[1;32m    245\u001b[0m \u001b[43m        \u001b[49m\u001b[43mnegative_prompt\u001b[49m\u001b[38;5;241;43m=\u001b[39;49m\u001b[43mnegative_prompt\u001b[49m\u001b[43m,\u001b[49m\n\u001b[1;32m    246\u001b[0m \u001b[43m        \u001b[49m\u001b[43mnumber_of_images\u001b[49m\u001b[38;5;241;43m=\u001b[39;49m\u001b[43mnumber_of_images\u001b[49m\u001b[43m,\u001b[49m\n\u001b[1;32m    247\u001b[0m \u001b[43m        \u001b[49m\u001b[43maspect_ratio\u001b[49m\u001b[38;5;241;43m=\u001b[39;49m\u001b[43maspect_ratio\u001b[49m\u001b[43m,\u001b[49m\n\u001b[1;32m    248\u001b[0m \u001b[43m        \u001b[49m\u001b[43mguidance_scale\u001b[49m\u001b[38;5;241;43m=\u001b[39;49m\u001b[43mguidance_scale\u001b[49m\u001b[43m,\u001b[49m\n\u001b[1;32m    249\u001b[0m \u001b[43m        \u001b[49m\u001b[43mlanguage\u001b[49m\u001b[38;5;241;43m=\u001b[39;49m\u001b[43mlanguage\u001b[49m\u001b[43m,\u001b[49m\n\u001b[1;32m    250\u001b[0m \u001b[43m        \u001b[49m\u001b[43msafety_filter_level\u001b[49m\u001b[38;5;241;43m=\u001b[39;49m\u001b[43msafety_filter_level\u001b[49m\u001b[43m,\u001b[49m\n\u001b[1;32m    251\u001b[0m \u001b[43m        \u001b[49m\u001b[43mperson_generation\u001b[49m\u001b[38;5;241;43m=\u001b[39;49m\u001b[43mperson_generation\u001b[49m\u001b[43m,\u001b[49m\n\u001b[1;32m    252\u001b[0m \u001b[43m    \u001b[49m\u001b[43m)\u001b[49m\n",
      "File \u001b[0;32m/Library/Frameworks/Python.framework/Versions/3.12/lib/python3.12/site-packages/google/generativeai/vision_models/_vision_models.py:179\u001b[0m, in \u001b[0;36mImageGenerationModel._generate_images\u001b[0;34m(self, prompt, negative_prompt, number_of_images, width, height, aspect_ratio, guidance_scale, output_mime_type, compression_quality, language, safety_filter_level, person_generation)\u001b[0m\n\u001b[1;32m    176\u001b[0m     parameters[\u001b[38;5;124m\"\u001b[39m\u001b[38;5;124mpersonGeneration\u001b[39m\u001b[38;5;124m\"\u001b[39m] \u001b[38;5;241m=\u001b[39m person_generation\n\u001b[1;32m    177\u001b[0m     shared_generation_parameters[\u001b[38;5;124m\"\u001b[39m\u001b[38;5;124mperson_generation\u001b[39m\u001b[38;5;124m\"\u001b[39m] \u001b[38;5;241m=\u001b[39m person_generation\n\u001b[0;32m--> 179\u001b[0m response \u001b[38;5;241m=\u001b[39m \u001b[38;5;28;43mself\u001b[39;49m\u001b[38;5;241;43m.\u001b[39;49m\u001b[43m_client\u001b[49m\u001b[38;5;241;43m.\u001b[39;49m\u001b[43mpredict\u001b[49m\u001b[43m(\u001b[49m\n\u001b[1;32m    180\u001b[0m \u001b[43m    \u001b[49m\u001b[43mmodel\u001b[49m\u001b[38;5;241;43m=\u001b[39;49m\u001b[38;5;28;43mself\u001b[39;49m\u001b[38;5;241;43m.\u001b[39;49m\u001b[43mmodel_name\u001b[49m\u001b[43m,\u001b[49m\u001b[43m \u001b[49m\u001b[43minstances\u001b[49m\u001b[38;5;241;43m=\u001b[39;49m\u001b[43m[\u001b[49m\u001b[43minstance\u001b[49m\u001b[43m]\u001b[49m\u001b[43m,\u001b[49m\u001b[43m \u001b[49m\u001b[43mparameters\u001b[49m\u001b[38;5;241;43m=\u001b[39;49m\u001b[43mparameters\u001b[49m\n\u001b[1;32m    181\u001b[0m \u001b[43m\u001b[49m\u001b[43m)\u001b[49m\n\u001b[1;32m    183\u001b[0m generated_images: List[image_types\u001b[38;5;241m.\u001b[39mGeneratedImage] \u001b[38;5;241m=\u001b[39m []\n\u001b[1;32m    184\u001b[0m \u001b[38;5;28;01mfor\u001b[39;00m idx, prediction \u001b[38;5;129;01min\u001b[39;00m \u001b[38;5;28menumerate\u001b[39m(response\u001b[38;5;241m.\u001b[39mpredictions):\n",
      "File \u001b[0;32m/Library/Frameworks/Python.framework/Versions/3.12/lib/python3.12/site-packages/google/generativeai/client.py:191\u001b[0m, in \u001b[0;36mPredictionServiceClient.predict\u001b[0;34m(self, model, instances, parameters)\u001b[0m\n\u001b[1;32m    187\u001b[0m pr \u001b[38;5;241m=\u001b[39m protos\u001b[38;5;241m.\u001b[39mPredictRequest\u001b[38;5;241m.\u001b[39mpb()\n\u001b[1;32m    188\u001b[0m request \u001b[38;5;241m=\u001b[39m pr(\n\u001b[1;32m    189\u001b[0m     model\u001b[38;5;241m=\u001b[39mmodel, instances\u001b[38;5;241m=\u001b[39m[to_value(i) \u001b[38;5;28;01mfor\u001b[39;00m i \u001b[38;5;129;01min\u001b[39;00m instances], parameters\u001b[38;5;241m=\u001b[39mto_value(parameters)\n\u001b[1;32m    190\u001b[0m )\n\u001b[0;32m--> 191\u001b[0m \u001b[38;5;28;01mreturn\u001b[39;00m \u001b[38;5;28;43msuper\u001b[39;49m\u001b[43m(\u001b[49m\u001b[43m)\u001b[49m\u001b[38;5;241;43m.\u001b[39;49m\u001b[43mpredict\u001b[49m\u001b[43m(\u001b[49m\u001b[43mrequest\u001b[49m\u001b[43m)\u001b[49m\n",
      "File \u001b[0;32m/Library/Frameworks/Python.framework/Versions/3.12/lib/python3.12/site-packages/google/ai/generativelanguage_v1beta/services/prediction_service/client.py:785\u001b[0m, in \u001b[0;36mPredictionServiceClient.predict\u001b[0;34m(self, request, model, instances, retry, timeout, metadata)\u001b[0m\n\u001b[1;32m    782\u001b[0m \u001b[38;5;28mself\u001b[39m\u001b[38;5;241m.\u001b[39m_validate_universe_domain()\n\u001b[1;32m    784\u001b[0m \u001b[38;5;66;03m# Send the request.\u001b[39;00m\n\u001b[0;32m--> 785\u001b[0m response \u001b[38;5;241m=\u001b[39m \u001b[43mrpc\u001b[49m\u001b[43m(\u001b[49m\n\u001b[1;32m    786\u001b[0m \u001b[43m    \u001b[49m\u001b[43mrequest\u001b[49m\u001b[43m,\u001b[49m\n\u001b[1;32m    787\u001b[0m \u001b[43m    \u001b[49m\u001b[43mretry\u001b[49m\u001b[38;5;241;43m=\u001b[39;49m\u001b[43mretry\u001b[49m\u001b[43m,\u001b[49m\n\u001b[1;32m    788\u001b[0m \u001b[43m    \u001b[49m\u001b[43mtimeout\u001b[49m\u001b[38;5;241;43m=\u001b[39;49m\u001b[43mtimeout\u001b[49m\u001b[43m,\u001b[49m\n\u001b[1;32m    789\u001b[0m \u001b[43m    \u001b[49m\u001b[43mmetadata\u001b[49m\u001b[38;5;241;43m=\u001b[39;49m\u001b[43mmetadata\u001b[49m\u001b[43m,\u001b[49m\n\u001b[1;32m    790\u001b[0m \u001b[43m\u001b[49m\u001b[43m)\u001b[49m\n\u001b[1;32m    792\u001b[0m \u001b[38;5;66;03m# Done; return the response.\u001b[39;00m\n\u001b[1;32m    793\u001b[0m \u001b[38;5;28;01mreturn\u001b[39;00m response\n",
      "File \u001b[0;32m/Library/Frameworks/Python.framework/Versions/3.12/lib/python3.12/site-packages/google/api_core/gapic_v1/method.py:131\u001b[0m, in \u001b[0;36m_GapicCallable.__call__\u001b[0;34m(self, timeout, retry, compression, *args, **kwargs)\u001b[0m\n\u001b[1;32m    128\u001b[0m \u001b[38;5;28;01mif\u001b[39;00m \u001b[38;5;28mself\u001b[39m\u001b[38;5;241m.\u001b[39m_compression \u001b[38;5;129;01mis\u001b[39;00m \u001b[38;5;129;01mnot\u001b[39;00m \u001b[38;5;28;01mNone\u001b[39;00m:\n\u001b[1;32m    129\u001b[0m     kwargs[\u001b[38;5;124m\"\u001b[39m\u001b[38;5;124mcompression\u001b[39m\u001b[38;5;124m\"\u001b[39m] \u001b[38;5;241m=\u001b[39m compression\n\u001b[0;32m--> 131\u001b[0m \u001b[38;5;28;01mreturn\u001b[39;00m \u001b[43mwrapped_func\u001b[49m\u001b[43m(\u001b[49m\u001b[38;5;241;43m*\u001b[39;49m\u001b[43margs\u001b[49m\u001b[43m,\u001b[49m\u001b[43m \u001b[49m\u001b[38;5;241;43m*\u001b[39;49m\u001b[38;5;241;43m*\u001b[39;49m\u001b[43mkwargs\u001b[49m\u001b[43m)\u001b[49m\n",
      "File \u001b[0;32m/Library/Frameworks/Python.framework/Versions/3.12/lib/python3.12/site-packages/google/api_core/grpc_helpers.py:78\u001b[0m, in \u001b[0;36m_wrap_unary_errors.<locals>.error_remapped_callable\u001b[0;34m(*args, **kwargs)\u001b[0m\n\u001b[1;32m     76\u001b[0m     \u001b[38;5;28;01mreturn\u001b[39;00m callable_(\u001b[38;5;241m*\u001b[39margs, \u001b[38;5;241m*\u001b[39m\u001b[38;5;241m*\u001b[39mkwargs)\n\u001b[1;32m     77\u001b[0m \u001b[38;5;28;01mexcept\u001b[39;00m grpc\u001b[38;5;241m.\u001b[39mRpcError \u001b[38;5;28;01mas\u001b[39;00m exc:\n\u001b[0;32m---> 78\u001b[0m     \u001b[38;5;28;01mraise\u001b[39;00m exceptions\u001b[38;5;241m.\u001b[39mfrom_grpc_error(exc) \u001b[38;5;28;01mfrom\u001b[39;00m \u001b[38;5;21;01mexc\u001b[39;00m\n",
      "\u001b[0;31mNotFound\u001b[0m: 404 models/imagen-3.0-generate-001 is not found for API version v1beta, or is not supported for predict. Call ListModels to see the list of available models and their supported methods."
     ]
    }
   ],
   "source": [
    "\n",
    "#unfortunately we don't have access to imagen yet unless you are on the beta testing team.. leaving this here for future\n",
    "imagen = genai.ImageGenerationModel(\"imagen-3.0-generate-001\")\n",
    "\n",
    "result = imagen.generate_images(\n",
    "    prompt=\"Fuzzy bunnies in my kitchen\",\n",
    "    number_of_images=4,\n",
    "    safety_filter_level=\"block_only_high\",\n",
    "    person_generation=\"allow_adult\",\n",
    "    aspect_ratio=\"3:4\",\n",
    "    negative_prompt=\"Outside\",\n",
    ")\n",
    "\n",
    "for image in result.images:\n",
    "  print(image)\n",
    "\n",
    "# Open and display the image using your local operating system.\n",
    "for image in result.images:\n",
    "  image._pil_image.show()\n",
    "\n",
    "\n",
    "\n"
   ]
  },
  {
   "cell_type": "code",
   "execution_count": 23,
   "id": "e773be1c-91ca-4120-b5a1-43c9d75a36ef",
   "metadata": {},
   "outputs": [
    {
     "name": "stdout",
     "output_type": "stream",
     "text": [
      "\n",
      "\n",
      "\n",
      "\n",
      " ------ STD RAG -------------------------\n",
      "\n",
      "\n",
      "\n",
      "\n"
     ]
    },
    {
     "data": {
      "text/markdown": [
       "Based on the provided text, the most emotionally charged and important scene for the book cover, focusing on Alex Mercer's strongest relationships and key plot locations, would be the final scene in Chapter 15. This is where the team successfully establishes a back-and-forth communication with the alien intelligence.  It marks the culmination of their efforts, showcasing the team's unity and the momentous nature of their achievement.  The Dulce Base command center serves as a crucial location throughout the plot.\n",
       "\n",
       "I can't actually *draw* the cover using Imagen-3, as I am a text-based AI.  However, I can provide you with a description suitable for prompting Imagen-3 to generate the 8-bit artwork:\n",
       "\n",
       "\n",
       "**Imagen-3 Prompt:**\n",
       "\n",
       "\"8-bit video game cover art.  Title: Operation: Dulce.  Scene: Four characters, Alex Mercer (leader, determined expression), Jordan Hayes (scientist, focused expression), Taylor Cruz (military officer, serious expression), Sam Rivera (tech expert, excited expression) huddled around a bank of glowing 8-bit computer monitors in a dimly lit underground Dulce base command center.  Monitors display a mix of complex alien symbols and human data. Pixel art style, reminiscent of classic NES or SNES games.  Color palette: dark blues, greens, and accented with bright glowing colors from the monitors. Dramatic lighting.  Include a small spaceship icon in the upper right corner.  Text should be bold and easily legible.\"\n",
       "\n",
       "\n",
       "This prompt should give Imagen-3 enough information to generate a compelling 8-bit style cover image capturing the essence of the climax of the story. Remember to experiment with different keywords and variations of this prompt to achieve your desired aesthetic.\n"
      ],
      "text/plain": [
       "<IPython.core.display.Markdown object>"
      ]
     },
     "metadata": {},
     "output_type": "display_data"
    },
    {
     "name": "stdout",
     "output_type": "stream",
     "text": [
      "------ GRAPH RAG -------------------------\n",
      "\n"
     ]
    },
    {
     "data": {
      "text/markdown": [
       "Here's a description of a book cover scene, suitable for an 8-bit video game style, based on the provided text and knowledge graph:\n",
       "\n",
       "\n",
       "**Scene Choice:** The most emotionally charged and important scene, considering Alex Mercer's strongest relationships (Jordan Hayes and Sam Rivera) and key locations (Dulce Base), is the moment in the Dulce Base command center when the team first successfully receives and interprets a clear message from the alien intelligence. This moment represents the culmination of their efforts, the beginning of interspecies communication, and a turning point in the narrative, full of hope and apprehension.\n",
       "\n",
       "\n",
       "**Book Cover Description (8-bit style):**\n",
       "\n",
       "The cover depicts a pixelated scene within the Dulce Base command center.  \n",
       "\n",
       "* **Foreground:** Alex Mercer (sprite with determined expression, perhaps holding a data pad) stands slightly behind and to the side of Jordan Hayes, who is hunched over a brightly glowing terminal displaying pixelated alien symbols. Sam Rivera is visible in the background, partially obscured, working on their own console that displays cascading code.\n",
       "\n",
       "* **Background:** The command center is depicted in a dark, 8-bit style, with simple pixelated representations of consoles and monitors showing various screens of data.  There's a hint of a metallic, underground texture to the walls.   The style should aim for a retro feel, reminiscent of classic 8-bit RPGs.\n",
       "\n",
       "* **Color Palette:**  A limited palette of colors should be used: dark blues and greys for the background, bright blue, green, and perhaps a hint of orange for the consoles and monitors. Alex’s sprite could be in shades of khaki or grey.  The alien symbols could use a striking color, maybe purple or red, to stand out.\n",
       "\n",
       "\n",
       "* **Title:**  \"Operation: Dulce\" in a bold, pixelated font that evokes 8-bit game titles.   The subtitle could be something like \"First Contact\" or \"The Song of the Stars.\"\n",
       "\n",
       "\n",
       "* **Overall Feel:**  The image should convey a sense of both tension and wonder, hinting at the momentous nature of the event depicted.  The pixel art style should be crisp and clear, emphasizing the retro aesthetic.\n",
       "\n",
       "\n",
       "**Imagen prompt (Example):**\n",
       "\n",
       "\"8-bit pixel art book cover, retro RPG style, dark blue background, title 'Operation: Dulce' in bold pixel font, subtitle 'First Contact', scene: dimly lit command center, Alex Mercer (khaki/grey pixel sprite, determined) slightly behind Jordan Hayes (pixel sprite, focused on glowing blue terminal showing pixelated purple alien symbols), Sam Rivera (pixel sprite, working at console displaying cascading green code in background), metallic texture on walls.\"\n",
       "\n",
       "\n",
       "This prompt can be further refined to get the desired level of detail and style using Imagen or similar image generation tools.  Remember to experiment with different keywords to achieve the specific visual representation you're aiming for.  The key is to evoke the retro 8-bit feel while maintaining clarity and storytelling in the image itself.\n"
      ],
      "text/plain": [
       "<IPython.core.display.Markdown object>"
      ]
     },
     "metadata": {},
     "output_type": "display_data"
    }
   ],
   "source": [
    "\n",
    "q = \"\"\"Based on Alex Mercer strongest relationships and the places most important to the plot choose a\n",
    "    scene that is the most emotionally charged and important to make the cover of the book. \n",
    "   Draw this cover in the syle of an 8-bit video game using imagen3.\n",
    "\"\"\"\n",
    "await process_and_display_RAG_comparison(model,q,the_attached_file)\n",
    "\n",
    "\n",
    "\n"
   ]
  },
  {
   "cell_type": "code",
   "execution_count": null,
   "id": "702ae4a6-3f21-4342-a21f-546b59241306",
   "metadata": {},
   "outputs": [],
   "source": []
  }
 ],
 "metadata": {
  "kernelspec": {
   "display_name": "Python 3 (ipykernel)",
   "language": "python",
   "name": "python3"
  },
  "language_info": {
   "codemirror_mode": {
    "name": "ipython",
    "version": 3
   },
   "file_extension": ".py",
   "mimetype": "text/x-python",
   "name": "python",
   "nbconvert_exporter": "python",
   "pygments_lexer": "ipython3",
   "version": "3.12.7"
  }
 },
 "nbformat": 4,
 "nbformat_minor": 5
}
