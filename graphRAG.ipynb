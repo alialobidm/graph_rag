{
 "cells": [
  {
   "cell_type": "markdown",
   "id": "e8b9fa04-4278-4d6e-9947-4a21ea14e730",
   "metadata": {},
   "source": [
    "# Using a SurrealDB Knowedge Graph and Gemini to build a Graph-RAG \n",
    "\n",
    "This Jupyter Notebook illustrates the implementation and utilization of a graph-based Retrieval-Augmented Generation (RAG) system using a knowledge graph stored in SurrealDB. It focuses on leveraging the knowledge graph created by the graph_extractor.ipynb notebook for question answering tasks.\n",
    "\n",
    "### Key Functionality\n",
    "####  Data Loading:\n",
    "        Loads the raw text data from which will be used for context in the prompt.\n",
    "\n",
    "#### Leveraging the Existing Knowledge Graph:\n",
    "\n",
    "        Create a SurrQL function to query the knowledge graph using vector search for the descriptions of the entities and the other entities and relationships they have in the graph. This data will also be fed into the prompt for context.\n",
    "\n",
    "        \n",
    "#### Response Generation without a knowledge graph:\n",
    "    Using a template prompt in the RAG_prompts.py file a simple context window of the text data loaded earlier with the question is asked of the LLM model.\n",
    "\n",
    "    \n",
    "\n",
    "#### Response Generation with knowledge graph:\n",
    "    Using a template prompt in the RAG_prompts.py file a context window of the text data loaded earlier, plus the graph data retrieved from SurrealDB with the question is asked of the LLM model.\n",
    "\n",
    "\n",
    "##### notes:\n",
    "    This notebook utilizes libraries :\n",
    "        surrealdb to interact with SurrealDB\n",
    "        google.generativeai to interact with Gemini\n",
    "        networkx to visualize the graph\n",
    "\n",
    "    The notebook is loosely based on a larger repository microsoft/graphrag. The microsoft/graphrag repository provides a more comprehensive, modular graph-based RAG system. This notebook focuses specifically on the knowledge graph construction aspect."
   ]
  },
  {
   "cell_type": "code",
   "execution_count": 1,
   "id": "04f3f765-96d5-49c2-96e3-aa64c560e88d",
   "metadata": {},
   "outputs": [],
   "source": [
    "import sys\n",
    "import os\n",
    "import json\n",
    "import google.generativeai as genai\n",
    "import os\n",
    "import time\n",
    "import ipynb_path\n",
    "from surrealdb import Surreal\n",
    "\n",
    "from IPython.display import display, Markdown,JSON\n",
    "from IPython.display import JSON\n",
    "\n",
    "\n",
    "#get this notebook's path for access to the other files needed\n",
    "dir_path = os.path.dirname(os.path.realpath(ipynb_path.get(__name__)))\n",
    "sys.path.append(dir_path) #add the current directory for adding py imports\n",
    "from RAG_prompts import STD_RAG_PROMT, GRAPH_RAG_PROMT"
   ]
  },
  {
   "cell_type": "code",
   "execution_count": 2,
   "id": "3d8dfda3-61c6-4ec0-8803-7ef419ea7448",
   "metadata": {},
   "outputs": [
    {
     "name": "stdout",
     "output_type": "stream",
     "text": [
      "surreal start --log none --allow-net --user root --pass root --bind 0.0.0.0:8080 \"rocksdb:///Users/sandro/Library/CloudStorage/GoogleDrive-apireno@gmail.com/My Drive/code/graph_rag/db\"\n"
     ]
    },
    {
     "data": {
      "text/plain": [
       "'\\ncd embedding_api\\nenv FLASK_APP=embedding_api.py python -m flask --app embedding_api --debug run \\n'"
      ]
     },
     "execution_count": 2,
     "metadata": {},
     "output_type": "execute_result"
    }
   ],
   "source": [
    "\n",
    "# this folder\n",
    "nb_folder = dir_path\n",
    "input_file = nb_folder + \"/Operation Dulce v2 1 1.md\"\n",
    "\n",
    "    \n",
    "ip = \"0.0.0.0:8080\"\n",
    "url = \"ws://{0}/rpc\".format(ip)\n",
    "\n",
    "u = \"root\"\n",
    "p = \"root\"\n",
    "n = \"graph_rag\"\n",
    "d = \"graph_rag\"\n",
    "db_folder = nb_folder + \"/db\"\n",
    "\n",
    "surrealdb_start = \"surreal start --log none --allow-net --user {u} --pass {p} --bind {ip} \\\"rocksdb://{db_folder}\\\"\".format(\n",
    "    u=u,\n",
    "    p=p,\n",
    "    ip=ip,\n",
    "    db_folder=db_folder)\n",
    "\n",
    "#run this command if your surreal instance isn't running yet \n",
    "#copy and paste from below into a terminal\n",
    "print(surrealdb_start)\n",
    "\n",
    "#ensure the embedding service is running as well\n",
    "\"\"\"\n",
    "cd embedding_api\n",
    "env FLASK_APP=embedding_api.py python -m flask --app embedding_api --debug run \n",
    "\"\"\"     "
   ]
  },
  {
   "cell_type": "code",
   "execution_count": 15,
   "id": "a4a60278-ae0c-43e7-b5cc-f887dbd400e3",
   "metadata": {},
   "outputs": [
    {
     "name": "stdout",
     "output_type": "stream",
     "text": [
      "\n",
      "DEFINE FUNCTION OVERWRITE fn::get_related_entities($text: string) {\n",
      "    \n",
      "    LET $emb = fn::get_embeddings($text);\n",
      "    \n",
      "    RETURN SELECT id,description, ->RELATED_TO.{out,strength,description} FROM PERSON \n",
      "        WHERE  embedding <|5,COSINE|> $emb;\n",
      "};\n",
      "\n"
     ]
    }
   ],
   "source": [
    "\n",
    "# get the text from the source file for use in our prompt\n",
    "with open(input_file, \"r\") as f:\n",
    "    input_text = f.read()\n",
    "\n",
    "\n",
    "entity_types = [\"PERSON\", \"PLACE\"]\n",
    "relation_type = \"RELATED_TO\"\n",
    "\n",
    "retrieve_function_surql = \"\"\"\n",
    "DEFINE FUNCTION OVERWRITE fn::get_related_entities($text: string) {{\n",
    "    \n",
    "    LET $emb = fn::get_embeddings($text);\n",
    "    \n",
    "    RETURN SELECT id,description, ->{1}.{{out,strength,description}} FROM {0} \n",
    "        WHERE  embedding <|5,COSINE|> $emb;\n",
    "}};\n",
    "\"\"\".format(entity_types[0],relation_type)\n",
    "\n",
    "\n",
    "async with Surreal(url) as db:\n",
    "    await db.signin({\"user\": u, \"pass\": p}) \n",
    "    await db.use(n, d)\n",
    "    outcome = await db.query(retrieve_function_surql)\n",
    "\n"
   ]
  },
  {
   "cell_type": "code",
   "execution_count": 16,
   "id": "cd2da166-a935-4df7-b11d-3aac7fa91bab",
   "metadata": {},
   "outputs": [
    {
     "data": {
      "application/json": [
       {
        "result": [
         {
          "->RELATED_TO": [
           {
            "description": "Alex Mercer works in the mainframe room of Dulce Base.",
            "out": "PLACE:⟨MAINFRAME ROOM⟩",
            "strength": 8
           },
           {
            "description": "Alex Mercer and Taylor Cruz share leadership responsibilities in the mission, despite their differing styles.",
            "out": "PERSON:⟨TAYLOR CRUZ⟩",
            "strength": 7
           },
           {
            "description": "Alex Mercer descended to the sub-level of Dulce Base.",
            "out": "PLACE:⟨SUB-LEVEL⟩",
            "strength": 8
           },
           {
            "description": "Alex Mercer attended briefings in the briefing room of Dulce Base.",
            "out": "PLACE:⟨BRIEFING ROOM⟩",
            "strength": 7
           },
           {
            "description": "Alex Mercer operates in Dulce Base, located in New Mexico.",
            "out": "PLACE:⟨NEW MEXICO⟩",
            "strength": 9
           },
           {
            "description": "Alex Mercer leads the team and is responsible for their actions.",
            "out": "PERSON:⟨ALEX MERCER⟩",
            "strength": 10
           },
           {
            "description": "Alex Mercer and Taylor Cruz are both members of the Paranormal Military Squad and work together on Operation: Dulce. Their relationship is characterized by a dynamic of authority and subtle challenge, with Alex eventually asserting himself more assertively against Taylor's authoritarian tendencies.",
            "out": "PERSON:⟨TAYLOR CRUZ⟩",
            "strength": 7
           },
           {
            "description": "Alex Mercer and Sam Rivera are both members of the Paranormal Military Squad, with Alex acting as a mentor to Sam. They share a mutual respect and trust, and Alex values Sam's expertise and intuition.",
            "out": "PERSON:⟨SAM RIVERA⟩",
            "strength": 8
           },
           {
            "description": "Alex Mercer and Jordan Hayes share a close working relationship and mutual respect, built on their shared analytical skills and intuition.",
            "out": "PERSON:⟨JORDAN HAYES⟩",
            "strength": 9
           },
           {
            "description": "Alex Mercer mentors Sam Rivera, guiding their technical contributions.",
            "out": "PERSON:⟨SAM RIVERA⟩",
            "strength": 8
           },
           {
            "description": "Alex Mercer and Jordan Hayes collaborate closely, sharing insights and strategies.",
            "out": "PERSON:⟨JORDAN HAYES⟩",
            "strength": 9
           },
           {
            "description": "Alex Mercer participates in Operation: Dulce, spending significant time in the Dulce base.",
            "out": "PLACE:DULCE",
            "strength": 9
           },
           {
            "description": "Alex Mercer works in the command center at Dulce Base.",
            "out": "PLACE:⟨COMMAND CENTER⟩",
            "strength": 9
           }
          ],
          "description": "Agent Alex Mercer is a member of the Paranormal Military Squad, unfailingly determined, and participates in Operation: Dulce. He is described as having dulled eyes and a strained smile at times, showcasing internal conflict between compliance and his own investigative instincts. He values intuition and trust, and has a close working relationship with Jordan Hayes.",
          "id": "PERSON:⟨ALEX MERCER⟩"
         },
         {
          "->RELATED_TO": [
           {
            "description": "Jordan Hayes participates in Operation: Dulce, spending significant time in the Dulce base.",
            "out": "PLACE:DULCE",
            "strength": 9
           },
           {
            "description": "Jordan Hayes attended briefings in the briefing room of Dulce Base.",
            "out": "PLACE:⟨BRIEFING ROOM⟩",
            "strength": 7
           },
           {
            "description": "Jordan Hayes works in the command center at Dulce Base.",
            "out": "PLACE:⟨COMMAND CENTER⟩",
            "strength": 9
           },
           {
            "description": "Jordan Hayes and Taylor Cruz have a working relationship marked by tension but also mutual respect for their expertise.",
            "out": "PERSON:⟨TAYLOR CRUZ⟩",
            "strength": 6
           },
           {
            "description": "Jordan Hayes and Sam Rivera collaborate on interpreting the alien signals, combining scientific and technical expertise.",
            "out": "PERSON:⟨SAM RIVERA⟩",
            "strength": 9
           },
           {
            "description": "Jordan Hayes descended to the sub-level of Dulce Base.",
            "out": "PLACE:⟨SUB-LEVEL⟩",
            "strength": 8
           },
           {
            "description": "Jordan Hayes works at Dulce Base in New Mexico.",
            "out": "PLACE:⟨NEW MEXICO⟩",
            "strength": 9
           },
           {
            "description": "Jordan Hayes is a lead scientist analyzing the alien communications.",
            "out": "PERSON:⟨JORDAN HAYES⟩",
            "strength": 10
           },
           {
            "description": "Jordan Hayes works in the lab within Dulce Base.",
            "out": "PLACE:LAB",
            "strength": 9
           },
           {
            "description": "Jordan Hayes works in the mainframe room of Dulce Base.",
            "out": "PLACE:⟨MAINFRAME ROOM⟩",
            "strength": 8
           },
           {
            "description": "Jordan Hayes and Sam Rivera work closely together on Operation: Dulce, sharing ideas and insights. There is a mutual respect between them, with Jordan guiding Sam's contributions.",
            "out": "PERSON:⟨SAM RIVERA⟩",
            "strength": 8
           }
          ],
          "description": "Dr. Jordan Hayes is a member of the Paranormal Military Squad, known for their analytical skills and skepticism. They are portrayed as cautious, firm, and possess a deep understanding of the unknown. They value adaptability and intuition and challenge Taylor Cruz's authoritarian approach. They share a close bond and mutual respect with Alex Mercer.",
          "id": "PERSON:⟨JORDAN HAYES⟩"
         },
         {
          "->RELATED_TO": [
           {
            "description": "Sam Rivera works in the command center at Dulce Base.",
            "out": "PLACE:⟨COMMAND CENTER⟩",
            "strength": 9
           },
           {
            "description": "Sam Rivera attended briefings in the briefing room of Dulce Base.",
            "out": "PLACE:⟨BRIEFING ROOM⟩",
            "strength": 7
           },
           {
            "description": "Sam Rivera works in the server room of Dulce Base.",
            "out": "PLACE:⟨SERVER ROOM⟩",
            "strength": 9
           },
           {
            "description": "Sam Rivera provides technical support in the mainframe room of Dulce Base.",
            "out": "PLACE:⟨MAINFRAME ROOM⟩",
            "strength": 8
           },
           {
            "description": "Sam Rivera provides crucial technical expertise to the team.",
            "out": "PERSON:⟨SAM RIVERA⟩",
            "strength": 10
           },
           {
            "description": "Sam Rivera descended to the sub-level of Dulce Base.",
            "out": "PLACE:⟨SUB-LEVEL⟩",
            "strength": 8
           },
           {
            "description": "Sam Rivera works at Dulce Base located in New Mexico.",
            "out": "PLACE:⟨NEW MEXICO⟩",
            "strength": 9
           },
           {
            "description": "Sam Rivera participates in Operation: Dulce, spending significant time in the Dulce base.",
            "out": "PLACE:DULCE",
            "strength": 9
           },
           {
            "description": "Sam Rivera may assist Jordan Hayes in the lab.",
            "out": "PLACE:LAB",
            "strength": 3
           }
          ],
          "description": "Agent Sam Rivera is a member of the Paranormal Military Squad, a cybersecurity expert characterized by their curiosity and drive to decrypt intercepted communications from Dulce. They possess a keen intellect and intuition, and their perspective often balances the more serious and cautious approaches of other team members.",
          "id": "PERSON:⟨SAM RIVERA⟩"
         },
         {
          "->RELATED_TO": [
           {
            "description": "Taylor Cruz and Sam Rivera are members of the Paranormal Military Squad who work together on Operation: Dulce.  Taylor provides direction, while Sam provides technical expertise and offers a different perspective.",
            "out": "PERSON:⟨SAM RIVERA⟩",
            "strength": 7
           },
           {
            "description": "Taylor Cruz is a leader and maintains authority over the team.",
            "out": "PERSON:⟨TAYLOR CRUZ⟩",
            "strength": 10
           },
           {
            "description": "Taylor Cruz and Jordan Hayes have a complex relationship characterized by tension. Taylor's authoritarian style clashes with Jordan's more independent and analytical approach, but there's also a mutual understanding of the gravity of their mission.",
            "out": "PERSON:⟨JORDAN HAYES⟩",
            "strength": 6
           },
           {
            "description": "Taylor Cruz attended briefings in the briefing room of Dulce Base.",
            "out": "PLACE:⟨BRIEFING ROOM⟩",
            "strength": 7
           },
           {
            "description": "Taylor Cruz is at Dulce Base in New Mexico.",
            "out": "PLACE:⟨NEW MEXICO⟩",
            "strength": 9
           },
           {
            "description": "Taylor Cruz works in the command center at Dulce Base.",
            "out": "PLACE:⟨COMMAND CENTER⟩",
            "strength": 9
           },
           {
            "description": "Taylor Cruz oversees operations in the mainframe room of Dulce Base.",
            "out": "PLACE:⟨MAINFRAME ROOM⟩",
            "strength": 8
           },
           {
            "description": "Taylor Cruz descended to the sub-level of Dulce Base.",
            "out": "PLACE:⟨SUB-LEVEL⟩",
            "strength": 8
           },
           {
            "description": "Taylor Cruz participates in Operation: Dulce, spending significant time in the Dulce base.",
            "out": "PLACE:DULCE",
            "strength": 9
           },
           {
            "description": "Taylor Cruz provides direction and oversight to Sam Rivera's technical contributions.",
            "out": "PERSON:⟨SAM RIVERA⟩",
            "strength": 7
           }
          ],
          "description": "Agent Taylor Cruz is a member of the Paranormal Military Squad, characterized by an authoritarian and meticulous personality. They wield obedience as a tool and strive for unfettered power. They initially emphasize protocols and obedience, but later show a grudging respect for intuition and the value of trust in high-stakes situations. They also show some level of insecurity beneath their confident exterior.",
          "id": "PERSON:⟨TAYLOR CRUZ⟩"
         }
        ],
        "status": "OK",
        "time": "77.936375ms"
       }
      ],
      "text/plain": [
       "<IPython.core.display.JSON object>"
      ]
     },
     "execution_count": 16,
     "metadata": {
      "application/json": {
       "expanded": false,
       "root": "root"
      }
     },
     "output_type": "execute_result"
    }
   ],
   "source": [
    "\n",
    "#Let's test out vector/graph query\n",
    "#we should see a collection of people and relationships\n",
    "#where the person's description is related to the question \n",
    "\n",
    "async with Surreal(url) as db:\n",
    "    await db.signin({\"user\": u, \"pass\": p}) \n",
    "    await db.use(n, d)\n",
    "    get_the_graph_context_surql = \"fn::get_related_entities('{0}')\"\n",
    "    outcome = await db.query(get_the_graph_context_surql.format(\"Who is the main character?\"))\n",
    "\n",
    "JSON(outcome)\n",
    "    "
   ]
  },
  {
   "cell_type": "code",
   "execution_count": 17,
   "id": "4b9a6852-bed5-4cdc-aa58-a4b0d58cbe6f",
   "metadata": {},
   "outputs": [],
   "source": [
    "#this function will call the LLM with a prompt that includes the text of the original document\n",
    "def get_std_LLM_response(the_model,the_question,the_input_text):\n",
    "\n",
    "    messages = [\n",
    "            {\"role\": \"user\", \"parts\": [{\"text\": STD_RAG_PROMT.format(\n",
    "                question = the_question,\n",
    "                documents = the_input_text\n",
    "            )}]}\n",
    "        ]\n",
    "\n",
    "    \n",
    "    response = model.generate_content(messages)\n",
    "    return response\n",
    "    \n",
    "#this function will call the LLM with a prompt that includes the text of the original document\n",
    "#plus the relevant entities and relationships from the knowledge graph bases on a vector search\n",
    "async def get_graph_RAG_response(the_db,the_model,the_question,the_input_text):\n",
    "    \n",
    "    get_the_graph_context_surql = \"fn::get_related_entities('{0}')\"\n",
    "    \n",
    "    outcome = await the_db.query(get_the_graph_context_surql.format(the_question))\n",
    "\n",
    "    messages = [\n",
    "            {\"role\": \"user\", \"parts\": [{\"text\": GRAPH_RAG_PROMT.format(\n",
    "                question = the_question,\n",
    "                documents = the_input_text,\n",
    "                knowledge_graph = outcome\n",
    "            )}]}\n",
    "        ]\n",
    "\n",
    "    \n",
    "    response = model.generate_content(messages)\n",
    "    return response\n",
    "    \n",
    "       "
   ]
  },
  {
   "cell_type": "code",
   "execution_count": 18,
   "id": "7a0050ec-609c-4b15-af47-38bdb03a0edc",
   "metadata": {},
   "outputs": [],
   "source": [
    "\n",
    "# Set your API key (I've stored mine in an env variable)\n",
    "genai.configure(api_key=os.getenv('GOOGLE_GENAI_API_KEY'))\n",
    "\n",
    "#flash is faster and good enough\n",
    "#model = \"gemini-1.0-pro\"\n",
    "model = \"gemini-1.5-flash\"\n",
    "\n",
    "model = genai.GenerativeModel(model)\n",
    "\n"
   ]
  },
  {
   "cell_type": "code",
   "execution_count": 19,
   "id": "eaf947c4-621f-4e63-a914-c27c99d805a7",
   "metadata": {},
   "outputs": [
    {
     "name": "stdout",
     "output_type": "stream",
     "text": [
      "\n",
      "\n",
      "\n",
      "\n",
      " ------ STD RAG -------------------------\n",
      "\n",
      "\n",
      "\n",
      "\n"
     ]
    },
    {
     "data": {
      "text/markdown": [
       "Based on the provided text, Agent Alex Mercer is the main character.  His motivation is complex and evolves throughout the narrative. Initially, he seems driven by a sense of duty and compliance to the mission's protocols. However, as the operation progresses and the team encounters increasingly inexplicable phenomena, Mercer's inherent curiosity and desire to understand the unknown supersede his initial obedience. He demonstrates a growing commitment to uncovering the truth, even if it means questioning authority and established protocols.  His actions show a drive to both understand the alien intelligence and ensure humanity's safety and preparedness in this unprecedented encounter.  He becomes a leader, balancing the need for caution with a desire for discovery and fostering trust and collaboration amongst the team.\n"
      ],
      "text/plain": [
       "<IPython.core.display.Markdown object>"
      ]
     },
     "metadata": {},
     "output_type": "display_data"
    },
    {
     "name": "stdout",
     "output_type": "stream",
     "text": [
      "\n",
      "\n",
      "\n",
      "\n",
      " ------ GRAPH RAG -------------------------\n",
      "\n",
      "\n",
      "\n",
      "\n"
     ]
    },
    {
     "data": {
      "text/markdown": [
       "Based on the provided text and knowledge graph, Alex Mercer is the main character.  His motivations are multifaceted:\n",
       "\n",
       "* **Duty and Compliance:** Initially, Alex shows a strong sense of duty and compliance to his superior, Taylor Cruz.  This is presented as a conflict with his own instincts.\n",
       "\n",
       "* **Investigative Instincts:**  He possesses a strong investigative drive, a desire to \"leave no stone unturned,\" and a belief in the importance of intuition and trust, which frequently clashes with Taylor Cruz's authoritarian approach.\n",
       "\n",
       "* **Uncovering Truth:** Alex is deeply motivated by a desire to understand the truth behind Operation: Dulce and the alien communications. This is shown in his interactions with Jordan Hayes, where they share a mutual understanding of the deeper mysteries at play.\n",
       "\n",
       "* **Protecting Humanity:** As the story progresses, Alex's motivations evolve to include a concern for the safety and future of humanity, demonstrated by his increasingly assertive leadership and emphasis on a cautious, understanding approach to the alien contact.  He takes on a more assertive and less compliant role as the narrative unfolds.\n",
       "\n",
       "In short, Alex Mercer is driven by a complex interplay of duty, innate curiosity, a thirst for truth, and a growing sense of responsibility towards humanity's future in the face of extraterrestrial contact.\n"
      ],
      "text/plain": [
       "<IPython.core.display.Markdown object>"
      ]
     },
     "metadata": {},
     "output_type": "display_data"
    }
   ],
   "source": [
    "#Lets test a question...\n",
    "\n",
    "q = \"Who is the main character and what motivates them?\"\n",
    "\n",
    "response = get_std_LLM_response(model,q,input_text)\n",
    "\n",
    "print (\"\\n\\n\\n\\n ------ STD RAG -------------------------\\n\\n\\n\\n\")\n",
    "\n",
    "\n",
    "\n",
    "display(Markdown(response.text))\n",
    "\n",
    "print (\"\\n\\n\\n\\n ------ GRAPH RAG -------------------------\\n\\n\\n\\n\")\n",
    "\n",
    "async with Surreal(url) as db:\n",
    "    await db.signin({\"user\": u, \"pass\": p}) \n",
    "    await db.use(n, d)\n",
    "    response = await get_graph_RAG_response(db,model,q,input_text)\n",
    "    display(Markdown(response.text))\n",
    "\n",
    "\n"
   ]
  },
  {
   "cell_type": "code",
   "execution_count": 20,
   "id": "e6cb7379-0b85-4320-8dc0-a3812e6ee888",
   "metadata": {},
   "outputs": [
    {
     "name": "stdout",
     "output_type": "stream",
     "text": [
      "\n",
      "\n",
      "\n",
      "\n",
      " ------ STD RAG -------------------------\n",
      "\n",
      "\n",
      "\n",
      "\n"
     ]
    },
    {
     "data": {
      "text/markdown": [
       "Based on the provided text, Alex Mercer's strongest attachments are to his team members within the Paranormal Military Squad, particularly Dr. Jordan Hayes and Sam Rivera.  The documents repeatedly highlight his trust in and respect for Jordan's analytical skills, viewing their shared understanding as crucial for survival (\"_their analytical mind sees the patterns I do. And that's worth more than protocol. That's the connection we need to survive this._\").  He also shows mentorship and belief in Sam's abilities, emphasizing the importance of Sam's intuition alongside technology (\"_Keen eyes will keep us ahead—or at least not blindsided_\").  While he interacts with Taylor Cruz, their relationship is more one of professional obligation and sometimes conflict rather than close personal connection.  No other personal relationships or places are mentioned in the provided text.\n"
      ],
      "text/plain": [
       "<IPython.core.display.Markdown object>"
      ]
     },
     "metadata": {},
     "output_type": "display_data"
    },
    {
     "name": "stdout",
     "output_type": "stream",
     "text": [
      "\n",
      "\n",
      "\n",
      "\n",
      " ------ GRAPH RAG -------------------------\n",
      "\n",
      "\n",
      "\n",
      "\n"
     ]
    },
    {
     "data": {
      "text/markdown": [
       "Based on the provided text and knowledge graph, Alex Mercer's closest relationships are with Jordan Hayes and Sam Rivera.  The knowledge graph highlights a \"close working relationship and mutual respect\" with Jordan Hayes, built on shared analytical skills and intuition, and a mentorship role with Sam Rivera, valuing Sam's expertise and intuition.\n",
       "\n",
       "Regarding places, the documents and knowledge graph strongly indicate Dulce Base as a significant location for Alex Mercer, where he spends considerable time participating in Operation: Dulce. Within Dulce Base, he interacts with his team in several locations including the briefing room, command center, mainframe room, and sub-level.  New Mexico is also mentioned as the location of Dulce Base, further associating it with Mercer.\n"
      ],
      "text/plain": [
       "<IPython.core.display.Markdown object>"
      ]
     },
     "metadata": {},
     "output_type": "display_data"
    }
   ],
   "source": [
    "\n",
    "#Let's test a question that asks about the main character's relationships\n",
    "q = \"What places and people does Alex Mercer hold dearest?\"\n",
    "\n",
    "response = get_std_LLM_response(model,q,input_text)\n",
    "\n",
    "print (\"\\n\\n\\n\\n ------ STD RAG -------------------------\\n\\n\\n\\n\")\n",
    "\n",
    "\n",
    "display(Markdown(response.text))\n",
    "\n",
    "print (\"\\n\\n\\n\\n ------ GRAPH RAG -------------------------\\n\\n\\n\\n\")\n",
    "\n",
    "async with Surreal(url) as db:\n",
    "    await db.signin({\"user\": u, \"pass\": p}) \n",
    "    await db.use(n, d)\n",
    "    response = await get_graph_RAG_response(db,model,q,input_text)\n",
    "    display(Markdown(response.text))\n",
    "\n"
   ]
  },
  {
   "cell_type": "code",
   "execution_count": 21,
   "id": "d090858a-dbd1-4efb-bba7-f55d9bdba45d",
   "metadata": {},
   "outputs": [
    {
     "name": "stdout",
     "output_type": "stream",
     "text": [
      "\n",
      "\n",
      "\n",
      "\n",
      " ------ STD RAG -------------------------\n",
      "\n",
      "\n",
      "\n",
      "\n"
     ]
    },
    {
     "data": {
      "text/markdown": [
       "Based on the provided text, Alex Mercer's strongest relationships are with Jordan Hayes and Sam Rivera.  The location most important to the plot is the Dulce Base command center.  Therefore, the most emotionally charged and important scene for the book cover would likely be one depicting the team in the command center during their first successful communication with the alien intelligence.  This occurs toward the end of the novel, and the exact chapter is difficult to pinpoint with certainty as the descriptions of the command center and the communication breakthrough are repeated across several chapters. However, the culmination of this effort could be found in **Chapter 15**, which contains the most detailed description of this momentous event.  Note that Chapters 9, 11, and 14 also contain descriptions of the event.\n",
       "\n",
       "\n",
       "**Book Cover Description:**\n",
       "\n",
       "The cover would feature a stylized image of the Dulce Base command center at night. The focus would be on the four agents—Alex Mercer, Jordan Hayes, Taylor Cruz, and Sam Rivera—silhouetted against a large bank of monitors displaying the alien code.  The monitors would show a blend of alien symbols and perhaps a few human-readable words, hinting at the successful communication. The overall mood should be one of awe, tension, and hope.\n",
       "\n",
       "Specific elements:\n",
       "\n",
       "* **Dominant colors:** Dark blues, purples, and greens to represent the underground base and the vastness of space.  A touch of brighter, warmer color (like a soft orange or yellow) could subtly emanate from the monitors, representing the alien signal.\n",
       "\n",
       "* **Lighting:**  The lighting would be dramatic, focusing primarily on the monitors and the agents’ faces, leaving the background darker and mysterious.\n",
       "\n",
       "* **Style:** The style could be realistic, but with a touch of stylized realism or even a slightly cinematic feel.  The image should be sharp and detailed enough to draw the reader in, but not so detailed as to overwhelm the overall mood.\n",
       "\n",
       "* **Title:** The title, \"Operation: Dulce,\" should be prominently displayed, possibly using a font that conveys both technological advancement and a sense of mystery.\n",
       "\n",
       "* **Subtitle (optional):**  A subtitle such as \"First Contact\" or \"A Symphony of Stars\" could enhance the cover's appeal.\n",
       "\n",
       "\n",
       "The overall effect should be a visually striking image that encapsulates the tension, mystery, and hope inherent in the story. It would grab the reader's attention and entice them to discover the secrets hidden within Dulce Base.\n"
      ],
      "text/plain": [
       "<IPython.core.display.Markdown object>"
      ]
     },
     "metadata": {},
     "output_type": "display_data"
    },
    {
     "name": "stdout",
     "output_type": "stream",
     "text": [
      "\n",
      "\n",
      "\n",
      "\n",
      " ------ GRAPH RAG -------------------------\n",
      "\n",
      "\n",
      "\n",
      "\n"
     ]
    },
    {
     "data": {
      "text/markdown": [
       "Based on the provided knowledge graph and documents, the most emotionally charged and important scene for the book cover centers around Alex Mercer's strongest relationships (Jordan Hayes and Sam Rivera) and the most significant location (Dulce Base's command center).  The scene where the team makes first contact and receives the alien response in the command center is the most emotionally resonant and pivotal moment in the narrative.  This occurs towards the end of the book, across several chapters but the most impactful scene depicting the initial contact occurs at the climax of the novel, and the subsequent chapters detail the ongoing response.\n",
       "\n",
       "**Chapter:**  While the build-up happens across several chapters (primarily Chapters 9-15), the most impactful *initial* contact scene, best suited for the cover art, is arguably found within the later chapters, specifically the climax of Chapter 12 and the beginning of Chapter 11. These chapters describe the moment when the alien signal is fully decoded, leading to an initial response from the alien intelligence and the commencement of true interspecies communication.  The emotional intensity builds across these chapters.\n",
       "\n",
       "\n",
       "**Cover Description:**\n",
       "\n",
       "The cover art should depict the Dulce Base command center, a setting characterized by the documents as sterile, high-tech, and filled with a palpable sense of tension. The focus should be on Alex Mercer, positioned centrally, and partially obscured by a bright, ethereal glow emanating from the main monitors.  This light should represent the alien signal, and its dynamic and shifting colors should suggest the mysterious nature of the communication.  \n",
       "\n",
       "Around Alex Mercer, slightly less prominently but still visible, should be Jordan Hayes and Sam Rivera, their faces showing expressions of awe, apprehension, and perhaps even fear mixed with excitement. The expressions should subtly reflect the gravity of the moment: awe at the contact, apprehension about the unknown, and excitement about the potential for discovery. Taylor Cruz could be partially visible in the background, their expression perhaps more reserved, conveying their characteristic cautiousness and concern for the mission’s security, subtly contrasting the emotional responses of the others.\n",
       "\n",
       "The overall color palette should be a mixture of cool blues and greens (representing the technology and the sterile environment of the command center) with splashes of bright, almost otherworldly, light, symbolizing the alien contact. The title, \"Operation: Dulce,\" should be prominently displayed, perhaps overlaid on the ethereal light, with the author’s name below. The style could be a blend of science fiction and thriller aesthetics, conveying both the high-stakes nature of the mission and the wonder of first contact.  The overall mood should be one of awe, tension, and anticipation.\n"
      ],
      "text/plain": [
       "<IPython.core.display.Markdown object>"
      ]
     },
     "metadata": {},
     "output_type": "display_data"
    }
   ],
   "source": [
    "\n",
    "\n",
    "\n",
    "q = \"\"\"Based on Alex Mercer strongest relationships and the places most important to the plot choose a\n",
    "    scene that is the most emotionally charged and important to make the cover of the book. \n",
    "    What chapter is this scene in?\n",
    "    What would that cover look like?\n",
    "\"\"\"\n",
    "\n",
    "response = get_std_LLM_response(model,q,input_text)\n",
    "\n",
    "print (\"\\n\\n\\n\\n ------ STD RAG -------------------------\\n\\n\\n\\n\")\n",
    "\n",
    "display(Markdown(response.text))\n",
    "\n",
    "print (\"\\n\\n\\n\\n ------ GRAPH RAG -------------------------\\n\\n\\n\\n\")\n",
    "\n",
    "async with Surreal(url) as db:\n",
    "    await db.signin({\"user\": u, \"pass\": p}) \n",
    "    await db.use(n, d)\n",
    "    response = await get_graph_RAG_response(db,model,q,input_text)\n",
    "    display(Markdown(response.text))\n"
   ]
  },
  {
   "cell_type": "code",
   "execution_count": 25,
   "id": "69ef5cc5-6bce-466b-8ae2-1f0b95277a46",
   "metadata": {},
   "outputs": [
    {
     "name": "stdout",
     "output_type": "stream",
     "text": [
      "\n",
      "\n",
      "\n",
      "\n",
      " ------ STD RAG -------------------------\n",
      "\n",
      "\n",
      "\n",
      "\n"
     ]
    },
    {
     "data": {
      "text/markdown": [
       "Based on the provided text, here's a list of places Alex visits, the frequency, and who he's with, ordered by apparent importance to Alex:\n",
       "\n",
       "| Location                     | Frequency       | People Visited With                                      | Importance Rationale                                                                                                |\n",
       "|------------------------------|-----------------|---------------------------------------------------------|--------------------------------------------------------------------------------------------------------------------|\n",
       "| Dulce Base Command Center     | Multiple Times  | Jordan Hayes, Taylor Cruz, Sam Rivera                     | Core location of the mission's central activity; most interactions happen here with the whole team.                   |\n",
       "| Dulce Base Corridors/Hubs    | Multiple Times  | Jordan Hayes, Taylor Cruz, Sam Rivera                     | Essential for navigating the base and progressing the mission; scenes often involve the whole team.                  |\n",
       "| Briefing Room                 | Twice            | Jordan Hayes, Taylor Cruz, Sam Rivera, (Sam Rivera alone once) | Initial mission briefing and later debriefing, highlighting mission parameters and strategic overview.             |\n",
       "| Cramped Underground Meeting Room | Once             | Jordan Hayes, Taylor Cruz, Sam Rivera                     |  Immediately before entering Dulce Base, setting the tone of anticipation and shared responsibility.                |\n",
       "| Deserted Corridor | Once | Taylor Cruz | Illustrates Cruz's ambition and control.  |\n",
       "| Elevator Shaft | Once | Jordan Hayes, Taylor Cruz, Sam Rivera | Descent into Dulce; symbolic of the journey into the unknown. |\n",
       "| Sam Rivera's Office | Once | Sam Rivera | A private conversation with Sam, highlighting trust and intuition. |\n",
       "| Dr. Jordan Hayes' Lab | Once | Jordan Hayes | A discussion about the larger implications of the mission with Jordan. |\n",
       "\n",
       "\n",
       "**Rationale for Importance Ordering:**\n",
       "\n",
       "The order reflects the narrative emphasis and the amount of time spent at each location. The Dulce Base Command Center and its corridors are central to the story's plot and the majority of the team's interactions with Alex. The briefing room, while important for establishing the mission, is visited less frequently.  The other locations serve specific narrative purposes but are not central to the overall mission's execution in the same way.\n"
      ],
      "text/plain": [
       "<IPython.core.display.Markdown object>"
      ]
     },
     "metadata": {},
     "output_type": "display_data"
    },
    {
     "name": "stdout",
     "output_type": "stream",
     "text": [
      "\n",
      "\n",
      "\n",
      "\n",
      " ------ GRAPH RAG -------------------------\n",
      "\n",
      "\n",
      "\n",
      "\n"
     ]
    },
    {
     "data": {
      "text/markdown": [
       "Based on the provided text and knowledge graph, here's a markdown table summarizing Alex Mercer's location visits, ordered by the strength of his relationship with the location (as indicated by the knowledge graph's strength scores), including the people he visited those places with:\n",
       "\n",
       "\n",
       "| Place                     | Strength | Frequency | People Visited With                     | Notes                                                                          |\n",
       "|--------------------------|----------|-----------|-----------------------------------------|---------------------------------------------------------------------------------|\n",
       "| Dulce Base                | 9        | Multiple   | Taylor Cruz, Jordan Hayes, Sam Rivera     | Central location for Operation: Dulce; mentioned in almost every chapter        |\n",
       "| Mainframe Room            | 8        | Multiple   | Taylor Cruz, Sam Rivera, Jordan Hayes     | Significant activity related to alien communications; multiple mentions           |\n",
       "| Sub-Level                 | 8        | Multiple   | Taylor Cruz, Jordan Hayes, Sam Rivera     | Descent into the base's deeper levels; mentioned in multiple chapters             |\n",
       "| Briefing Room             | 7        | Once       | Taylor Cruz, Jordan Hayes, Sam Rivera     | Initial briefing for Operation: Dulce; mentioned in Chapter 1 and Chapter 3     |\n",
       "| Command Center            | 9        | Multiple   | Taylor Cruz, Jordan Hayes, Sam Rivera     | Frequent presence for monitoring and operation control                         |\n",
       "| Server Room (implied)     | -        | Once       | Sam Rivera                               | Inferred from Chapter 2 interaction with Sam.                                  |\n",
       "| New Mexico (Dulce Location)| 9        | Multiple   | Taylor Cruz, Jordan Hayes, Sam Rivera     | Overarching location of Dulce Base; mentioned repeatedly                         |\n",
       "| Lab (implied)            | -        | Once       | Jordan Hayes                               | Inferred from Chapter 3 interaction with Jordan in a lab setting.              |\n",
       "| Deserted Corridor (implied) | -        | Once       |  None mentioned                            | Inferred from Chapter 1, a fleeting moment before the briefing.                |\n",
       "| Underground Meeting Room (implied) | -        | Once       | Taylor Cruz, Jordan Hayes, Sam Rivera     | Chapter 2, before the descent.                                                    |\n",
       "| Elevator Shaft            | -        | Once       | Taylor Cruz, Jordan Hayes, Sam Rivera     | Descent into the sub-level; Chapter 2                                         |\n",
       "\n",
       "\n",
       "**Note:**  The frequency and specific individuals present are inferred from the narrative, as the documents don't explicitly list every single visit. Strength scores are directly from the knowledge graph.  Places without explicit strength scores are based on context from the narrative. The order is based on the average strength scores.  If two places have the same average strength score, the order is based on the frequency of mentions.\n"
      ],
      "text/plain": [
       "<IPython.core.display.Markdown object>"
      ]
     },
     "metadata": {},
     "output_type": "display_data"
    }
   ],
   "source": [
    "\n",
    "\n",
    "q = \"\"\"List the places that Alex visits and the frequency he visits them plus who he visited them with in the order of importance to Alex. \n",
    "output the response in markdown language\n",
    "\"\"\"\n",
    "\n",
    "response = get_std_LLM_response(model,q,input_text)\n",
    "\n",
    "print (\"\\n\\n\\n\\n ------ STD RAG -------------------------\\n\\n\\n\\n\")\n",
    "\n",
    "display(Markdown(response.text))\n",
    "\n",
    "print (\"\\n\\n\\n\\n ------ GRAPH RAG -------------------------\\n\\n\\n\\n\")\n",
    "\n",
    "async with Surreal(url) as db:\n",
    "    await db.signin({\"user\": u, \"pass\": p}) \n",
    "    await db.use(n, d)\n",
    "    response = await get_graph_RAG_response(db,model,q,input_text)\n",
    "    display(Markdown(response.text))"
   ]
  },
  {
   "cell_type": "code",
   "execution_count": null,
   "id": "36c0c908-c6cf-49d7-908d-02fba9898a48",
   "metadata": {},
   "outputs": [],
   "source": []
  },
  {
   "cell_type": "code",
   "execution_count": 7,
   "id": "cb987247-629d-48ba-8457-1d1fc8b2f53b",
   "metadata": {},
   "outputs": [
    {
     "ename": "NotFound",
     "evalue": "404 models/imagen-3.0-generate-001 is not found for API version v1beta, or is not supported for predict. Call ListModels to see the list of available models and their supported methods.",
     "output_type": "error",
     "traceback": [
      "\u001b[0;31m---------------------------------------------------------------------------\u001b[0m",
      "\u001b[0;31m_InactiveRpcError\u001b[0m                         Traceback (most recent call last)",
      "File \u001b[0;32m/Library/Frameworks/Python.framework/Versions/3.12/lib/python3.12/site-packages/google/api_core/grpc_helpers.py:76\u001b[0m, in \u001b[0;36m_wrap_unary_errors.<locals>.error_remapped_callable\u001b[0;34m(*args, **kwargs)\u001b[0m\n\u001b[1;32m     75\u001b[0m \u001b[38;5;28;01mtry\u001b[39;00m:\n\u001b[0;32m---> 76\u001b[0m     \u001b[38;5;28;01mreturn\u001b[39;00m \u001b[43mcallable_\u001b[49m\u001b[43m(\u001b[49m\u001b[38;5;241;43m*\u001b[39;49m\u001b[43margs\u001b[49m\u001b[43m,\u001b[49m\u001b[43m \u001b[49m\u001b[38;5;241;43m*\u001b[39;49m\u001b[38;5;241;43m*\u001b[39;49m\u001b[43mkwargs\u001b[49m\u001b[43m)\u001b[49m\n\u001b[1;32m     77\u001b[0m \u001b[38;5;28;01mexcept\u001b[39;00m grpc\u001b[38;5;241m.\u001b[39mRpcError \u001b[38;5;28;01mas\u001b[39;00m exc:\n",
      "File \u001b[0;32m/Library/Frameworks/Python.framework/Versions/3.12/lib/python3.12/site-packages/grpc/_channel.py:1181\u001b[0m, in \u001b[0;36m_UnaryUnaryMultiCallable.__call__\u001b[0;34m(self, request, timeout, metadata, credentials, wait_for_ready, compression)\u001b[0m\n\u001b[1;32m   1175\u001b[0m (\n\u001b[1;32m   1176\u001b[0m     state,\n\u001b[1;32m   1177\u001b[0m     call,\n\u001b[1;32m   1178\u001b[0m ) \u001b[38;5;241m=\u001b[39m \u001b[38;5;28mself\u001b[39m\u001b[38;5;241m.\u001b[39m_blocking(\n\u001b[1;32m   1179\u001b[0m     request, timeout, metadata, credentials, wait_for_ready, compression\n\u001b[1;32m   1180\u001b[0m )\n\u001b[0;32m-> 1181\u001b[0m \u001b[38;5;28;01mreturn\u001b[39;00m \u001b[43m_end_unary_response_blocking\u001b[49m\u001b[43m(\u001b[49m\u001b[43mstate\u001b[49m\u001b[43m,\u001b[49m\u001b[43m \u001b[49m\u001b[43mcall\u001b[49m\u001b[43m,\u001b[49m\u001b[43m \u001b[49m\u001b[38;5;28;43;01mFalse\u001b[39;49;00m\u001b[43m,\u001b[49m\u001b[43m \u001b[49m\u001b[38;5;28;43;01mNone\u001b[39;49;00m\u001b[43m)\u001b[49m\n",
      "File \u001b[0;32m/Library/Frameworks/Python.framework/Versions/3.12/lib/python3.12/site-packages/grpc/_channel.py:1006\u001b[0m, in \u001b[0;36m_end_unary_response_blocking\u001b[0;34m(state, call, with_call, deadline)\u001b[0m\n\u001b[1;32m   1005\u001b[0m \u001b[38;5;28;01melse\u001b[39;00m:\n\u001b[0;32m-> 1006\u001b[0m     \u001b[38;5;28;01mraise\u001b[39;00m _InactiveRpcError(state)\n",
      "\u001b[0;31m_InactiveRpcError\u001b[0m: <_InactiveRpcError of RPC that terminated with:\n\tstatus = StatusCode.NOT_FOUND\n\tdetails = \"models/imagen-3.0-generate-001 is not found for API version v1beta, or is not supported for predict. Call ListModels to see the list of available models and their supported methods.\"\n\tdebug_error_string = \"UNKNOWN:Error received from peer ipv4:142.250.65.234:443 {created_time:\"2024-11-04T13:50:33.69187-05:00\", grpc_status:5, grpc_message:\"models/imagen-3.0-generate-001 is not found for API version v1beta, or is not supported for predict. Call ListModels to see the list of available models and their supported methods.\"}\"\n>",
      "\nThe above exception was the direct cause of the following exception:\n",
      "\u001b[0;31mNotFound\u001b[0m                                  Traceback (most recent call last)",
      "Cell \u001b[0;32mIn[7], line 3\u001b[0m\n\u001b[1;32m      1\u001b[0m imagen \u001b[38;5;241m=\u001b[39m genai\u001b[38;5;241m.\u001b[39mImageGenerationModel(\u001b[38;5;124m\"\u001b[39m\u001b[38;5;124mimagen-3.0-generate-001\u001b[39m\u001b[38;5;124m\"\u001b[39m)\n\u001b[0;32m----> 3\u001b[0m result \u001b[38;5;241m=\u001b[39m \u001b[43mimagen\u001b[49m\u001b[38;5;241;43m.\u001b[39;49m\u001b[43mgenerate_images\u001b[49m\u001b[43m(\u001b[49m\n\u001b[1;32m      4\u001b[0m \u001b[43m    \u001b[49m\u001b[43mprompt\u001b[49m\u001b[38;5;241;43m=\u001b[39;49m\u001b[38;5;124;43m\"\u001b[39;49m\u001b[38;5;124;43mFuzzy bunnies in my kitchen\u001b[39;49m\u001b[38;5;124;43m\"\u001b[39;49m\u001b[43m,\u001b[49m\n\u001b[1;32m      5\u001b[0m \u001b[43m    \u001b[49m\u001b[43mnumber_of_images\u001b[49m\u001b[38;5;241;43m=\u001b[39;49m\u001b[38;5;241;43m4\u001b[39;49m\u001b[43m,\u001b[49m\n\u001b[1;32m      6\u001b[0m \u001b[43m    \u001b[49m\u001b[43msafety_filter_level\u001b[49m\u001b[38;5;241;43m=\u001b[39;49m\u001b[38;5;124;43m\"\u001b[39;49m\u001b[38;5;124;43mblock_only_high\u001b[39;49m\u001b[38;5;124;43m\"\u001b[39;49m\u001b[43m,\u001b[49m\n\u001b[1;32m      7\u001b[0m \u001b[43m    \u001b[49m\u001b[43mperson_generation\u001b[49m\u001b[38;5;241;43m=\u001b[39;49m\u001b[38;5;124;43m\"\u001b[39;49m\u001b[38;5;124;43mallow_adult\u001b[39;49m\u001b[38;5;124;43m\"\u001b[39;49m\u001b[43m,\u001b[49m\n\u001b[1;32m      8\u001b[0m \u001b[43m    \u001b[49m\u001b[43maspect_ratio\u001b[49m\u001b[38;5;241;43m=\u001b[39;49m\u001b[38;5;124;43m\"\u001b[39;49m\u001b[38;5;124;43m3:4\u001b[39;49m\u001b[38;5;124;43m\"\u001b[39;49m\u001b[43m,\u001b[49m\n\u001b[1;32m      9\u001b[0m \u001b[43m    \u001b[49m\u001b[43mnegative_prompt\u001b[49m\u001b[38;5;241;43m=\u001b[39;49m\u001b[38;5;124;43m\"\u001b[39;49m\u001b[38;5;124;43mOutside\u001b[39;49m\u001b[38;5;124;43m\"\u001b[39;49m\u001b[43m,\u001b[49m\n\u001b[1;32m     10\u001b[0m \u001b[43m)\u001b[49m\n\u001b[1;32m     12\u001b[0m \u001b[38;5;28;01mfor\u001b[39;00m image \u001b[38;5;129;01min\u001b[39;00m result\u001b[38;5;241m.\u001b[39mimages:\n\u001b[1;32m     13\u001b[0m   \u001b[38;5;28mprint\u001b[39m(image)\n",
      "File \u001b[0;32m/Library/Frameworks/Python.framework/Versions/3.12/lib/python3.12/site-packages/google/generativeai/vision_models/_vision_models.py:243\u001b[0m, in \u001b[0;36mImageGenerationModel.generate_images\u001b[0;34m(self, prompt, negative_prompt, number_of_images, aspect_ratio, guidance_scale, language, safety_filter_level, person_generation)\u001b[0m\n\u001b[1;32m    196\u001b[0m \u001b[38;5;28;01mdef\u001b[39;00m \u001b[38;5;21mgenerate_images\u001b[39m(\n\u001b[1;32m    197\u001b[0m     \u001b[38;5;28mself\u001b[39m,\n\u001b[1;32m    198\u001b[0m     prompt: \u001b[38;5;28mstr\u001b[39m,\n\u001b[0;32m   (...)\u001b[0m\n\u001b[1;32m    206\u001b[0m     person_generation: Optional[PersonGeneration] \u001b[38;5;241m=\u001b[39m \u001b[38;5;28;01mNone\u001b[39;00m,\n\u001b[1;32m    207\u001b[0m ) \u001b[38;5;241m-\u001b[39m\u001b[38;5;241m>\u001b[39m \u001b[38;5;124m\"\u001b[39m\u001b[38;5;124mImageGenerationResponse\u001b[39m\u001b[38;5;124m\"\u001b[39m:\n\u001b[1;32m    208\u001b[0m \u001b[38;5;250m    \u001b[39m\u001b[38;5;124;03m\"\"\"Generates images from text prompt.\u001b[39;00m\n\u001b[1;32m    209\u001b[0m \n\u001b[1;32m    210\u001b[0m \u001b[38;5;124;03m    Args:\u001b[39;00m\n\u001b[0;32m   (...)\u001b[0m\n\u001b[1;32m    241\u001b[0m \u001b[38;5;124;03m        An `ImageGenerationResponse` object.\u001b[39;00m\n\u001b[1;32m    242\u001b[0m \u001b[38;5;124;03m    \"\"\"\u001b[39;00m\n\u001b[0;32m--> 243\u001b[0m     \u001b[38;5;28;01mreturn\u001b[39;00m \u001b[38;5;28;43mself\u001b[39;49m\u001b[38;5;241;43m.\u001b[39;49m\u001b[43m_generate_images\u001b[49m\u001b[43m(\u001b[49m\n\u001b[1;32m    244\u001b[0m \u001b[43m        \u001b[49m\u001b[43mprompt\u001b[49m\u001b[38;5;241;43m=\u001b[39;49m\u001b[43mprompt\u001b[49m\u001b[43m,\u001b[49m\n\u001b[1;32m    245\u001b[0m \u001b[43m        \u001b[49m\u001b[43mnegative_prompt\u001b[49m\u001b[38;5;241;43m=\u001b[39;49m\u001b[43mnegative_prompt\u001b[49m\u001b[43m,\u001b[49m\n\u001b[1;32m    246\u001b[0m \u001b[43m        \u001b[49m\u001b[43mnumber_of_images\u001b[49m\u001b[38;5;241;43m=\u001b[39;49m\u001b[43mnumber_of_images\u001b[49m\u001b[43m,\u001b[49m\n\u001b[1;32m    247\u001b[0m \u001b[43m        \u001b[49m\u001b[43maspect_ratio\u001b[49m\u001b[38;5;241;43m=\u001b[39;49m\u001b[43maspect_ratio\u001b[49m\u001b[43m,\u001b[49m\n\u001b[1;32m    248\u001b[0m \u001b[43m        \u001b[49m\u001b[43mguidance_scale\u001b[49m\u001b[38;5;241;43m=\u001b[39;49m\u001b[43mguidance_scale\u001b[49m\u001b[43m,\u001b[49m\n\u001b[1;32m    249\u001b[0m \u001b[43m        \u001b[49m\u001b[43mlanguage\u001b[49m\u001b[38;5;241;43m=\u001b[39;49m\u001b[43mlanguage\u001b[49m\u001b[43m,\u001b[49m\n\u001b[1;32m    250\u001b[0m \u001b[43m        \u001b[49m\u001b[43msafety_filter_level\u001b[49m\u001b[38;5;241;43m=\u001b[39;49m\u001b[43msafety_filter_level\u001b[49m\u001b[43m,\u001b[49m\n\u001b[1;32m    251\u001b[0m \u001b[43m        \u001b[49m\u001b[43mperson_generation\u001b[49m\u001b[38;5;241;43m=\u001b[39;49m\u001b[43mperson_generation\u001b[49m\u001b[43m,\u001b[49m\n\u001b[1;32m    252\u001b[0m \u001b[43m    \u001b[49m\u001b[43m)\u001b[49m\n",
      "File \u001b[0;32m/Library/Frameworks/Python.framework/Versions/3.12/lib/python3.12/site-packages/google/generativeai/vision_models/_vision_models.py:179\u001b[0m, in \u001b[0;36mImageGenerationModel._generate_images\u001b[0;34m(self, prompt, negative_prompt, number_of_images, width, height, aspect_ratio, guidance_scale, output_mime_type, compression_quality, language, safety_filter_level, person_generation)\u001b[0m\n\u001b[1;32m    176\u001b[0m     parameters[\u001b[38;5;124m\"\u001b[39m\u001b[38;5;124mpersonGeneration\u001b[39m\u001b[38;5;124m\"\u001b[39m] \u001b[38;5;241m=\u001b[39m person_generation\n\u001b[1;32m    177\u001b[0m     shared_generation_parameters[\u001b[38;5;124m\"\u001b[39m\u001b[38;5;124mperson_generation\u001b[39m\u001b[38;5;124m\"\u001b[39m] \u001b[38;5;241m=\u001b[39m person_generation\n\u001b[0;32m--> 179\u001b[0m response \u001b[38;5;241m=\u001b[39m \u001b[38;5;28;43mself\u001b[39;49m\u001b[38;5;241;43m.\u001b[39;49m\u001b[43m_client\u001b[49m\u001b[38;5;241;43m.\u001b[39;49m\u001b[43mpredict\u001b[49m\u001b[43m(\u001b[49m\n\u001b[1;32m    180\u001b[0m \u001b[43m    \u001b[49m\u001b[43mmodel\u001b[49m\u001b[38;5;241;43m=\u001b[39;49m\u001b[38;5;28;43mself\u001b[39;49m\u001b[38;5;241;43m.\u001b[39;49m\u001b[43mmodel_name\u001b[49m\u001b[43m,\u001b[49m\u001b[43m \u001b[49m\u001b[43minstances\u001b[49m\u001b[38;5;241;43m=\u001b[39;49m\u001b[43m[\u001b[49m\u001b[43minstance\u001b[49m\u001b[43m]\u001b[49m\u001b[43m,\u001b[49m\u001b[43m \u001b[49m\u001b[43mparameters\u001b[49m\u001b[38;5;241;43m=\u001b[39;49m\u001b[43mparameters\u001b[49m\n\u001b[1;32m    181\u001b[0m \u001b[43m\u001b[49m\u001b[43m)\u001b[49m\n\u001b[1;32m    183\u001b[0m generated_images: List[image_types\u001b[38;5;241m.\u001b[39mGeneratedImage] \u001b[38;5;241m=\u001b[39m []\n\u001b[1;32m    184\u001b[0m \u001b[38;5;28;01mfor\u001b[39;00m idx, prediction \u001b[38;5;129;01min\u001b[39;00m \u001b[38;5;28menumerate\u001b[39m(response\u001b[38;5;241m.\u001b[39mpredictions):\n",
      "File \u001b[0;32m/Library/Frameworks/Python.framework/Versions/3.12/lib/python3.12/site-packages/google/generativeai/client.py:191\u001b[0m, in \u001b[0;36mPredictionServiceClient.predict\u001b[0;34m(self, model, instances, parameters)\u001b[0m\n\u001b[1;32m    187\u001b[0m pr \u001b[38;5;241m=\u001b[39m protos\u001b[38;5;241m.\u001b[39mPredictRequest\u001b[38;5;241m.\u001b[39mpb()\n\u001b[1;32m    188\u001b[0m request \u001b[38;5;241m=\u001b[39m pr(\n\u001b[1;32m    189\u001b[0m     model\u001b[38;5;241m=\u001b[39mmodel, instances\u001b[38;5;241m=\u001b[39m[to_value(i) \u001b[38;5;28;01mfor\u001b[39;00m i \u001b[38;5;129;01min\u001b[39;00m instances], parameters\u001b[38;5;241m=\u001b[39mto_value(parameters)\n\u001b[1;32m    190\u001b[0m )\n\u001b[0;32m--> 191\u001b[0m \u001b[38;5;28;01mreturn\u001b[39;00m \u001b[38;5;28;43msuper\u001b[39;49m\u001b[43m(\u001b[49m\u001b[43m)\u001b[49m\u001b[38;5;241;43m.\u001b[39;49m\u001b[43mpredict\u001b[49m\u001b[43m(\u001b[49m\u001b[43mrequest\u001b[49m\u001b[43m)\u001b[49m\n",
      "File \u001b[0;32m/Library/Frameworks/Python.framework/Versions/3.12/lib/python3.12/site-packages/google/ai/generativelanguage_v1beta/services/prediction_service/client.py:785\u001b[0m, in \u001b[0;36mPredictionServiceClient.predict\u001b[0;34m(self, request, model, instances, retry, timeout, metadata)\u001b[0m\n\u001b[1;32m    782\u001b[0m \u001b[38;5;28mself\u001b[39m\u001b[38;5;241m.\u001b[39m_validate_universe_domain()\n\u001b[1;32m    784\u001b[0m \u001b[38;5;66;03m# Send the request.\u001b[39;00m\n\u001b[0;32m--> 785\u001b[0m response \u001b[38;5;241m=\u001b[39m \u001b[43mrpc\u001b[49m\u001b[43m(\u001b[49m\n\u001b[1;32m    786\u001b[0m \u001b[43m    \u001b[49m\u001b[43mrequest\u001b[49m\u001b[43m,\u001b[49m\n\u001b[1;32m    787\u001b[0m \u001b[43m    \u001b[49m\u001b[43mretry\u001b[49m\u001b[38;5;241;43m=\u001b[39;49m\u001b[43mretry\u001b[49m\u001b[43m,\u001b[49m\n\u001b[1;32m    788\u001b[0m \u001b[43m    \u001b[49m\u001b[43mtimeout\u001b[49m\u001b[38;5;241;43m=\u001b[39;49m\u001b[43mtimeout\u001b[49m\u001b[43m,\u001b[49m\n\u001b[1;32m    789\u001b[0m \u001b[43m    \u001b[49m\u001b[43mmetadata\u001b[49m\u001b[38;5;241;43m=\u001b[39;49m\u001b[43mmetadata\u001b[49m\u001b[43m,\u001b[49m\n\u001b[1;32m    790\u001b[0m \u001b[43m\u001b[49m\u001b[43m)\u001b[49m\n\u001b[1;32m    792\u001b[0m \u001b[38;5;66;03m# Done; return the response.\u001b[39;00m\n\u001b[1;32m    793\u001b[0m \u001b[38;5;28;01mreturn\u001b[39;00m response\n",
      "File \u001b[0;32m/Library/Frameworks/Python.framework/Versions/3.12/lib/python3.12/site-packages/google/api_core/gapic_v1/method.py:131\u001b[0m, in \u001b[0;36m_GapicCallable.__call__\u001b[0;34m(self, timeout, retry, compression, *args, **kwargs)\u001b[0m\n\u001b[1;32m    128\u001b[0m \u001b[38;5;28;01mif\u001b[39;00m \u001b[38;5;28mself\u001b[39m\u001b[38;5;241m.\u001b[39m_compression \u001b[38;5;129;01mis\u001b[39;00m \u001b[38;5;129;01mnot\u001b[39;00m \u001b[38;5;28;01mNone\u001b[39;00m:\n\u001b[1;32m    129\u001b[0m     kwargs[\u001b[38;5;124m\"\u001b[39m\u001b[38;5;124mcompression\u001b[39m\u001b[38;5;124m\"\u001b[39m] \u001b[38;5;241m=\u001b[39m compression\n\u001b[0;32m--> 131\u001b[0m \u001b[38;5;28;01mreturn\u001b[39;00m \u001b[43mwrapped_func\u001b[49m\u001b[43m(\u001b[49m\u001b[38;5;241;43m*\u001b[39;49m\u001b[43margs\u001b[49m\u001b[43m,\u001b[49m\u001b[43m \u001b[49m\u001b[38;5;241;43m*\u001b[39;49m\u001b[38;5;241;43m*\u001b[39;49m\u001b[43mkwargs\u001b[49m\u001b[43m)\u001b[49m\n",
      "File \u001b[0;32m/Library/Frameworks/Python.framework/Versions/3.12/lib/python3.12/site-packages/google/api_core/grpc_helpers.py:78\u001b[0m, in \u001b[0;36m_wrap_unary_errors.<locals>.error_remapped_callable\u001b[0;34m(*args, **kwargs)\u001b[0m\n\u001b[1;32m     76\u001b[0m     \u001b[38;5;28;01mreturn\u001b[39;00m callable_(\u001b[38;5;241m*\u001b[39margs, \u001b[38;5;241m*\u001b[39m\u001b[38;5;241m*\u001b[39mkwargs)\n\u001b[1;32m     77\u001b[0m \u001b[38;5;28;01mexcept\u001b[39;00m grpc\u001b[38;5;241m.\u001b[39mRpcError \u001b[38;5;28;01mas\u001b[39;00m exc:\n\u001b[0;32m---> 78\u001b[0m     \u001b[38;5;28;01mraise\u001b[39;00m exceptions\u001b[38;5;241m.\u001b[39mfrom_grpc_error(exc) \u001b[38;5;28;01mfrom\u001b[39;00m \u001b[38;5;21;01mexc\u001b[39;00m\n",
      "\u001b[0;31mNotFound\u001b[0m: 404 models/imagen-3.0-generate-001 is not found for API version v1beta, or is not supported for predict. Call ListModels to see the list of available models and their supported methods."
     ]
    }
   ],
   "source": [
    "imagen = genai.ImageGenerationModel(\"imagen-3.0-generate-001\")\n",
    "\n",
    "result = imagen.generate_images(\n",
    "    prompt=\"Fuzzy bunnies in my kitchen\",\n",
    "    number_of_images=4,\n",
    "    safety_filter_level=\"block_only_high\",\n",
    "    person_generation=\"allow_adult\",\n",
    "    aspect_ratio=\"3:4\",\n",
    "    negative_prompt=\"Outside\",\n",
    ")\n",
    "\n",
    "for image in result.images:\n",
    "  print(image)\n",
    "\n",
    "# The output should look similar to this:\n",
    "# <vertexai.preview.vision_models.GeneratedImage object at 0x78f3396ef370>\n",
    "# <vertexai.preview.vision_models.GeneratedImage object at 0x78f3396ef700>\n",
    "# <vertexai.preview.vision_models.GeneratedImage object at 0x78f33953c2b0>\n",
    "# <vertexai.preview.vision_models.GeneratedImage object at 0x78f33953c280>\n",
    "\n",
    "for image in result.images:\n",
    "  # Open and display the image using your local operating system.\n",
    "  image._pil_image.show()"
   ]
  },
  {
   "cell_type": "code",
   "execution_count": null,
   "id": "702ae4a6-3f21-4342-a21f-546b59241306",
   "metadata": {},
   "outputs": [],
   "source": []
  }
 ],
 "metadata": {
  "kernelspec": {
   "display_name": "Python 3 (ipykernel)",
   "language": "python",
   "name": "python3"
  },
  "language_info": {
   "codemirror_mode": {
    "name": "ipython",
    "version": 3
   },
   "file_extension": ".py",
   "mimetype": "text/x-python",
   "name": "python",
   "nbconvert_exporter": "python",
   "pygments_lexer": "ipython3",
   "version": "3.12.7"
  }
 },
 "nbformat": 4,
 "nbformat_minor": 5
}
