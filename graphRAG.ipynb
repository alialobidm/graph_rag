{
 "cells": [
  {
   "cell_type": "markdown",
   "id": "e8b9fa04-4278-4d6e-9947-4a21ea14e730",
   "metadata": {},
   "source": [
    "# Using a SurrealDB Knowedge Graph and Gemini to build a Graph-RAG \n",
    "\n",
    "This Jupyter Notebook illustrates the implementation and utilization of a graph-based Retrieval-Augmented Generation (RAG) system using a knowledge graph stored in SurrealDB. It focuses on leveraging the knowledge graph created by the graph_extractor.ipynb notebook for question answering tasks.\n",
    "\n",
    "### Key Functionality\n",
    "####  Data Loading:\n",
    "        Loads the raw text data from which will be used for context in the prompt.\n",
    "\n",
    "#### Leveraging the Existing Knowledge Graph:\n",
    "\n",
    "        Create a SurrQL function to query the knowledge graph using vector search for the descriptions of the entities and the other entities and relationships they have in the graph. This data will also be fed into the prompt for context.\n",
    "\n",
    "        \n",
    "#### Response Generation without a knowledge graph:\n",
    "    Using a template prompt in the RAG_prompts.py file a simple context window of the text data loaded earlier with the question is asked of the LLM model.\n",
    "\n",
    "    \n",
    "\n",
    "#### Response Generation with knowledge graph:\n",
    "    Using a template prompt in the RAG_prompts.py file a context window of the text data loaded earlier, plus the graph data retrieved from SurrealDB with the question is asked of the LLM model.\n",
    "\n",
    "\n",
    "##### notes:\n",
    "    This notebook utilizes libraries :\n",
    "        surrealdb to interact with SurrealDB\n",
    "        google.generativeai to interact with Gemini\n",
    "        networkx to visualize the graph\n",
    "\n",
    "    The notebook is loosely based on a larger repository microsoft/graphrag. The microsoft/graphrag repository provides a more comprehensive, modular graph-based RAG system. This notebook focuses specifically on the knowledge graph construction aspect."
   ]
  },
  {
   "cell_type": "code",
   "execution_count": 1,
   "id": "04f3f765-96d5-49c2-96e3-aa64c560e88d",
   "metadata": {},
   "outputs": [],
   "source": [
    "import sys\n",
    "import os\n",
    "import json\n",
    "import google.generativeai as genai\n",
    "import os\n",
    "import time\n",
    "import ipynb_path\n",
    "from surrealdb import Surreal\n",
    "\n",
    "from IPython.display import display, Markdown,JSON\n",
    "from IPython.display import JSON\n",
    "\n",
    "\n",
    "#get this notebook's path for access to the other files needed\n",
    "dir_path = os.path.dirname(os.path.realpath(ipynb_path.get(__name__)))\n",
    "sys.path.append(dir_path) #add the current directory for adding py imports\n",
    "from RAG_prompts import STD_RAG_PROMT, GRAPH_RAG_PROMT"
   ]
  },
  {
   "cell_type": "code",
   "execution_count": 29,
   "id": "3d8dfda3-61c6-4ec0-8803-7ef419ea7448",
   "metadata": {},
   "outputs": [
    {
     "name": "stdout",
     "output_type": "stream",
     "text": [
      "surreal start --log none --allow-net --user root --pass root --bind 0.0.0.0:8080 \"rocksdb:///Users/sandro/Library/CloudStorage/GoogleDrive-apireno@gmail.com/My Drive/code/graph_rag/db\"\n"
     ]
    },
    {
     "data": {
      "text/plain": [
       "'\\ncd embedding_api\\nenv FLASK_APP=embedding_api.py python -m flask --app embedding_api --debug run \\n'"
      ]
     },
     "execution_count": 29,
     "metadata": {},
     "output_type": "execute_result"
    }
   ],
   "source": [
    "\n",
    "# this folder\n",
    "nb_folder = dir_path\n",
    "input_file = nb_folder + \"/Operation Dulce v2 1 1.md\"\n",
    "\n",
    "out_folder = nb_folder + \"/rag_{0}\".format(time.strftime(\"%Y%m%d-%H%M%S\"))\n",
    "os.makedirs(out_folder, exist_ok=True)\n",
    "chat_file = out_folder + \"/chat.json\"\n",
    "\n",
    "messages_to_log = []\n",
    "\n",
    "\n",
    "\n",
    "    \n",
    "ip = \"0.0.0.0:8080\"\n",
    "url = \"ws://{0}/rpc\".format(ip)\n",
    "\n",
    "u = \"root\"\n",
    "p = \"root\"\n",
    "n = \"graph_rag\"\n",
    "d = \"graph_rag\"\n",
    "db_folder = nb_folder + \"/db\"\n",
    "\n",
    "surrealdb_start = \"surreal start --log none --allow-net --user {u} --pass {p} --bind {ip} \\\"rocksdb://{db_folder}\\\"\".format(\n",
    "    u=u,\n",
    "    p=p,\n",
    "    ip=ip,\n",
    "    db_folder=db_folder)\n",
    "\n",
    "#run this command if your surreal instance isn't running yet \n",
    "#copy and paste from below into a terminal\n",
    "print(surrealdb_start)\n",
    "\n",
    "#ensure the embedding service is running as well\n",
    "\"\"\"\n",
    "cd embedding_api\n",
    "env FLASK_APP=embedding_api.py python -m flask --app embedding_api --debug run \n",
    "\"\"\"     "
   ]
  },
  {
   "cell_type": "code",
   "execution_count": 20,
   "id": "a4a60278-ae0c-43e7-b5cc-f887dbd400e3",
   "metadata": {},
   "outputs": [],
   "source": [
    "\n",
    "# get the text from the source file for use in our prompt\n",
    "with open(input_file, \"r\") as f:\n",
    "    input_text = f.read()\n",
    "\n",
    "\n",
    "entity_types = [\"PERSON\", \"PLACE\"]\n",
    "relation_type = \"RELATED_TO\"\n",
    "\n",
    "#create the function that will return the portion of the knowledge graph \n",
    "#relevant to the question using vector search on the description embedding\n",
    "retrieve_function_surql = \"\"\"\n",
    "DEFINE FUNCTION OVERWRITE fn::get_related_entities($text: string) {{\n",
    "    \n",
    "    LET $emb = fn::get_embeddings($text);\n",
    "    \n",
    "    RETURN SELECT id,description, ->{1}.{{out,strength,description}} FROM {0} \n",
    "        WHERE  embedding <|5,COSINE|> $emb;\n",
    "}};\n",
    "\"\"\".format(entity_types[0],relation_type)\n",
    "\n",
    "\n",
    "async with Surreal(url) as db:\n",
    "    await db.signin({\"user\": u, \"pass\": p}) \n",
    "    await db.use(n, d)\n",
    "    outcome = await db.query(retrieve_function_surql)\n",
    "\n"
   ]
  },
  {
   "cell_type": "code",
   "execution_count": 21,
   "id": "cd2da166-a935-4df7-b11d-3aac7fa91bab",
   "metadata": {},
   "outputs": [
    {
     "data": {
      "application/json": [
       {
        "result": [
         {
          "->RELATED_TO": [
           {
            "description": "Alex Mercer works at the central hub during the signal analysis.",
            "out": "PLACE:⟨CENTRAL HUB⟩",
            "strength": 8
           },
           {
            "description": "Alex Mercer reports to the military command in Washington.",
            "out": "PLACE:WASHINGTON",
            "strength": 7
           },
           {
            "description": "Alex Mercer mentors Sam Rivera, providing guidance and support, while Sam provides technological expertise to the team.",
            "out": "PERSON:⟨SAM RIVERA⟩",
            "strength": 8
           },
           {
            "description": "Alex Mercer attends a meeting in a meeting room before the mission.",
            "out": "PLACE:⟨MEETING ROOM⟩",
            "strength": 7
           },
           {
            "description": "Alex Mercer works in the communications hub to decipher the alien signals.",
            "out": "PLACE:⟨COMMUNICATIONS HUB⟩",
            "strength": 8
           },
           {
            "description": "Alex Mercer uses the elevator shaft to descend into Dulce Base.",
            "out": "PLACE:⟨ELEVATOR SHAFT⟩",
            "strength": 8
           },
           {
            "description": "Alex Mercer is present in an underground meeting room before the mission.",
            "out": "PLACE:⟨UNDERGROUND MEETING ROOM⟩",
            "strength": 7
           },
           {
            "description": "Alex Mercer and Jordan Hayes work closely together, sharing insights and strategies for deciphering the alien signals.  Alex shows trust and respect for Jordan's expertise.",
            "out": "PERSON:⟨JORDAN HAYES⟩",
            "strength": 9
           },
           {
            "description": "Alex Mercer is present in the mainframe room for signal analysis.",
            "out": "PLACE:⟨MAINFRAME ROOM⟩",
            "strength": 8
           },
           {
            "description": "Alex Mercer and Taylor Cruz are both leaders within the Paranormal Military Squad. They frequently interact, with Taylor providing directives and Alex offering counterpoints or insights.",
            "out": "PERSON:⟨TAYLOR CRUZ⟩",
            "strength": 7
           },
           {
            "description": "Alex Mercer travels through corridors in Dulce Base.",
            "out": "PLACE:CORRIDOR",
            "strength": 7
           },
           {
            "description": "Alex Mercer is the leader and central figure in this operation, making decisions and interacting with every other member.",
            "out": "PERSON:⟨ALEX MERCER⟩",
            "strength": 10
           },
           {
            "description": "Alex Mercer works within Dulce Base, leading missions and interacting with his team there.",
            "out": "PLACE:⟨DULCE BASE⟩",
            "strength": 9
           }
          ],
          "description": "Agent Alex Mercer is a member of the Paranormal Military Squad, skilled in leadership and strategic thinking. He is focused on understanding the alien signals and ensuring the team's safety.",
          "id": "PERSON:⟨ALEX MERCER⟩"
         },
         {
          "->RELATED_TO": [
           {
            "description": "Jordan Hayes and Taylor Cruz frequently interact, with Taylor emphasizing protocol and Jordan highlighting the need for adaptability in the face of the unknown. There is a tension between them, but also a grudging respect.",
            "out": "PERSON:⟨TAYLOR CRUZ⟩",
            "strength": 6
           },
           {
            "description": "Jordan Hayes reports to the military command in Washington.",
            "out": "PLACE:WASHINGTON",
            "strength": 7
           },
           {
            "description": "Jordan Hayes is present in an underground meeting room before the mission.",
            "out": "PLACE:⟨UNDERGROUND MEETING ROOM⟩",
            "strength": 7
           },
           {
            "description": "Jordan Hayes attends a meeting in a meeting room before the mission.",
            "out": "PLACE:⟨MEETING ROOM⟩",
            "strength": 7
           },
           {
            "description": "Jordan Hayes travels through corridors in Dulce Base.",
            "out": "PLACE:CORRIDOR",
            "strength": 7
           },
           {
            "description": "Jordan Hayes and Sam Rivera collaborate closely, with Sam providing technological support and Jordan offering scientific insights during the analysis of alien signals.",
            "out": "PERSON:⟨SAM RIVERA⟩",
            "strength": 9
           },
           {
            "description": "Jordan Hayes provides scientific expertise to the team.",
            "out": "PERSON:⟨JORDAN HAYES⟩",
            "strength": 10
           },
           {
            "description": "Jordan Hayes uses the elevator shaft to descend into Dulce Base.",
            "out": "PLACE:⟨ELEVATOR SHAFT⟩",
            "strength": 8
           },
           {
            "description": "Jordan Hayes works at the central hub during the signal analysis.",
            "out": "PLACE:⟨CENTRAL HUB⟩",
            "strength": 9
           },
           {
            "description": "Jordan Hayes works in the communications hub analyzing alien signals.",
            "out": "PLACE:⟨COMMUNICATIONS HUB⟩",
            "strength": 9
           },
           {
            "description": "Jordan Hayes works at Dulce Base, conducting research and analyzing alien signals within the facility.",
            "out": "PLACE:⟨DULCE BASE⟩",
            "strength": 9
           },
           {
            "description": "Jordan Hayes is present in the mainframe room analyzing signals.",
            "out": "PLACE:⟨MAINFRAME ROOM⟩",
            "strength": 9
           },
           {
            "description": "Jordan Hayes retrieves alien technology from a crash site.",
            "out": "PLACE:⟨CRASH SITE⟩",
            "strength": 8
           }
          ],
          "description": "Dr. Jordan Hayes is a member of the Paranormal Military Squad and a skilled scientist, specializing in deciphering alien signals. They bring analytical expertise and a measured approach to the mission.",
          "id": "PERSON:⟨JORDAN HAYES⟩"
         },
         {
          "->RELATED_TO": [
           {
            "description": "Sam Rivera works in the server room to decode signals.",
            "out": "PLACE:⟨SERVER ROOM⟩",
            "strength": 9
           },
           {
            "description": "Sam Rivera is present in the mainframe room providing technological support.",
            "out": "PLACE:⟨MAINFRAME ROOM⟩",
            "strength": 9
           },
           {
            "description": "Sam Rivera reports to the military command in Washington.",
            "out": "PLACE:WASHINGTON",
            "strength": 7
           },
           {
            "description": "Sam Rivera provides critical technological support and insights to the team.",
            "out": "PERSON:⟨SAM RIVERA⟩",
            "strength": 10
           },
           {
            "description": "Sam Rivera attends a meeting in a meeting room before the mission.",
            "out": "PLACE:⟨MEETING ROOM⟩",
            "strength": 7
           },
           {
            "description": "Sam Rivera is present in an underground meeting room before the mission.",
            "out": "PLACE:⟨UNDERGROUND MEETING ROOM⟩",
            "strength": 7
           },
           {
            "description": "Sam Rivera works at the central hub providing technical support.",
            "out": "PLACE:⟨CENTRAL HUB⟩",
            "strength": 9
           },
           {
            "description": "Sam Rivera operates within Dulce Base, providing technological expertise and support to the team.",
            "out": "PLACE:⟨DULCE BASE⟩",
            "strength": 9
           },
           {
            "description": "Sam Rivera travels through corridors in Dulce Base.",
            "out": "PLACE:CORRIDOR",
            "strength": 7
           },
           {
            "description": "Sam Rivera uses the elevator shaft to descend into Dulce Base.",
            "out": "PLACE:⟨ELEVATOR SHAFT⟩",
            "strength": 8
           }
          ],
          "description": "Agent Sam Rivera is a member of the Paranormal Military Squad and a cybersecurity expert. They possess technological skills in decoding and interpreting alien communications. They also demonstrate a youthful enthusiasm and optimistic perspective.",
          "id": "PERSON:⟨SAM RIVERA⟩"
         },
         {
          "->RELATED_TO": [
           {
            "description": "Taylor Cruz is present in the mainframe room to oversee the operation.",
            "out": "PLACE:⟨MAINFRAME ROOM⟩",
            "strength": 8
           },
           {
            "description": "Taylor Cruz attends a meeting in a meeting room before the mission.",
            "out": "PLACE:⟨MEETING ROOM⟩",
            "strength": 7
           },
           {
            "description": "Taylor Cruz and Sam Rivera are members of the same team and frequently interact, with Taylor providing directives and Sam offering technological expertise.",
            "out": "PERSON:⟨SAM RIVERA⟩",
            "strength": 7
           },
           {
            "description": "Taylor Cruz oversees operations at the central hub.",
            "out": "PLACE:⟨CENTRAL HUB⟩",
            "strength": 8
           },
           {
            "description": "Taylor Cruz uses the elevator shaft to descend into Dulce Base.",
            "out": "PLACE:⟨ELEVATOR SHAFT⟩",
            "strength": 8
           },
           {
            "description": "Taylor Cruz reports to the military command in Washington.",
            "out": "PLACE:WASHINGTON",
            "strength": 7
           },
           {
            "description": "Taylor Cruz checks equipment in the equipment bay before the mission.",
            "out": "PLACE:⟨EQUIPMENT BAY⟩",
            "strength": 8
           },
           {
            "description": "Taylor Cruz travels through corridors in Dulce Base.",
            "out": "PLACE:CORRIDOR",
            "strength": 7
           },
           {
            "description": "Taylor Cruz is a key member, acting as a counterpoint to Alex Mercer's decisions and strategies.",
            "out": "PERSON:⟨TAYLOR CRUZ⟩",
            "strength": 10
           },
           {
            "description": "Taylor Cruz is present in an underground meeting room before the mission.",
            "out": "PLACE:⟨UNDERGROUND MEETING ROOM⟩",
            "strength": 7
           },
           {
            "description": "Taylor Cruz operates within Dulce Base, directing the team and providing leadership.",
            "out": "PLACE:⟨DULCE BASE⟩",
            "strength": 9
           }
          ],
          "description": "Agent Taylor Cruz is a member of the Paranormal Military Squad and exhibits a strong leadership style, emphasizing protocol and caution. They are focused on risk assessment and maintaining control.",
          "id": "PERSON:⟨TAYLOR CRUZ⟩"
         },
         {
          "->RELATED_TO": [],
          "description": "Washington is the location of the military command that oversees the Paranormal Military Squad and Operation: Dulce.",
          "id": "PERSON:WASHINGTON"
         }
        ],
        "status": "OK",
        "time": "30.982916ms"
       }
      ],
      "text/plain": [
       "<IPython.core.display.JSON object>"
      ]
     },
     "execution_count": 21,
     "metadata": {
      "application/json": {
       "expanded": false,
       "root": "root"
      }
     },
     "output_type": "execute_result"
    }
   ],
   "source": [
    "\n",
    "#Let's test out vector/graph query\n",
    "#we should see a collection of people and relationships\n",
    "#where the person's description is related to the question \n",
    "\n",
    "async with Surreal(url) as db:\n",
    "    await db.signin({\"user\": u, \"pass\": p}) \n",
    "    await db.use(n, d)\n",
    "    get_the_graph_context_surql = \"fn::get_related_entities('{0}')\"\n",
    "    outcome = await db.query(get_the_graph_context_surql.format(\"Who is the main character?\"))\n",
    "\n",
    "JSON(outcome)\n",
    "    "
   ]
  },
  {
   "cell_type": "code",
   "execution_count": 30,
   "id": "4b9a6852-bed5-4cdc-aa58-a4b0d58cbe6f",
   "metadata": {},
   "outputs": [],
   "source": [
    "\n",
    "\n",
    "def generate_content_with_attachment(the_model,the_messages,attached_file):\n",
    "    #time.sleep(5) # to stop generating too many requests per min\n",
    "\n",
    "    response = the_model.generate_content([attached_file,str(the_messages)])\n",
    "    return response\n",
    "\n",
    "\n",
    "\n",
    "\n",
    "\n",
    "def generate_std_LLM_messages(the_question,attached_file):\n",
    "    messages =  [\n",
    "            {\"role\": \"user\", \"parts\": [{\"text\": STD_RAG_PROMT.format(\n",
    "                question = the_question\n",
    "            )}]}\n",
    "        ]\n",
    "    return messages\n",
    "\n",
    "\n",
    "#this function will call the LLM with a prompt that includes the text of the original document\n",
    "def get_std_LLM_response(the_model,the_question,attached_file):\n",
    "    \n",
    "    messages = generate_std_LLM_messages(the_question,attached_file)\n",
    "    messages_to_log.append(messages)\n",
    "    \n",
    "    with open(chat_file, \"w\") as f:\n",
    "        json.dump(messages_to_log, f)\n",
    "        \n",
    "    response = generate_content_with_attachment(model,messages,attached_file)\n",
    "    return response\n",
    "\n",
    "   \n",
    "async def generate_graph_RAG_messages(the_db,the_question,attached_file):\n",
    "    get_the_graph_context_surql = \"fn::get_related_entities('{0}')\"\n",
    "    \n",
    "    outcome = await the_db.query(get_the_graph_context_surql.format(the_question))\n",
    "    messages = [\n",
    "            {\"role\": \"user\", \"parts\": [{\"text\": GRAPH_RAG_PROMT.format(\n",
    "                question = the_question,\n",
    "                knowledge_graph = outcome\n",
    "            )}]}\n",
    "        ]\n",
    "    \n",
    "    return messages\n",
    "    \n",
    "    \n",
    "#this function will call the LLM with a prompt that includes the text of the original document\n",
    "#plus the relevant entities and relationships from the knowledge graph bases on a vector search\n",
    "async def get_graph_RAG_response(the_db,the_model,the_question,attached_file):\n",
    "    \n",
    "    messages = await generate_graph_RAG_messages(the_db,the_question,attached_file)\n",
    "    messages_to_log.append(messages)\n",
    "    \n",
    "    with open(chat_file, \"w\") as f:\n",
    "        json.dump(messages_to_log, f)\n",
    "    \n",
    "    response = generate_content_with_attachment(model,messages,attached_file)\n",
    "    return response\n",
    "    \n",
    "       "
   ]
  },
  {
   "cell_type": "code",
   "execution_count": 23,
   "id": "7a0050ec-609c-4b15-af47-38bdb03a0edc",
   "metadata": {},
   "outputs": [],
   "source": [
    "\n",
    "# Set your API key (I've stored mine in an env variable)\n",
    "genai.configure(api_key=os.getenv('GOOGLE_GENAI_API_KEY'))\n",
    "\n",
    "#flash is faster and good enough\n",
    "#model = \"gemini-1.0-pro\"\n",
    "model = \"gemini-1.5-flash\"\n",
    "\n",
    "model = genai.GenerativeModel(model)\n",
    "\n",
    "\n",
    "the_attached_file = genai.upload_file(input_file)\n",
    "\n",
    "while the_attached_file.state.name == \"PROCESSING\":\n",
    "    print(\".\", end=\"\")\n",
    "    time.sleep(10)\n",
    "    the_attached_file = genai.get_file(the_attached_file.name)\n",
    "\n",
    "\n",
    "\n"
   ]
  },
  {
   "cell_type": "code",
   "execution_count": 47,
   "id": "718fc9d3-85fb-4fc2-b72d-b4a29ffd30f6",
   "metadata": {},
   "outputs": [
    {
     "name": "stdout",
     "output_type": "stream",
     "text": [
      "\n",
      "\n",
      "\n",
      "\n",
      " ------ STD RAG -------------------------\n",
      "\n",
      "\n",
      "\n",
      "\n",
      "{\n",
      "    \"parts\": [\n",
      "        {\n",
      "            \"text\": \"\\n-Goal-\\nYou are a researcher who is providing answers to a question for you client based on documents provided you. Answer the questions to the best of your ability given the documents.\\n\\n<question>\\nWho is the main character and what motivates them?\\n</question>\\n\\n \"\n",
      "        }\n",
      "    ],\n",
      "    \"role\": \"user\"\n",
      "}\n",
      "\n",
      "\n",
      "\n",
      "\n",
      " ------ GRAPH RAG -------------------------\n",
      "\n",
      "\n",
      "\n",
      "\n",
      "{\n",
      "    \"parts\": [\n",
      "        {\n",
      "            \"text\": \"\\n-Goal-\\nYou are a researcher who is providing answers to a question for you client based on documents provided you. You also have access to a knowledge graph based on the documents provided. Answer the questions to the best of your ability given the documents and knowledge graph.\\n\\n<knowledge graph>\\n[{'result': [{'->RELATED_TO': [{'description': 'Alex Mercer works at the central hub during the signal analysis.', 'out': 'PLACE:\\u27e8CENTRAL HUB\\u27e9', 'strength': 8}, {'description': 'Alex Mercer reports to the military command in Washington.', 'out': 'PLACE:WASHINGTON', 'strength': 7}, {'description': 'Alex Mercer mentors Sam Rivera, providing guidance and support, while Sam provides technological expertise to the team.', 'out': 'PERSON:\\u27e8SAM RIVERA\\u27e9', 'strength': 8}, {'description': 'Alex Mercer attends a meeting in a meeting room before the mission.', 'out': 'PLACE:\\u27e8MEETING ROOM\\u27e9', 'strength': 7}, {'description': 'Alex Mercer works in the communications hub to decipher the alien signals.', 'out': 'PLACE:\\u27e8COMMUNICATIONS HUB\\u27e9', 'strength': 8}, {'description': 'Alex Mercer uses the elevator shaft to descend into Dulce Base.', 'out': 'PLACE:\\u27e8ELEVATOR SHAFT\\u27e9', 'strength': 8}, {'description': 'Alex Mercer is present in an underground meeting room before the mission.', 'out': 'PLACE:\\u27e8UNDERGROUND MEETING ROOM\\u27e9', 'strength': 7}, {'description': \\\"Alex Mercer and Jordan Hayes work closely together, sharing insights and strategies for deciphering the alien signals.  Alex shows trust and respect for Jordan's expertise.\\\", 'out': 'PERSON:\\u27e8JORDAN HAYES\\u27e9', 'strength': 9}, {'description': 'Alex Mercer is present in the mainframe room for signal analysis.', 'out': 'PLACE:\\u27e8MAINFRAME ROOM\\u27e9', 'strength': 8}, {'description': 'Alex Mercer and Taylor Cruz are both leaders within the Paranormal Military Squad. They frequently interact, with Taylor providing directives and Alex offering counterpoints or insights.', 'out': 'PERSON:\\u27e8TAYLOR CRUZ\\u27e9', 'strength': 7}, {'description': 'Alex Mercer travels through corridors in Dulce Base.', 'out': 'PLACE:CORRIDOR', 'strength': 7}, {'description': 'Alex Mercer is the leader and central figure in this operation, making decisions and interacting with every other member.', 'out': 'PERSON:\\u27e8ALEX MERCER\\u27e9', 'strength': 10}, {'description': 'Alex Mercer works within Dulce Base, leading missions and interacting with his team there.', 'out': 'PLACE:\\u27e8DULCE BASE\\u27e9', 'strength': 9}], 'description': \\\"Agent Alex Mercer is a member of the Paranormal Military Squad, skilled in leadership and strategic thinking. He is focused on understanding the alien signals and ensuring the team's safety.\\\", 'id': 'PERSON:\\u27e8ALEX MERCER\\u27e9'}, {'->RELATED_TO': [{'description': 'Jordan Hayes and Taylor Cruz frequently interact, with Taylor emphasizing protocol and Jordan highlighting the need for adaptability in the face of the unknown. There is a tension between them, but also a grudging respect.', 'out': 'PERSON:\\u27e8TAYLOR CRUZ\\u27e9', 'strength': 6}, {'description': 'Jordan Hayes reports to the military command in Washington.', 'out': 'PLACE:WASHINGTON', 'strength': 7}, {'description': 'Jordan Hayes is present in an underground meeting room before the mission.', 'out': 'PLACE:\\u27e8UNDERGROUND MEETING ROOM\\u27e9', 'strength': 7}, {'description': 'Jordan Hayes attends a meeting in a meeting room before the mission.', 'out': 'PLACE:\\u27e8MEETING ROOM\\u27e9', 'strength': 7}, {'description': 'Jordan Hayes travels through corridors in Dulce Base.', 'out': 'PLACE:CORRIDOR', 'strength': 7}, {'description': 'Jordan Hayes and Sam Rivera collaborate closely, with Sam providing technological support and Jordan offering scientific insights during the analysis of alien signals.', 'out': 'PERSON:\\u27e8SAM RIVERA\\u27e9', 'strength': 9}, {'description': 'Jordan Hayes provides scientific expertise to the team.', 'out': 'PERSON:\\u27e8JORDAN HAYES\\u27e9', 'strength': 10}, {'description': 'Jordan Hayes uses the elevator shaft to descend into Dulce Base.', 'out': 'PLACE:\\u27e8ELEVATOR SHAFT\\u27e9', 'strength': 8}, {'description': 'Jordan Hayes works at the central hub during the signal analysis.', 'out': 'PLACE:\\u27e8CENTRAL HUB\\u27e9', 'strength': 9}, {'description': 'Jordan Hayes works in the communications hub analyzing alien signals.', 'out': 'PLACE:\\u27e8COMMUNICATIONS HUB\\u27e9', 'strength': 9}, {'description': 'Jordan Hayes works at Dulce Base, conducting research and analyzing alien signals within the facility.', 'out': 'PLACE:\\u27e8DULCE BASE\\u27e9', 'strength': 9}, {'description': 'Jordan Hayes is present in the mainframe room analyzing signals.', 'out': 'PLACE:\\u27e8MAINFRAME ROOM\\u27e9', 'strength': 9}, {'description': 'Jordan Hayes retrieves alien technology from a crash site.', 'out': 'PLACE:\\u27e8CRASH SITE\\u27e9', 'strength': 8}], 'description': 'Dr. Jordan Hayes is a member of the Paranormal Military Squad and a skilled scientist, specializing in deciphering alien signals. They bring analytical expertise and a measured approach to the mission.', 'id': 'PERSON:\\u27e8JORDAN HAYES\\u27e9'}, {'->RELATED_TO': [{'description': 'Sam Rivera works in the server room to decode signals.', 'out': 'PLACE:\\u27e8SERVER ROOM\\u27e9', 'strength': 9}, {'description': 'Sam Rivera is present in the mainframe room providing technological support.', 'out': 'PLACE:\\u27e8MAINFRAME ROOM\\u27e9', 'strength': 9}, {'description': 'Sam Rivera reports to the military command in Washington.', 'out': 'PLACE:WASHINGTON', 'strength': 7}, {'description': 'Sam Rivera provides critical technological support and insights to the team.', 'out': 'PERSON:\\u27e8SAM RIVERA\\u27e9', 'strength': 10}, {'description': 'Sam Rivera attends a meeting in a meeting room before the mission.', 'out': 'PLACE:\\u27e8MEETING ROOM\\u27e9', 'strength': 7}, {'description': 'Sam Rivera is present in an underground meeting room before the mission.', 'out': 'PLACE:\\u27e8UNDERGROUND MEETING ROOM\\u27e9', 'strength': 7}, {'description': 'Sam Rivera works at the central hub providing technical support.', 'out': 'PLACE:\\u27e8CENTRAL HUB\\u27e9', 'strength': 9}, {'description': 'Sam Rivera operates within Dulce Base, providing technological expertise and support to the team.', 'out': 'PLACE:\\u27e8DULCE BASE\\u27e9', 'strength': 9}, {'description': 'Sam Rivera travels through corridors in Dulce Base.', 'out': 'PLACE:CORRIDOR', 'strength': 7}, {'description': 'Sam Rivera uses the elevator shaft to descend into Dulce Base.', 'out': 'PLACE:\\u27e8ELEVATOR SHAFT\\u27e9', 'strength': 8}], 'description': 'Agent Sam Rivera is a member of the Paranormal Military Squad and a cybersecurity expert. They possess technological skills in decoding and interpreting alien communications. They also demonstrate a youthful enthusiasm and optimistic perspective.', 'id': 'PERSON:\\u27e8SAM RIVERA\\u27e9'}, {'->RELATED_TO': [{'description': 'Taylor Cruz is present in the mainframe room to oversee the operation.', 'out': 'PLACE:\\u27e8MAINFRAME ROOM\\u27e9', 'strength': 8}, {'description': 'Taylor Cruz attends a meeting in a meeting room before the mission.', 'out': 'PLACE:\\u27e8MEETING ROOM\\u27e9', 'strength': 7}, {'description': 'Taylor Cruz and Sam Rivera are members of the same team and frequently interact, with Taylor providing directives and Sam offering technological expertise.', 'out': 'PERSON:\\u27e8SAM RIVERA\\u27e9', 'strength': 7}, {'description': 'Taylor Cruz oversees operations at the central hub.', 'out': 'PLACE:\\u27e8CENTRAL HUB\\u27e9', 'strength': 8}, {'description': 'Taylor Cruz uses the elevator shaft to descend into Dulce Base.', 'out': 'PLACE:\\u27e8ELEVATOR SHAFT\\u27e9', 'strength': 8}, {'description': 'Taylor Cruz reports to the military command in Washington.', 'out': 'PLACE:WASHINGTON', 'strength': 7}, {'description': 'Taylor Cruz checks equipment in the equipment bay before the mission.', 'out': 'PLACE:\\u27e8EQUIPMENT BAY\\u27e9', 'strength': 8}, {'description': 'Taylor Cruz travels through corridors in Dulce Base.', 'out': 'PLACE:CORRIDOR', 'strength': 7}, {'description': \\\"Taylor Cruz is a key member, acting as a counterpoint to Alex Mercer's decisions and strategies.\\\", 'out': 'PERSON:\\u27e8TAYLOR CRUZ\\u27e9', 'strength': 10}, {'description': 'Taylor Cruz is present in an underground meeting room before the mission.', 'out': 'PLACE:\\u27e8UNDERGROUND MEETING ROOM\\u27e9', 'strength': 7}, {'description': 'Taylor Cruz operates within Dulce Base, directing the team and providing leadership.', 'out': 'PLACE:\\u27e8DULCE BASE\\u27e9', 'strength': 9}], 'description': 'Agent Taylor Cruz is a member of the Paranormal Military Squad and exhibits a strong leadership style, emphasizing protocol and caution. They are focused on risk assessment and maintaining control.', 'id': 'PERSON:\\u27e8TAYLOR CRUZ\\u27e9'}, {'->RELATED_TO': [], 'description': 'Washington is the location of the military command that oversees the Paranormal Military Squad and Operation: Dulce.', 'id': 'PERSON:WASHINGTON'}], 'status': 'OK', 'time': '8.791417ms'}]\\n</knowlede graph>\\n\\n<question>\\nWho is the main character and what motivates them?\\n</question>\\n\\n \"\n",
      "        }\n",
      "    ],\n",
      "    \"role\": \"user\"\n",
      "}\n"
     ]
    }
   ],
   "source": [
    "q = \"Who is the main character and what motivates them?\"\n",
    "\n",
    "print (\"\\n\\n\\n\\n ------ STD RAG -------------------------\\n\\n\\n\\n\")\n",
    "messages = generate_std_LLM_messages(q,the_attached_file)\n",
    "print(json.dumps(messages[0], indent=4, sort_keys=True))\n",
    "\n",
    "print (\"\\n\\n\\n\\n ------ GRAPH RAG -------------------------\\n\\n\\n\\n\")\n",
    "\n",
    "async with Surreal(url) as db:\n",
    "    await db.signin({\"user\": u, \"pass\": p}) \n",
    "    await db.use(n, d)\n",
    "    messages = await generate_graph_RAG_messages(db,q,the_attached_file)\n",
    "    print(json.dumps(messages[0], indent=4, sort_keys=True))\n",
    " \n",
    "   \n"
   ]
  },
  {
   "cell_type": "code",
   "execution_count": 57,
   "id": "eaf947c4-621f-4e63-a914-c27c99d805a7",
   "metadata": {},
   "outputs": [
    {
     "name": "stdout",
     "output_type": "stream",
     "text": [
      "\n",
      "\n",
      "\n",
      "\n",
      " ------ STD RAG -------------------------\n",
      "\n",
      "\n",
      "\n",
      "\n"
     ]
    },
    {
     "data": {
      "text/markdown": [
       "* **Main Character:** While the story features a team, Agent Alex Mercer arguably functions as the protagonist.  He's central to many key scenes and interactions, and his internal struggles and growth are prominent throughout the narrative.\n",
       "\n",
       "* **Motivations:**\n",
       "    * **Duty and Compliance:** Mercer is initially motivated by a sense of duty and adherence to protocol, demonstrated by his initial compliant behavior during briefings.  This is a product of his military background and experience.\n",
       "    * **Discovery and Understanding:**  As the story unfolds, a stronger motivation for discovery and understanding of the alien intelligence emerges. He demonstrates a growing curiosity and desire to grasp the full implications of their contact, moving beyond simple obedience.  This is seen in his interactions with Jordan Hayes, where they share an understanding of the deeper, more significant implications of the mission.\n",
       "    * **Protection of Humanity:** Mercer's actions are increasingly driven by a desire to protect humanity from potential threats posed by the alien contact, balancing the pursuit of knowledge with the need for caution and strategic planning. This is shown in his leadership and decision-making throughout the operation.\n",
       "    * **Overcoming Hierarchical Constraints:** A subtle but important motivation for Mercer is his ability to overcome the rigid hierarchical structures of Paranormal Military Squad. This is highlighted by his interactions with Taylor Cruz, where he progressively challenges and influences Cruz’s authoritarian approach. He finds common ground with other team members who share a desire for discovery that transcends protocols.\n",
       "\n"
      ],
      "text/plain": [
       "<IPython.core.display.Markdown object>"
      ]
     },
     "metadata": {},
     "output_type": "display_data"
    },
    {
     "name": "stdout",
     "output_type": "stream",
     "text": [
      "\n",
      "\n",
      "\n",
      "\n",
      " ------ GRAPH RAG -------------------------\n",
      "\n",
      "\n",
      "\n",
      "\n"
     ]
    },
    {
     "data": {
      "text/markdown": [
       "* **Main Character:** Alex Mercer is the main character.\n",
       "\n",
       "* **Motivations:**\n",
       "    * **Mission Success:** Alex's primary motivation is the successful completion of Operation: Dulce.  This involves deciphering the alien signals, understanding their intent, and ensuring the safety of his team.  His military background heavily influences this drive.\n",
       "    * **Understanding the Unknown:**  Alex possesses a strong intellectual curiosity. He's driven by the desire to understand the nature of the alien intelligence and the implications of first contact. This desire transcends simple mission parameters; it’s a quest for knowledge.\n",
       "    * **Team Leadership and Protection:** Alex demonstrates a strong sense of responsibility for his team. He acts as a leader, offering guidance, support, and protection while fostering trust and collaboration amongst his fellow agents.  His decisions are often tempered by his concern for the well-being of his team.\n",
       "    * **Humanity's Future:**  Underlying Alex's motivations is a concern for humanity's future. He recognizes that their interaction with the alien intelligence could have profound and lasting consequences for the entire human race, influencing his approach to the mission.  He strives to ensure a positive outcome for humanity as a whole.\n",
       "\n"
      ],
      "text/plain": [
       "<IPython.core.display.Markdown object>"
      ]
     },
     "metadata": {},
     "output_type": "display_data"
    }
   ],
   "source": [
    "#Lets test a question...\n",
    "\n",
    "q = \"Who is the main character and what motivates them? Format your response in bullet points.\"\n",
    "\n",
    "response = get_std_LLM_response(model,q,the_attached_file)\n",
    "\n",
    "print (\"\\n\\n\\n\\n ------ STD RAG -------------------------\\n\\n\\n\\n\")\n",
    "\n",
    "\n",
    "\n",
    "display(Markdown(response.text))\n",
    "\n",
    "print (\"\\n\\n\\n\\n ------ GRAPH RAG -------------------------\\n\\n\\n\\n\")\n",
    "\n",
    "async with Surreal(url) as db:\n",
    "    await db.signin({\"user\": u, \"pass\": p}) \n",
    "    await db.use(n, d)\n",
    "    response = await get_graph_RAG_response(db,model,q,the_attached_file)\n",
    "    display(Markdown(response.text))\n",
    "\n",
    "\n"
   ]
  },
  {
   "cell_type": "code",
   "execution_count": 58,
   "id": "e6cb7379-0b85-4320-8dc0-a3812e6ee888",
   "metadata": {},
   "outputs": [
    {
     "name": "stdout",
     "output_type": "stream",
     "text": [
      "\n",
      "\n",
      "\n",
      "\n",
      " ------ STD RAG -------------------------\n",
      "\n",
      "\n",
      "\n",
      "\n"
     ]
    },
    {
     "data": {
      "text/markdown": [
       "Based on the provided text, Alex Mercer's dearest places and people are not explicitly stated.  The narrative focuses on his professional relationships and the mission at hand.  However, we can infer some potential candidates:\n",
       "\n",
       "* **Dr. Jordan Hayes:**  The text repeatedly highlights a strong professional bond and mutual respect between Alex and Jordan, suggesting a deep level of trust and understanding.  Their shared intellectual curiosity and willingness to push boundaries in the face of the unknown hints at a significant, possibly close, relationship.\n",
       "\n",
       "* **Sam Rivera:** Alex shows a degree of mentorship and trust toward Sam, highlighting Sam's keen insights and recognizing their importance to the mission. This suggests a valued professional relationship, bordering on mentorship.\n",
       "\n",
       "\n",
       "There is no mention of family, friends, or other personal relationships in the provided text.  The narrative heavily emphasizes his professional life and dedication to the mission.\n"
      ],
      "text/plain": [
       "<IPython.core.display.Markdown object>"
      ]
     },
     "metadata": {},
     "output_type": "display_data"
    },
    {
     "name": "stdout",
     "output_type": "stream",
     "text": [
      "\n",
      "\n",
      "\n",
      "\n",
      " ------ GRAPH RAG -------------------------\n",
      "\n",
      "\n",
      "\n",
      "\n"
     ]
    },
    {
     "data": {
      "text/markdown": [
       "Based on the provided text and knowledge graph, here's what we can infer about the places and people Alex Mercer values most:\n",
       "\n",
       "* **People:**\n",
       "    * **Jordan Hayes:** The knowledge graph indicates a strong bond between Alex and Jordan, highlighting their close collaboration, shared insights, Alex's trust and respect for Jordan's expertise (strength: 9).  The narrative emphasizes their shared understanding and reliance on each other.\n",
       "    * **Sam Rivera:** The knowledge graph shows Alex mentoring Sam and trusting his technological expertise (strength: 8). The story also demonstrates Alex's belief in Sam's abilities and his willingness to rely on Sam's insights.\n",
       "\n",
       "* **Places:**  The knowledge graph doesn't directly indicate places Alex *holds dearest*, but it highlights locations crucial to his mission and where he spends significant time:\n",
       "    * **Dulce Base:** This is where the core of the operation takes place, and the knowledge graph shows Alex's strong connection to it (strength: 9).  His actions and focus within the base demonstrate his dedication to the mission and therefore, implicitly, his association with the place.\n",
       "    * **Central Hub/Communications Hub/Mainframe Room:** These locations within Dulce Base are central to the signal analysis and communication with alien intelligence. Alex's frequent presence in these locations suggests their importance to his work and, by extension, his sense of purpose.\n",
       "\n",
       "\n",
       "It's important to note that the knowledge graph primarily focuses on professional relationships and locations relevant to the mission.  The text hints at deeper sentiments but doesn't explicitly state which places or people Alex Mercer \"holds dearest\" in a personal sense.  The analysis focuses on professional relationships and places of critical importance to his mission.\n"
      ],
      "text/plain": [
       "<IPython.core.display.Markdown object>"
      ]
     },
     "metadata": {},
     "output_type": "display_data"
    }
   ],
   "source": [
    "\n",
    "#Let's test a question that asks about the main character's relationships\n",
    "q = \"What places and people does Alex Mercer hold dearest? Format your response in bullet points. Format your response in bullet points.\"\n",
    "\n",
    "response = get_std_LLM_response(model,q,input_text)\n",
    "\n",
    "print (\"\\n\\n\\n\\n ------ STD RAG -------------------------\\n\\n\\n\\n\")\n",
    "\n",
    "\n",
    "display(Markdown(response.text))\n",
    "\n",
    "print (\"\\n\\n\\n\\n ------ GRAPH RAG -------------------------\\n\\n\\n\\n\")\n",
    "\n",
    "async with Surreal(url) as db:\n",
    "    await db.signin({\"user\": u, \"pass\": p}) \n",
    "    await db.use(n, d)\n",
    "    response = await get_graph_RAG_response(db,model,q,input_text)\n",
    "    display(Markdown(response.text))\n",
    "\n"
   ]
  },
  {
   "cell_type": "code",
   "execution_count": 78,
   "id": "d090858a-dbd1-4efb-bba7-f55d9bdba45d",
   "metadata": {},
   "outputs": [
    {
     "name": "stdout",
     "output_type": "stream",
     "text": [
      "\n",
      "\n",
      "\n",
      "\n",
      " ------ STD RAG -------------------------\n",
      "\n",
      "\n",
      "\n",
      "\n"
     ]
    },
    {
     "data": {
      "text/markdown": [
       "## Alex Mercer's Communication Network\n",
       "\n",
       "| Person             | Communication Frequency | Places of Communication (Ordered by Importance)                                                                   | Bond Strength | Interaction Weight Score |\n",
       "|----------------------|--------------------------|-----------------------------------------------------------------------------------------------------------------|-----------------|--------------------------|\n",
       "| Jordan Hayes         | Very High                 | 1. Dulce Base Command Center (multiple scenes, critical collaborations), 2. Dulce Base Corridors (shared concerns), 3. Elevator to Dulce (shared apprehension), 4. Dulce Base Lab (scientific collaboration) | Very Strong     | 9                        |\n",
       "| Taylor Cruz          | High                      | 1. Dulce Base Command Center (conflicts and uneasy alliances), 2. Briefing Room (initial instructions, later collaboration), 3. Equipment Bay (philosophical disagreement) | Strong but strained | 7                        |\n",
       "| Sam Rivera           | High                      | 1. Dulce Base Command Center (collaborative work, shared excitement), 2. Sam's Office (advice and encouragement), 3. Dulce Base Corridors (shared mission) | Strong           | 7                        |\n",
       "\n",
       "\n",
       "**Note:**  The \"Interaction Weight Score\" is a subjective assessment based on the length and significance of their interactions throughout the provided text.  A higher score indicates more frequent and/or more impactful interactions.  The ordering of places within each person's row reflects the apparent importance of the setting to their relationship and the overall narrative.\n"
      ],
      "text/plain": [
       "<IPython.core.display.Markdown object>"
      ]
     },
     "metadata": {},
     "output_type": "display_data"
    },
    {
     "name": "stdout",
     "output_type": "stream",
     "text": [
      "\n",
      "\n",
      "\n",
      "\n",
      " ------ GRAPH RAG -------------------------\n",
      "\n",
      "\n",
      "\n",
      "\n"
     ]
    },
    {
     "data": {
      "text/markdown": [
       "Based on the provided text and knowledge graph, here's a table summarizing Alex Mercer's communication and interactions,  keeping in mind that the provided knowledge graph lacks information on the *frequency* of scenes and requires inference from the narrative.  The \"Strength of Bond\" and \"Total Interaction Weight\" columns are estimations based on the narrative and the knowledge graph's strength scores.  Precise quantification isn't possible without more structured data.\n",
       "\n",
       "| Person           | Frequency of Scenes | Places of Interaction (ordered by importance)                                    | Strength of Bond | Total Interaction Weight (estimated) |\n",
       "|-------------------|----------------------|---------------------------------------------------------------------------------|--------------------|------------------------------------|\n",
       "| Jordan Hayes      | Very High             | Dulce Base Command Center, Mainframe Room, Communications Hub, Underground Meeting Room | 9                  | 90                                 |\n",
       "| Sam Rivera        | High                  | Dulce Base Command Center, Mainframe Room, Server Room, Underground Meeting Room      | 8                  | 72                                 |\n",
       "| Taylor Cruz       | High                  | Dulce Base Command Center, Mainframe Room, Underground Meeting Room, Briefing Room | 7                  | 63                                 |\n",
       "\n",
       "\n",
       "**Notes:**\n",
       "\n",
       "* **Frequency:**  This column is an approximation based on the narrative's emphasis on the interactions between characters.  \"Very High\" indicates frequent, significant interactions throughout the story. \"High\" suggests numerous important interactions.\n",
       "* **Places:** The order of places reflects the narrative's emphasis on the importance of each location within the context of their interactions.  For instance, the Dulce Base Command Center is listed first because many major interactions occur there.\n",
       "* **Strength of Bond:** This is a subjective assessment based on the descriptive language in the text and the strength scores from the knowledge graph.  It reflects the level of trust, cooperation, and understanding between characters.\n",
       "* **Total Interaction Weight:** This is a rough estimate, multiplying the \"Frequency\" (interpreted as a numerical value: Very High=10, High=8) by the \"Strength of Bond\". It attempts to quantify the overall significance of the interactions.\n",
       "\n",
       "\n",
       "The knowledge graph is limited. A more comprehensive graph that includes scene frequency and interaction details would allow for a more precise and detailed response.\n"
      ],
      "text/plain": [
       "<IPython.core.display.Markdown object>"
      ]
     },
     "metadata": {},
     "output_type": "display_data"
    }
   ],
   "source": [
    "\n",
    "\n",
    "q = \"\"\"\n",
    "\n",
    "\n",
    "Create a table of places that Alex communicates with:\n",
    "\n",
    "\n",
    "In the first column indicate the person. \n",
    "In the 2nd column list the frequency he has scenes with them.\n",
    "In the 3rd column list the places they had scenes together ordered by importance of the place and scene.\n",
    "In the 4th column indicate the strength of the bond between the people.\n",
    "In the 5th column score the total weight of the interactions across the scenes in aggregate.\n",
    "\n",
    "output the response in a table format using markdown language.\n",
    "\"\"\"\n",
    "\n",
    "\n",
    "response = get_std_LLM_response(model,q,input_text)\n",
    "\n",
    "print (\"\\n\\n\\n\\n ------ STD RAG -------------------------\\n\\n\\n\\n\")\n",
    "\n",
    "display(Markdown(response.text))\n",
    "\n",
    "print (\"\\n\\n\\n\\n ------ GRAPH RAG -------------------------\\n\\n\\n\\n\")\n",
    "\n",
    "async with Surreal(url) as db:\n",
    "    await db.signin({\"user\": u, \"pass\": p}) \n",
    "    await db.use(n, d)\n",
    "    response = await get_graph_RAG_response(db,model,q,input_text)\n",
    "    display(Markdown(response.text))"
   ]
  },
  {
   "cell_type": "code",
   "execution_count": 73,
   "id": "69ef5cc5-6bce-466b-8ae2-1f0b95277a46",
   "metadata": {},
   "outputs": [
    {
     "name": "stdout",
     "output_type": "stream",
     "text": [
      "\n",
      "\n",
      "\n",
      "\n",
      " ------ STD RAG -------------------------\n",
      "\n",
      "\n",
      "\n",
      "\n"
     ]
    },
    {
     "data": {
      "text/markdown": [
       "| Place Name             | Frequency | People Present (Bond Strength)                     | Importance                               | Location Description                                                                     | Interaction Weight |\n",
       "|-------------------------|------------|----------------------------------------------------|-------------------------------------------|-----------------------------------------------------------------------------------------|--------------------|\n",
       "| Dulce Base Command Center | Multiple    | Jordan Hayes (High), Taylor Cruz (Medium), Sam Rivera (Medium) | Extremely High                            | Sterile, high-tech underground command center in Dulce Base.                              | 8                 |\n",
       "| Dulce Base Corridors     | Multiple    | Jordan Hayes (High), Taylor Cruz (Medium)          | High                                     | Long, dark, metallic corridors within Dulce Base.                                         | 6                 |\n",
       "| Dulce Base Server Room   | Once        | Sam Rivera (High)                                 | Medium                                    | Cramped room with numerous servers.                                                        | 3                 |\n",
       "| Briefing Room            | Multiple    | Jordan Hayes (Medium), Taylor Cruz (Medium), Sam Rivera (Medium) | High                                     | Sterile room for mission briefings.                                                      | 3                 |\n",
       "| Dulce Base Equipment Bay | Once        | Taylor Cruz (High)                               | Low                                      | Secluded bay for checking equipment.                                                     | 2                 |\n",
       "| Dulce Base Elevator Shaft | Once        | Jordan Hayes (High), Taylor Cruz (Medium), Sam Rivera (Medium) | Medium                                    | Underground shaft connecting levels of Dulce Base.                                       | 2                 |\n",
       "| Deserted Corridor       | Once        | Taylor Cruz (High)                              | Low                                      | Long and empty corridor inside the Dulce facility                                      | 1                 |\n",
       "| Dulce Base Mainframe Room| Once        | Jordan Hayes (High), Taylor Cruz (Medium), Sam Rivera (Medium) | High                                     | Central hub of Dulce Base containing the mainframe.                                       | 1                 |\n",
       "| Dulce Base Central Hub   | Once        | Jordan Hayes (High), Taylor Cruz (Medium), Sam Rivera (Medium) | High                                     | Central area where the mainframe room is located.                                    | 1                 |\n",
       "| Cramped Underground Meeting Room | Once      | Jordan Hayes (High), Taylor Cruz (Medium)          | Medium                                    | Small, underground room near the elevator.                                                  | 1                 |\n",
       "\n",
       "\n",
       "\n",
       "**Bond Strength Key:**\n",
       "\n",
       "* **High:** Strong, established trust and mutual respect.\n",
       "* **Medium:** Working relationship, some level of trust.\n",
       "* **Low:** Limited interaction, minimal established trust.\n",
       "\n",
       "\n",
       "**Interaction Weight:**  A subjective score reflecting the significance and depth of Alex's interactions at each location across the story.  Higher scores indicate more crucial scenes and stronger relationships built.\n"
      ],
      "text/plain": [
       "<IPython.core.display.Markdown object>"
      ]
     },
     "metadata": {},
     "output_type": "display_data"
    },
    {
     "name": "stdout",
     "output_type": "stream",
     "text": [
      "\n",
      "\n",
      "\n",
      "\n",
      " ------ GRAPH RAG -------------------------\n",
      "\n",
      "\n",
      "\n",
      "\n"
     ]
    },
    {
     "data": {
      "text/markdown": [
       "| Place Name             | Frequency | People Present (by strength)                                      | Importance        | Location Description                                                                                                 | Total Interaction Weight |\n",
       "|-------------------------|------------|--------------------------------------------------------------------|---------------------|-----------------------------------------------------------------------------------------------------------------|--------------------------|\n",
       "| ⟨Dulce Base⟩           | Multiple   | Jordan Hayes (9), Sam Rivera (9), Taylor Cruz (9), Alex Mercer (10) | Extremely Important | The main setting for Operation Dulce, a large, secretive underground military base.                               | 37                       |\n",
       "| ⟨Central Hub⟩         | Multiple   | Jordan Hayes (9), Sam Rivera (9), Alex Mercer (10), Taylor Cruz (8) | Very Important      | The central communication and analysis area of Dulce Base, used for decoding alien signals.                      | 36                       |\n",
       "| ⟨Communications Hub⟩ | Multiple   | Jordan Hayes (9), Alex Mercer (8)                                 | Very Important      | A section of Dulce Base dedicated to analyzing and interpreting alien signals.                                     | 17                       |\n",
       "| ⟨Mainframe Room⟩       | Multiple   | Jordan Hayes (9), Sam Rivera (9), Alex Mercer (8), Taylor Cruz (8) | Very Important      | The heart of Dulce Base's technological infrastructure, where the mainframe and servers are located.              | 34                       |\n",
       "| ⟨Elevator Shaft⟩      | Multiple   | Jordan Hayes (8), Sam Rivera (8), Taylor Cruz (8), Alex Mercer (8) | Important           | The vertical shaft used to travel between levels of Dulce Base.                                                 | 32                       |\n",
       "| ⟨Meeting Room⟩         | 2          | Jordan Hayes (7), Sam Rivera (7), Taylor Cruz (7), Alex Mercer (7) | Moderately Important | A standard briefing room where the team gathers before missions.                                               | 28                       |\n",
       "| ⟨Underground Meeting Room⟩ | 2          | Jordan Hayes (7), Sam Rivera (7), Taylor Cruz (7), Alex Mercer (7) | Moderately Important | A secure underground briefing area in Dulce Base.                                                         | 28                       |\n",
       "| CORRIDOR               | Multiple   | Jordan Hayes (7), Sam Rivera (7), Taylor Cruz (7), Alex Mercer (7) | Moderately Important | Generic corridors within Dulce Base, used for travel between various locations.                                 | 28                       |\n",
       "| ⟨Server Room⟩          | 1          | Sam Rivera (9)                                                    | Important           | A room dedicated to the servers and data processing equipment.                                                   | 9                        |\n",
       "| ⟨Crash Site⟩           | 1          | Jordan Hayes (8)                                                    | Moderately Important | An external location; the site of an extraterrestrial aircraft crash that provides samples for alien technology.    | 8                        |\n",
       "| ⟨Equipment Bay⟩        | 1          | Taylor Cruz (8)                                                   | Moderately Important | A secured location within Dulce Base where equipment is stored and checked before missions.                       | 8                        |\n",
       "\n",
       "\n",
       "**Note:**  Frequency is a qualitative assessment based on the narrative.  The \"Total Interaction Weight\" is the sum of the strength values from the knowledge graph for each location.  The table is sorted by this column in descending order.  The presence of individuals in a location is determined from the knowledge graph but the ordering is based on the strength of their relationships with Alex Mercer within the context of that location.  Locations with multiple visits are considered to have higher importance.\n"
      ],
      "text/plain": [
       "<IPython.core.display.Markdown object>"
      ]
     },
     "metadata": {},
     "output_type": "display_data"
    }
   ],
   "source": [
    "\n",
    "\n",
    "q = \"\"\"\n",
    "\n",
    "Create a table of places that Alex visits:\n",
    "\n",
    "\n",
    "In the first column indicate the place name. \n",
    "In the 2nd column indicate the frequency he visits them.\n",
    "In the 3rd column list the people who were there with him by strength of the bond of the people.\n",
    "In the 4th column indicate the importance of the place.\n",
    "In the 5th column describe the location in 255 characters or less.\n",
    "In the 6th column score the total weight of the interactions across the scenes in aggregate.\n",
    "\n",
    "output the response in a table format using markdown language.\n",
    "\"\"\"\n",
    "\n",
    "\n",
    "\n",
    "response = get_std_LLM_response(model,q,input_text)\n",
    "\n",
    "print (\"\\n\\n\\n\\n ------ STD RAG -------------------------\\n\\n\\n\\n\")\n",
    "\n",
    "display(Markdown(response.text))\n",
    "\n",
    "print (\"\\n\\n\\n\\n ------ GRAPH RAG -------------------------\\n\\n\\n\\n\")\n",
    "\n",
    "async with Surreal(url) as db:\n",
    "    await db.signin({\"user\": u, \"pass\": p}) \n",
    "    await db.use(n, d)\n",
    "    response = await get_graph_RAG_response(db,model,q,input_text)\n",
    "    display(Markdown(response.text))"
   ]
  },
  {
   "cell_type": "code",
   "execution_count": 81,
   "id": "36c0c908-c6cf-49d7-908d-02fba9898a48",
   "metadata": {},
   "outputs": [
    {
     "name": "stdout",
     "output_type": "stream",
     "text": [
      "\n",
      "\n",
      "\n",
      "\n",
      " ------ STD RAG -------------------------\n",
      "\n",
      "\n",
      "\n",
      "\n"
     ]
    },
    {
     "data": {
      "text/markdown": [
       "Dulce Base command center: Four figures bathed in alien light, deciphering a cosmic message.\n"
      ],
      "text/plain": [
       "<IPython.core.display.Markdown object>"
      ]
     },
     "metadata": {},
     "output_type": "display_data"
    },
    {
     "name": "stdout",
     "output_type": "stream",
     "text": [
      "\n",
      "\n",
      "\n",
      "\n",
      " ------ GRAPH RAG -------------------------\n",
      "\n",
      "\n",
      "\n",
      "\n"
     ]
    },
    {
     "data": {
      "text/markdown": [
       "Here's a book cover description based on your request:\n",
       "\n",
       "**Image:** Alex Mercer and Jordan Hayes, illuminated by alien script on a Dulce Base console, faces etched with awe and apprehension.\n",
       "\n",
       "**Title:** Operation: Dulce - First Contact\n"
      ],
      "text/plain": [
       "<IPython.core.display.Markdown object>"
      ]
     },
     "metadata": {},
     "output_type": "display_data"
    }
   ],
   "source": [
    "\n",
    "\n",
    "\n",
    "q = \"\"\"\n",
    "    Based on Alex Mercer strongest relationships and the places most important to the plot choose a\n",
    "    scene that is the most emotionally charged and important to make the cover of the book. \n",
    "   Describe this cover in 20 words or less.\n",
    "\"\"\"\n",
    "\n",
    "response = get_std_LLM_response(model,q,input_text)\n",
    "\n",
    "print (\"\\n\\n\\n\\n ------ STD RAG -------------------------\\n\\n\\n\\n\")\n",
    "\n",
    "display(Markdown(response.text))\n",
    "\n",
    "print (\"\\n\\n\\n\\n ------ GRAPH RAG -------------------------\\n\\n\\n\\n\")\n",
    "\n",
    "async with Surreal(url) as db:\n",
    "    await db.signin({\"user\": u, \"pass\": p}) \n",
    "    await db.use(n, d)\n",
    "    response = await get_graph_RAG_response(db,model,q,input_text)\n",
    "    display(Markdown(response.text))\n"
   ]
  },
  {
   "cell_type": "code",
   "execution_count": 83,
   "id": "7512492a-5757-4b0d-890a-1f6370825b61",
   "metadata": {},
   "outputs": [
    {
     "name": "stdout",
     "output_type": "stream",
     "text": [
      "\n",
      "\n",
      "\n",
      "\n",
      " ------ STD RAG -------------------------\n",
      "\n",
      "\n",
      "\n",
      "\n"
     ]
    },
    {
     "data": {
      "text/markdown": [
       "Based on the provided text, the most emotionally charged and important scene for the book cover, focusing on Alex Mercer's strongest relationships and key plot locations, would be the climax of the interspecies communication in Dulce Base's command center.  This scene encapsulates several crucial elements:\n",
       "\n",
       "* **Strongest Relationships:** The scene involves Alex Mercer interacting directly with his team (Jordan, Taylor, and Sam), showcasing the trust and collaboration crucial to their success (and survival).  The scene highlights the bond formed through shared danger and the pursuit of knowledge.\n",
       "\n",
       "* **Key Plot Locations:** Dulce Base itself is a central location, symbolizing mystery, danger, and the unknown. The command center within is where the most critical interactions occur.\n",
       "\n",
       "**8-Bit Video Game Cover Design:**\n",
       "\n",
       "Imagine an 8-bit style cover art.  The overall aesthetic should be reminiscent of classic NES or SNES games.\n",
       "\n",
       "\n",
       "* **Background:** A stylized representation of Dulce Base's command center. Use simple geometric shapes to depict consoles, monitors (with glowing 8-bit alien glyphs streaming across them), and the overall feeling of a futuristic but slightly retro technological space.  A dark, shadowy background suggests the subterranean setting.  Consider a subtle flickering effect to represent the unstable nature of the base and the alien communications.\n",
       "\n",
       "* **Foreground:** Alex Mercer, depicted in classic 8-bit style (think pixelated sprite), is centrally positioned.  He might be slightly larger than the other characters to emphasize his leadership role. He could be interacting with one of his team members, perhaps Jordan Hayes, who is also prominently displayed, representing their strong working relationship.  The other two team members (Taylor and Sam) could be slightly smaller in the background, surrounding the central figures, hinting at their collaborative effort.\n",
       "\n",
       "* **Color Palette:** Primarily dark blues and purples to represent the underground setting and the mysterious alien technology.  Accents of bright green or teal could highlight the monitors and alien glyphs, emphasizing the alien communication.  Alex and Jordan could have slightly brighter colors than the rest to draw the eye.\n",
       "\n",
       "* **Title:** \"Operation: Dulce\" in bold, pixelated 8-bit font, prominently displayed above or below the central image.\n",
       "\n",
       "* **Overall Feel:** The image should convey a sense of urgency, mystery, and collaboration.  The 8-bit style should maintain a balance between retro charm and the high-stakes nature of the scene, hinting at the tension of first contact without explicitly showing violence or conflict.\n",
       "\n",
       "\n",
       "In summary, the cover would be a visually compelling representation of the story's climax, using the 8-bit style to evoke a sense of nostalgia and adventure, while effectively conveying the emotional intensity and core themes of the book.\n"
      ],
      "text/plain": [
       "<IPython.core.display.Markdown object>"
      ]
     },
     "metadata": {},
     "output_type": "display_data"
    },
    {
     "name": "stdout",
     "output_type": "stream",
     "text": [
      "\n",
      "\n",
      "\n",
      "\n",
      " ------ GRAPH RAG -------------------------\n",
      "\n",
      "\n",
      "\n",
      "\n"
     ]
    },
    {
     "data": {
      "text/markdown": [
       "Here's a description of a book cover scene and its 8-bit representation, based on your provided text and knowledge graph.\n",
       "\n",
       "\n",
       "**Scene Choice:** The most emotionally charged and important scene, considering Alex Mercer's strongest relationships (Jordan Hayes, Sam Rivera) and key locations (Dulce Base's central hub/mainframe room), is the moment when the team first establishes a two-way communication with the alien intelligence.  This is a culmination of their efforts and a major turning point in the narrative.  The central hub, a key location in the knowledge graph, is the perfect setting for this pivotal moment.\n",
       "\n",
       "\n",
       "**8-bit Book Cover Description:**\n",
       "\n",
       "The cover art would be rendered in classic 8-bit style, reminiscent of early NES or Game Boy games.\n",
       "\n",
       "* **Background:** The background depicts the Dulce Base mainframe room.  Use simple, blocky shapes for the consoles, monitors (showing a stylized alien script scrolling across the screens), and walls. The color palette should be limited to a few shades of blue, green, and gray to create a dark, slightly ominous atmosphere.\n",
       "\n",
       "* **Characters:**\n",
       "\n",
       "    * **Alex Mercer:**  A larger sprite than the other characters, standing slightly back from the consoles.  He would be depicted with a determined expression, possibly a slight furrow in his brow, showing the weight of responsibility.  His sprite should use shades of brown and dark green.\n",
       "    * **Jordan Hayes:**  A smaller sprite positioned near the main console, intensely focused on the screen.  Their sprite could be mostly light blue and purple.\n",
       "    * **Sam Rivera:** Another smaller sprite, positioned near Alex but closer to the equipment.  Their sprite would use shades of yellow and orange to convey their youthful enthusiasm.\n",
       "    * **Taylor Cruz:** A sprite slightly to the side, arms crossed, displaying a more stern and skeptical expression than the others. Colors would be in shades of red and grey.\n",
       "\n",
       "* **Foreground:**  The foreground might include a few pixelated sparks or electrical effects around the consoles to heighten the sense of technological tension.\n",
       "\n",
       "* **Text:** The title, \"Operation: Dulce,\" should be in a bold, pixelated font, possibly in white or bright yellow against the dark background.  A subtitle, like \"First Contact,\" could be placed underneath in a smaller font.\n",
       "\n",
       "\n",
       "**Emotional Impact:** The 8-bit style, while simple, would effectively communicate the tension and importance of the scene.  The limited color palette and use of pixel art will evoke nostalgia for classic video games, creating a sense of both retro and futuristic appeal. The focus on Alex Mercer’s expression alongside his close colleagues will draw the reader into the story. The scene conveys the gravity of the moment: a critical point of contact between two civilizations.\n",
       "\n",
       "\n",
       "This 8-bit cover would be instantly recognizable as a science fiction adventure and would intrigue readers interested in retro gaming aesthetics and high-stakes sci-fi stories.\n"
      ],
      "text/plain": [
       "<IPython.core.display.Markdown object>"
      ]
     },
     "metadata": {},
     "output_type": "display_data"
    }
   ],
   "source": [
    "\n",
    "\n",
    "q = \"\"\"Based on Alex Mercer strongest relationships and the places most important to the plot choose a\n",
    "    scene that is the most emotionally charged and important to make the cover of the book. \n",
    "   Draw this cover in the syle of an 8-bit video game.\n",
    "\"\"\"\n",
    "\n",
    "response = get_std_LLM_response(model,q,input_text)\n",
    "\n",
    "print (\"\\n\\n\\n\\n ------ STD RAG -------------------------\\n\\n\\n\\n\")\n",
    "\n",
    "display(Markdown(response.text))\n",
    "\n",
    "print (\"\\n\\n\\n\\n ------ GRAPH RAG -------------------------\\n\\n\\n\\n\")\n",
    "\n",
    "async with Surreal(url) as db:\n",
    "    await db.signin({\"user\": u, \"pass\": p}) \n",
    "    await db.use(n, d)\n",
    "    response = await get_graph_RAG_response(db,model,q,input_text)\n",
    "    display(Markdown(response.text))"
   ]
  },
  {
   "cell_type": "code",
   "execution_count": null,
   "id": "cb987247-629d-48ba-8457-1d1fc8b2f53b",
   "metadata": {},
   "outputs": [],
   "source": [
    "\n",
    "\n",
    "imagen = genai.ImageGenerationModel(\"imagen-3.0-generate-001\")\n",
    "\n",
    "result = imagen.generate_images(\n",
    "    prompt=\"Fuzzy bunnies in my kitchen\",\n",
    "    number_of_images=4,\n",
    "    safety_filter_level=\"block_only_high\",\n",
    "    person_generation=\"allow_adult\",\n",
    "    aspect_ratio=\"3:4\",\n",
    "    negative_prompt=\"Outside\",\n",
    ")\n",
    "\n",
    "for image in result.images:\n",
    "  print(image)\n",
    "\n",
    "# Open and display the image using your local operating system.\n",
    "for image in result.images:\n",
    "  image._pil_image.show()\n",
    "\n",
    "\n",
    "\n"
   ]
  },
  {
   "cell_type": "code",
   "execution_count": 55,
   "id": "e773be1c-91ca-4120-b5a1-43c9d75a36ef",
   "metadata": {},
   "outputs": [
    {
     "name": "stdout",
     "output_type": "stream",
     "text": [
      "\n",
      "\n",
      "\n",
      "\n",
      " ------ STD RAG -------------------------\n",
      "\n",
      "\n",
      "\n",
      "\n",
      "\n",
      "-Goal-\n",
      "You are a researcher who is providing answers to a question for you client based on documents provided you. Answer the questions to the best of your ability given the documents.\n",
      "\n",
      "<question>\n",
      "Based on Alex Mercer strongest relationships and the places most important to the plot choose a\n",
      "    scene that is the most emotionally charged and important to make the cover of the book. \n",
      "   Draw this cover in the syle of an 8-bit video game using imagen3.\n",
      "\n",
      "</question>\n",
      "\n",
      " \n",
      "\n",
      "\n",
      "\n",
      "\n",
      " ------ GRAPH RAG -------------------------\n",
      "\n",
      "\n",
      "\n",
      "\n",
      "\n",
      "-Goal-\n",
      "You are a researcher who is providing answers to a question for you client based on documents provided you. You also have access to a knowledge graph based on the documents provided. Answer the questions to the best of your ability given the documents and knowledge graph.\n",
      "\n",
      "<knowledge graph>\n",
      "[{'result': [{'->RELATED_TO': [{'description': 'Alex Mercer works at the central hub during the signal analysis.', 'out': 'PLACE:⟨CENTRAL HUB⟩', 'strength': 8}, {'description': 'Alex Mercer reports to the military command in Washington.', 'out': 'PLACE:WASHINGTON', 'strength': 7}, {'description': 'Alex Mercer mentors Sam Rivera, providing guidance and support, while Sam provides technological expertise to the team.', 'out': 'PERSON:⟨SAM RIVERA⟩', 'strength': 8}, {'description': 'Alex Mercer attends a meeting in a meeting room before the mission.', 'out': 'PLACE:⟨MEETING ROOM⟩', 'strength': 7}, {'description': 'Alex Mercer works in the communications hub to decipher the alien signals.', 'out': 'PLACE:⟨COMMUNICATIONS HUB⟩', 'strength': 8}, {'description': 'Alex Mercer uses the elevator shaft to descend into Dulce Base.', 'out': 'PLACE:⟨ELEVATOR SHAFT⟩', 'strength': 8}, {'description': 'Alex Mercer is present in an underground meeting room before the mission.', 'out': 'PLACE:⟨UNDERGROUND MEETING ROOM⟩', 'strength': 7}, {'description': \"Alex Mercer and Jordan Hayes work closely together, sharing insights and strategies for deciphering the alien signals.  Alex shows trust and respect for Jordan's expertise.\", 'out': 'PERSON:⟨JORDAN HAYES⟩', 'strength': 9}, {'description': 'Alex Mercer is present in the mainframe room for signal analysis.', 'out': 'PLACE:⟨MAINFRAME ROOM⟩', 'strength': 8}, {'description': 'Alex Mercer and Taylor Cruz are both leaders within the Paranormal Military Squad. They frequently interact, with Taylor providing directives and Alex offering counterpoints or insights.', 'out': 'PERSON:⟨TAYLOR CRUZ⟩', 'strength': 7}, {'description': 'Alex Mercer travels through corridors in Dulce Base.', 'out': 'PLACE:CORRIDOR', 'strength': 7}, {'description': 'Alex Mercer is the leader and central figure in this operation, making decisions and interacting with every other member.', 'out': 'PERSON:⟨ALEX MERCER⟩', 'strength': 10}, {'description': 'Alex Mercer works within Dulce Base, leading missions and interacting with his team there.', 'out': 'PLACE:⟨DULCE BASE⟩', 'strength': 9}], 'description': \"Agent Alex Mercer is a member of the Paranormal Military Squad, skilled in leadership and strategic thinking. He is focused on understanding the alien signals and ensuring the team's safety.\", 'id': 'PERSON:⟨ALEX MERCER⟩'}, {'->RELATED_TO': [{'description': 'Jordan Hayes and Taylor Cruz frequently interact, with Taylor emphasizing protocol and Jordan highlighting the need for adaptability in the face of the unknown. There is a tension between them, but also a grudging respect.', 'out': 'PERSON:⟨TAYLOR CRUZ⟩', 'strength': 6}, {'description': 'Jordan Hayes reports to the military command in Washington.', 'out': 'PLACE:WASHINGTON', 'strength': 7}, {'description': 'Jordan Hayes is present in an underground meeting room before the mission.', 'out': 'PLACE:⟨UNDERGROUND MEETING ROOM⟩', 'strength': 7}, {'description': 'Jordan Hayes attends a meeting in a meeting room before the mission.', 'out': 'PLACE:⟨MEETING ROOM⟩', 'strength': 7}, {'description': 'Jordan Hayes travels through corridors in Dulce Base.', 'out': 'PLACE:CORRIDOR', 'strength': 7}, {'description': 'Jordan Hayes and Sam Rivera collaborate closely, with Sam providing technological support and Jordan offering scientific insights during the analysis of alien signals.', 'out': 'PERSON:⟨SAM RIVERA⟩', 'strength': 9}, {'description': 'Jordan Hayes provides scientific expertise to the team.', 'out': 'PERSON:⟨JORDAN HAYES⟩', 'strength': 10}, {'description': 'Jordan Hayes uses the elevator shaft to descend into Dulce Base.', 'out': 'PLACE:⟨ELEVATOR SHAFT⟩', 'strength': 8}, {'description': 'Jordan Hayes works at the central hub during the signal analysis.', 'out': 'PLACE:⟨CENTRAL HUB⟩', 'strength': 9}, {'description': 'Jordan Hayes works in the communications hub analyzing alien signals.', 'out': 'PLACE:⟨COMMUNICATIONS HUB⟩', 'strength': 9}, {'description': 'Jordan Hayes works at Dulce Base, conducting research and analyzing alien signals within the facility.', 'out': 'PLACE:⟨DULCE BASE⟩', 'strength': 9}, {'description': 'Jordan Hayes is present in the mainframe room analyzing signals.', 'out': 'PLACE:⟨MAINFRAME ROOM⟩', 'strength': 9}, {'description': 'Jordan Hayes retrieves alien technology from a crash site.', 'out': 'PLACE:⟨CRASH SITE⟩', 'strength': 8}], 'description': 'Dr. Jordan Hayes is a member of the Paranormal Military Squad and a skilled scientist, specializing in deciphering alien signals. They bring analytical expertise and a measured approach to the mission.', 'id': 'PERSON:⟨JORDAN HAYES⟩'}, {'->RELATED_TO': [{'description': 'Sam Rivera works in the server room to decode signals.', 'out': 'PLACE:⟨SERVER ROOM⟩', 'strength': 9}, {'description': 'Sam Rivera is present in the mainframe room providing technological support.', 'out': 'PLACE:⟨MAINFRAME ROOM⟩', 'strength': 9}, {'description': 'Sam Rivera reports to the military command in Washington.', 'out': 'PLACE:WASHINGTON', 'strength': 7}, {'description': 'Sam Rivera provides critical technological support and insights to the team.', 'out': 'PERSON:⟨SAM RIVERA⟩', 'strength': 10}, {'description': 'Sam Rivera attends a meeting in a meeting room before the mission.', 'out': 'PLACE:⟨MEETING ROOM⟩', 'strength': 7}, {'description': 'Sam Rivera is present in an underground meeting room before the mission.', 'out': 'PLACE:⟨UNDERGROUND MEETING ROOM⟩', 'strength': 7}, {'description': 'Sam Rivera works at the central hub providing technical support.', 'out': 'PLACE:⟨CENTRAL HUB⟩', 'strength': 9}, {'description': 'Sam Rivera operates within Dulce Base, providing technological expertise and support to the team.', 'out': 'PLACE:⟨DULCE BASE⟩', 'strength': 9}, {'description': 'Sam Rivera travels through corridors in Dulce Base.', 'out': 'PLACE:CORRIDOR', 'strength': 7}, {'description': 'Sam Rivera uses the elevator shaft to descend into Dulce Base.', 'out': 'PLACE:⟨ELEVATOR SHAFT⟩', 'strength': 8}], 'description': 'Agent Sam Rivera is a member of the Paranormal Military Squad and a cybersecurity expert. They possess technological skills in decoding and interpreting alien communications. They also demonstrate a youthful enthusiasm and optimistic perspective.', 'id': 'PERSON:⟨SAM RIVERA⟩'}, {'->RELATED_TO': [{'description': 'Taylor Cruz is present in the mainframe room to oversee the operation.', 'out': 'PLACE:⟨MAINFRAME ROOM⟩', 'strength': 8}, {'description': 'Taylor Cruz attends a meeting in a meeting room before the mission.', 'out': 'PLACE:⟨MEETING ROOM⟩', 'strength': 7}, {'description': 'Taylor Cruz and Sam Rivera are members of the same team and frequently interact, with Taylor providing directives and Sam offering technological expertise.', 'out': 'PERSON:⟨SAM RIVERA⟩', 'strength': 7}, {'description': 'Taylor Cruz oversees operations at the central hub.', 'out': 'PLACE:⟨CENTRAL HUB⟩', 'strength': 8}, {'description': 'Taylor Cruz uses the elevator shaft to descend into Dulce Base.', 'out': 'PLACE:⟨ELEVATOR SHAFT⟩', 'strength': 8}, {'description': 'Taylor Cruz reports to the military command in Washington.', 'out': 'PLACE:WASHINGTON', 'strength': 7}, {'description': 'Taylor Cruz checks equipment in the equipment bay before the mission.', 'out': 'PLACE:⟨EQUIPMENT BAY⟩', 'strength': 8}, {'description': 'Taylor Cruz travels through corridors in Dulce Base.', 'out': 'PLACE:CORRIDOR', 'strength': 7}, {'description': \"Taylor Cruz is a key member, acting as a counterpoint to Alex Mercer's decisions and strategies.\", 'out': 'PERSON:⟨TAYLOR CRUZ⟩', 'strength': 10}, {'description': 'Taylor Cruz is present in an underground meeting room before the mission.', 'out': 'PLACE:⟨UNDERGROUND MEETING ROOM⟩', 'strength': 7}, {'description': 'Taylor Cruz operates within Dulce Base, directing the team and providing leadership.', 'out': 'PLACE:⟨DULCE BASE⟩', 'strength': 9}], 'description': 'Agent Taylor Cruz is a member of the Paranormal Military Squad and exhibits a strong leadership style, emphasizing protocol and caution. They are focused on risk assessment and maintaining control.', 'id': 'PERSON:⟨TAYLOR CRUZ⟩'}, {'->RELATED_TO': [], 'description': 'Washington is the location of the military command that oversees the Paranormal Military Squad and Operation: Dulce.', 'id': 'PERSON:WASHINGTON'}], 'status': 'OK', 'time': '7.746708ms'}]\n",
      "</knowlede graph>\n",
      "\n",
      "<question>\n",
      "Based on Alex Mercer strongest relationships and the places most important to the plot choose a\n",
      "    scene that is the most emotionally charged and important to make the cover of the book. \n",
      "   Draw this cover in the syle of an 8-bit video game using imagen3.\n",
      "\n",
      "</question>\n",
      "\n",
      " \n"
     ]
    }
   ],
   "source": [
    "\n",
    "q = \"\"\"Based on Alex Mercer strongest relationships and the places most important to the plot choose a\n",
    "    scene that is the most emotionally charged and important to make the cover of the book. \n",
    "   Draw this cover in the syle of an 8-bit video game using imagen3.\n",
    "\"\"\"\n",
    "\n",
    "print (\"\\n\\n\\n\\n ------ STD RAG -------------------------\\n\\n\\n\\n\")\n",
    "messages = generate_std_LLM_messages(q,the_attached_file)\n",
    "print(messages[0][\"parts\"][0][\"text\"])\n",
    "\n",
    "print (\"\\n\\n\\n\\n ------ GRAPH RAG -------------------------\\n\\n\\n\\n\")\n",
    "\n",
    "async with Surreal(url) as db:\n",
    "    await db.signin({\"user\": u, \"pass\": p}) \n",
    "    await db.use(n, d)\n",
    "    messages = await generate_graph_RAG_messages(db,q,the_attached_file)\n",
    "    print(messages[0][\"parts\"][0][\"text\"])\n",
    "\n",
    "\n"
   ]
  },
  {
   "cell_type": "code",
   "execution_count": null,
   "id": "702ae4a6-3f21-4342-a21f-546b59241306",
   "metadata": {},
   "outputs": [],
   "source": []
  }
 ],
 "metadata": {
  "kernelspec": {
   "display_name": "Python 3 (ipykernel)",
   "language": "python",
   "name": "python3"
  },
  "language_info": {
   "codemirror_mode": {
    "name": "ipython",
    "version": 3
   },
   "file_extension": ".py",
   "mimetype": "text/x-python",
   "name": "python",
   "nbconvert_exporter": "python",
   "pygments_lexer": "ipython3",
   "version": "3.12.7"
  }
 },
 "nbformat": 4,
 "nbformat_minor": 5
}
