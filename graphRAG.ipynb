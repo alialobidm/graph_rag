{
 "cells": [
  {
   "cell_type": "markdown",
   "id": "e8b9fa04-4278-4d6e-9947-4a21ea14e730",
   "metadata": {},
   "source": [
    "# Using a SurrealDB Knowedge Graph and Gemini to build a Graph-RAG \n",
    "\n",
    "This Jupyter Notebook illustrates the implementation and utilization of a graph-based Retrieval-Augmented Generation (RAG) system using a knowledge graph stored in SurrealDB. It focuses on leveraging the knowledge graph created by the graph_extractor.ipynb notebook for question answering tasks.\n",
    "\n",
    "### Key Functionality\n",
    "####  Data Loading:\n",
    "        Loads the raw text data from which will be used for context in the prompt.\n",
    "\n",
    "#### Leveraging the Existing Knowledge Graph:\n",
    "\n",
    "        Create a SurrQL function to query the knowledge graph using vector search for the descriptions of the entities and the other entities and relationships they have in the graph. This data will also be fed into the prompt for context.\n",
    "\n",
    "        \n",
    "#### Response Generation without a knowledge graph:\n",
    "    Using a template prompt in the RAG_prompts.py file a simple context window of the text data loaded earlier with the question is asked of the LLM model.\n",
    "\n",
    "    \n",
    "\n",
    "#### Response Generation with knowledge graph:\n",
    "    Using a template prompt in the RAG_prompts.py file a context window of the text data loaded earlier, plus the graph data retrieved from SurrealDB with the question is asked of the LLM model.\n",
    "\n",
    "\n",
    "##### notes:\n",
    "    This notebook utilizes libraries :\n",
    "        surrealdb to interact with SurrealDB\n",
    "        google.generativeai to interact with Gemini\n",
    "        networkx to visualize the graph\n",
    "\n",
    "    Prerquisite is to install the embedding model as in this python script:\n",
    "            https://github.com/apireno/surrealDB_embedding_model\n",
    "            and load a knowledge graph using the other notebook in this repo: graph_extractor.ipynb\n",
    "\n",
    "    The notebook is loosely based on a larger repository microsoft/graphrag. The microsoft/graphrag repository provides a more comprehensive, modular graph-based RAG system. This notebook focuses specifically on the knowledge graph construction aspect."
   ]
  },
  {
   "cell_type": "code",
   "execution_count": 10,
   "id": "04f3f765-96d5-49c2-96e3-aa64c560e88d",
   "metadata": {},
   "outputs": [],
   "source": [
    "import sys\n",
    "import os\n",
    "import json\n",
    "import google.generativeai as genai\n",
    "import os\n",
    "import time\n",
    "import ipynb_path\n",
    "import pandas as pd\n",
    "from surrealdb import AsyncSurrealDB\n",
    "\n",
    "from IPython.display import display, Markdown,JSON\n",
    "from IPython.display import JSON\n",
    "\n",
    "\n",
    "#get this notebook's path for access to the other files needed\n",
    "dir_path = os.path.dirname(os.path.realpath(ipynb_path.get(__name__)))\n",
    "sys.path.append(dir_path) #add the current directory for adding py imports\n",
    "from RAG_prompts import STD_RAG_PROMT, GRAPH_RAG_PROMT"
   ]
  },
  {
   "cell_type": "code",
   "execution_count": 2,
   "id": "3d8dfda3-61c6-4ec0-8803-7ef419ea7448",
   "metadata": {},
   "outputs": [
    {
     "name": "stdout",
     "output_type": "stream",
     "text": [
      "surreal start --allow-net --log none --user root --pass root --bind 0.0.0.0:8000 \"rocksdb:///Users/sandro/git_repos/graph_rag/db\"\n",
      "\n",
      "ensure you installed the embedding model!\n",
      "      \n",
      "      https://github.com/apireno/surrealDB_embedding_model\n",
      "\n",
      "the model will power the function fn::sentence_to_vector($text)\n",
      "\n"
     ]
    }
   ],
   "source": [
    "\n",
    "# this folder\n",
    "nb_folder = dir_path\n",
    "input_file = nb_folder + \"/Operation Dulce v2 1 1.md\"\n",
    "\n",
    "out_folder = nb_folder + \"/rag_{0}\".format(time.strftime(\"%Y%m%d-%H%M%S\"))\n",
    "os.makedirs(out_folder, exist_ok=True)\n",
    "chat_file = out_folder + \"/chat.json\"\n",
    "\n",
    "messages_to_log = []\n",
    "\n",
    "\n",
    "\n",
    "ip = \"0.0.0.0:8000\"\n",
    "url = \"ws://{0}\".format(ip)\n",
    "\n",
    "u = \"root\"\n",
    "p = \"root\"\n",
    "n = \"graph_rag\"\n",
    "d = \"graph_rag\"\n",
    "db_folder = nb_folder + \"/db\"\n",
    "\n",
    "surrealdb_start = \"surreal start --allow-net --log none --user {u} --pass {p} --bind {ip} \\\"rocksdb://{db_folder}\\\"\".format(\n",
    "    u=u,\n",
    "    p=p,\n",
    "    ip=ip,\n",
    "    db_folder=db_folder)\n",
    "\n",
    "#run this command if your surreal instance isn't running yet \n",
    "#copy and paste from below into a terminal\n",
    "print(surrealdb_start)\n",
    "\n",
    "#and ensure you installed the embedding model!\n",
    "#the model will power the function fn::sentence_to_vector($text)\n",
    "print(\"\"\"\n",
    "ensure you installed the embedding model!\n",
    "      \n",
    "      https://github.com/apireno/surrealDB_embedding_model\n",
    "\n",
    "the model will power the function fn::sentence_to_vector($text)\n",
    "\"\"\"   )  "
   ]
  },
  {
   "cell_type": "code",
   "execution_count": 3,
   "id": "a4a60278-ae0c-43e7-b5cc-f887dbd400e3",
   "metadata": {},
   "outputs": [],
   "source": [
    "\n",
    "# get the text from the source file for use in our prompt\n",
    "with open(input_file, \"r\") as f:\n",
    "    input_text = f.read()\n",
    "\n",
    "\n",
    "entity_types = [\"PERSON\", \"PLACE\"]\n",
    "relation_type = \"RELATED_TO\"\n",
    "\n",
    "#create the function that will return the portion of the knowledge graph \n",
    "#relevant to the question using vector search on the description embedding\n",
    "retrieve_function_surql = \"\"\"\n",
    "DEFINE FUNCTION OVERWRITE fn::get_related_entities($text: string) {{\n",
    "    \n",
    "    LET $emb = fn::sentence_to_vector($text);\n",
    "    \n",
    "    RETURN SELECT id,description, ->{1}.{{out,strength,description}} FROM {0} \n",
    "        WHERE  embedding <|5,COSINE|> $emb;\n",
    "}};\n",
    "\"\"\".format(entity_types[0],relation_type)\n",
    "\n",
    "\n",
    "async with AsyncSurrealDB(url) as db:\n",
    "    await db.sign_in( u,  p) \n",
    "    await db.use(n, d)\n",
    "    outcome = await db.query(retrieve_function_surql)\n",
    "\n"
   ]
  },
  {
   "cell_type": "code",
   "execution_count": 67,
   "id": "cd7119d8-1537-4e03-a850-3baa84aa9b03",
   "metadata": {},
   "outputs": [],
   "source": [
    "def transform_record_ids(data):\n",
    "  \"\"\"\n",
    "  Transforms the input data to extract the 'ID' field from 'out' and 'in' objects.\n",
    "\n",
    "  Args:\n",
    "    data: An array of dictionaries.\n",
    "\n",
    "  Returns:\n",
    "    The transformed array of dictionaries.\n",
    "  \"\"\"\n",
    "    \n",
    "  for item in data:\n",
    "    if \"id\" in item:\n",
    "        item[\"id\"] = item[\"id\"].id\n",
    "    if \"->RELATED_TO\" in item:\n",
    "      for inner_dict in item[\"->RELATED_TO\"]:\n",
    "        if \"out\" in inner_dict and hasattr(inner_dict[\"out\"], \"id\"):\n",
    "          inner_dict[\"out\"] = inner_dict[\"out\"].id\n",
    "        if \"in\" in inner_dict and hasattr(inner_dict[\"in\"], \"id\"):\n",
    "          inner_dict[\"in\"] = inner_dict[\"in\"].id\n",
    "        if \"id\" in inner_dict and hasattr(inner_dict[\"id\"], \"id\"):\n",
    "          inner_dict[\"id\"] = inner_dict[\"id\"].id\n",
    "      \n",
    "    \n",
    "  return data\n"
   ]
  },
  {
   "cell_type": "code",
   "execution_count": 70,
   "id": "cd2da166-a935-4df7-b11d-3aac7fa91bab",
   "metadata": {},
   "outputs": [
    {
     "data": {
      "application/json": [
       {
        "->RELATED_TO": [
         {
          "description": "Alex Mercer operates within Dulce Base during Operation: Dulce.",
          "out": "DULCE BASE",
          "strength": 9
         },
         {
          "description": "Alex Mercer and Taylor Cruz are both members of the Paranormal Military Squad and work together on Operation: Dulce.",
          "out": "TAYLOR CRUZ",
          "strength": 8
         },
         {
          "description": "Alex Mercer reports to and receives orders from Washington D.C.",
          "out": "WASHINGTON",
          "strength": 6
         },
         {
          "description": "Alex Mercer and Jordan Hayes are both members of the Paranormal Military Squad and work closely together, sharing a mutual respect and understanding.",
          "out": "JORDAN HAYES",
          "strength": 9
         },
         {
          "description": "Alex Mercer leads the team during Operation: Dulce",
          "out": "ALEX MERCER",
          "strength": 10
         },
         {
          "description": "Alex Mercer and Sam Rivera are both members of the Paranormal Military Squad and work together on Operation: Dulce. Alex mentors Sam.",
          "out": "SAM RIVERA",
          "strength": 7
         }
        ],
        "description": "Agent Alex Mercer is a member of the Paranormal Military Squad. He is unfailingly determined, observant, and a skilled leader.  He is shown to be capable of strategic thinking and has a strong sense of responsibility.",
        "id": "ALEX MERCER"
       },
       {
        "->RELATED_TO": [
         {
          "description": "Jordan Hayes is a key member of the team, conducting critical analysis.",
          "out": "JORDAN HAYES",
          "strength": 10
         },
         {
          "description": "Jordan Hayes operates within Dulce Base during Operation: Dulce.",
          "out": "DULCE BASE",
          "strength": 9
         },
         {
          "description": "Jordan Hayes and Sam Rivera are both members of the Paranormal Military Squad and collaborate closely on technical aspects of Operation: Dulce.",
          "out": "SAM RIVERA",
          "strength": 8
         },
         {
          "description": "Jordan Hayes reports to and receives orders from Washington D.C.",
          "out": "WASHINGTON",
          "strength": 6
         }
        ],
        "description": "Agent Jordan Hayes is a member of the Paranormal Military Squad and is a doctor.  They are analytical, skeptical, and possess a strong understanding of science and the unexplained. They are a skilled analyst and possesses a cautious nature.",
        "id": "JORDAN HAYES"
       },
       {
        "->RELATED_TO": [
         {
          "description": "Sam Rivera provides crucial technological support to the team.",
          "out": "SAM RIVERA",
          "strength": 10
         },
         {
          "description": "Sam Rivera reports to and receives orders from Washington D.C.",
          "out": "WASHINGTON",
          "strength": 6
         },
         {
          "description": "Sam Rivera operates within Dulce Base during Operation: Dulce.",
          "out": "DULCE BASE",
          "strength": 9
         }
        ],
        "description": "Agent Sam Rivera is a member of the Paranormal Military Squad and is a cybersecurity expert. They are curious, tech-savvy, and possess a good sense of humor. They are skilled at interpreting data and adapting to unexpected situations.",
        "id": "SAM RIVERA"
       },
       {
        "->RELATED_TO": [
         {
          "description": "Taylor Cruz and Sam Rivera are both members of the Paranormal Military Squad. Taylor is Sam's superior officer, but Sam's expertise is highly valued.",
          "out": "SAM RIVERA",
          "strength": 6
         },
         {
          "description": "Taylor Cruz reports to and receives orders from Washington D.C.",
          "out": "WASHINGTON",
          "strength": 6
         },
         {
          "description": "Taylor Cruz operates within Dulce Base during Operation: Dulce.",
          "out": "DULCE BASE",
          "strength": 9
         },
         {
          "description": "Taylor Cruz and Jordan Hayes are both members of the Paranormal Military Squad and often have conflicting viewpoints. Taylor's authority sometimes clashes with Jordan's independent thinking.",
          "out": "JORDAN HAYES",
          "strength": 5
         },
         {
          "description": "Taylor Cruz is the leader of the team during Operation: Dulce",
          "out": "TAYLOR CRUZ",
          "strength": 10
         }
        ],
        "description": "Agent Taylor Cruz is a member of the Paranormal Military Squad. They are ambitious, meticulous, and authoritarian. They value obedience and control. They are skilled at commanding and maintaining order.",
        "id": "TAYLOR CRUZ"
       }
      ],
      "text/plain": [
       "<IPython.core.display.JSON object>"
      ]
     },
     "execution_count": 70,
     "metadata": {
      "application/json": {
       "expanded": false,
       "root": "root"
      }
     },
     "output_type": "execute_result"
    }
   ],
   "source": [
    "\n",
    "#Let's test out vector/graph query\n",
    "#we should see a collection of people and relationships\n",
    "#where the person's description is related to the question \n",
    "\n",
    "async with AsyncSurrealDB(url) as db:\n",
    "    await db.sign_in( u,  p) \n",
    "    await db.use(n, d)\n",
    "    get_the_graph_context_surql = \"fn::get_related_entities('{0}')\"\n",
    "    outcome = await db.query(get_the_graph_context_surql.format(\"Who is the main character?\"))\n",
    "\n",
    "result = transform_record_ids(outcome[0][\"result\"])\n",
    "#print(result[0])\n",
    "\n",
    "#df[\"out\"] = df[\"out\"].apply(lambda x: x.id) \n",
    "#print(df[\"->RELATED_TO\"].apply(lambda x: pd.DataFrame(x)[\"out\"]))\n",
    "JSON(result)\n",
    "    "
   ]
  },
  {
   "cell_type": "code",
   "execution_count": 71,
   "id": "4b9a6852-bed5-4cdc-aa58-a4b0d58cbe6f",
   "metadata": {},
   "outputs": [],
   "source": [
    "\n",
    "\n",
    "def generate_content_with_attachment(the_model,the_messages,attached_file):\n",
    "    #time.sleep(5) # to stop generating too many requests per min\n",
    "\n",
    "    response = the_model.generate_content([attached_file,str(the_messages)])\n",
    "    return response\n",
    "\n",
    "\n",
    "\n",
    "\n",
    "\n",
    "def generate_std_LLM_messages(the_question,attached_file):\n",
    "    messages =  [\n",
    "            {\"role\": \"user\", \"parts\": [{\"text\": STD_RAG_PROMT.format(\n",
    "                question = the_question\n",
    "            )}]}\n",
    "        ]\n",
    "    return messages\n",
    "\n",
    "\n",
    "#this function will call the LLM with a prompt that includes the text of the original document\n",
    "def get_std_LLM_response(the_model,the_question,attached_file):\n",
    "    \n",
    "    messages = generate_std_LLM_messages(the_question,attached_file)\n",
    "    messages_to_log.append(messages)\n",
    "    \n",
    "    with open(chat_file, \"w\") as f:\n",
    "        json.dump(messages_to_log, f)\n",
    "        \n",
    "    response = generate_content_with_attachment(model,messages,attached_file)\n",
    "    return response\n",
    "\n",
    "   \n",
    "async def generate_graph_RAG_messages(the_db,the_question,attached_file):\n",
    "    get_the_graph_context_surql = \"fn::get_related_entities('{0}')\"\n",
    "    \n",
    "    outcome = await the_db.query(get_the_graph_context_surql.format(the_question))\n",
    "    messages = [\n",
    "            {\"role\": \"user\", \"parts\": [{\"text\": GRAPH_RAG_PROMT.format(\n",
    "                question = the_question,\n",
    "                knowledge_graph = outcome\n",
    "            )}]}\n",
    "        ]\n",
    "    \n",
    "    return messages\n",
    "    \n",
    "    \n",
    "#this function will call the LLM with a prompt that includes the text of the original document\n",
    "#plus the relevant entities and relationships from the knowledge graph bases on a vector search\n",
    "async def get_graph_RAG_response(the_db,the_model,the_question,attached_file):\n",
    "    \n",
    "    messages = await generate_graph_RAG_messages(the_db,the_question,attached_file)\n",
    "    messages_to_log.append(messages)\n",
    "    \n",
    "    with open(chat_file, \"w\") as f:\n",
    "        json.dump(messages_to_log, f)\n",
    "    \n",
    "    response = generate_content_with_attachment(model,messages,attached_file)\n",
    "    return response\n",
    "    \n",
    "       "
   ]
  },
  {
   "cell_type": "code",
   "execution_count": 72,
   "id": "7a0050ec-609c-4b15-af47-38bdb03a0edc",
   "metadata": {},
   "outputs": [],
   "source": [
    "\n",
    "# Set your API key (I've stored mine in an env variable)\n",
    "genai.configure(api_key=os.getenv('GOOGLE_GENAI_API_KEY'))\n",
    "\n",
    "#flash is faster and good enough\n",
    "#model = \"gemini-1.0-pro\"\n",
    "model = \"gemini-1.5-flash\"\n",
    "\n",
    "model = genai.GenerativeModel(model)\n",
    "\n",
    "\n",
    "the_attached_file = genai.upload_file(input_file)\n",
    "\n",
    "while the_attached_file.state.name == \"PROCESSING\":\n",
    "    print(\".\", end=\"\")\n",
    "    time.sleep(10)\n",
    "    the_attached_file = genai.get_file(the_attached_file.name)\n",
    "\n",
    "\n",
    "\n"
   ]
  },
  {
   "cell_type": "code",
   "execution_count": 73,
   "id": "718fc9d3-85fb-4fc2-b72d-b4a29ffd30f6",
   "metadata": {},
   "outputs": [
    {
     "name": "stdout",
     "output_type": "stream",
     "text": [
      "\n",
      "\n",
      "\n",
      "\n",
      " ------ STD RAG -------------------------\n",
      "\n",
      "\n",
      "\n",
      "\n",
      "{\n",
      "    \"parts\": [\n",
      "        {\n",
      "            \"text\": \"\\n-Goal-\\nYou are a researcher who is providing answers to a question for you client based on documents provided you. Answer the questions to the best of your ability given the documents.\\n\\n<question>\\nWho is the main character and what motivates them?\\n</question>\\n\\n \"\n",
      "        }\n",
      "    ],\n",
      "    \"role\": \"user\"\n",
      "}\n",
      "\n",
      "\n",
      "\n",
      "\n",
      " ------ GRAPH RAG -------------------------\n",
      "\n",
      "\n",
      "\n",
      "\n",
      "{\n",
      "    \"parts\": [\n",
      "        {\n",
      "            \"text\": \"\\n-Goal-\\nYou are a researcher who is providing answers to a question for you client based on documents provided you. You also have access to a knowledge graph based on the documents provided. Answer the questions to the best of your ability given the documents and knowledge graph.\\n\\n<knowledge graph>\\n[{'result': [{'->RELATED_TO': [{'description': 'Alex Mercer operates within Dulce Base during Operation: Dulce.', 'out': RecordID(table_name=PLACE, record_id=DULCE BASE), 'strength': 9}, {'description': 'Alex Mercer and Taylor Cruz are both members of the Paranormal Military Squad and work together on Operation: Dulce.', 'out': RecordID(table_name=PERSON, record_id=TAYLOR CRUZ), 'strength': 8}, {'description': 'Alex Mercer reports to and receives orders from Washington D.C.', 'out': RecordID(table_name=PLACE, record_id=WASHINGTON), 'strength': 6}, {'description': 'Alex Mercer and Jordan Hayes are both members of the Paranormal Military Squad and work closely together, sharing a mutual respect and understanding.', 'out': RecordID(table_name=PERSON, record_id=JORDAN HAYES), 'strength': 9}, {'description': 'Alex Mercer leads the team during Operation: Dulce', 'out': RecordID(table_name=PERSON, record_id=ALEX MERCER), 'strength': 10}, {'description': 'Alex Mercer and Sam Rivera are both members of the Paranormal Military Squad and work together on Operation: Dulce. Alex mentors Sam.', 'out': RecordID(table_name=PERSON, record_id=SAM RIVERA), 'strength': 7}], 'description': 'Agent Alex Mercer is a member of the Paranormal Military Squad. He is unfailingly determined, observant, and a skilled leader.  He is shown to be capable of strategic thinking and has a strong sense of responsibility.', 'id': RecordID(table_name=PERSON, record_id=ALEX MERCER)}, {'->RELATED_TO': [{'description': 'Jordan Hayes is a key member of the team, conducting critical analysis.', 'out': RecordID(table_name=PERSON, record_id=JORDAN HAYES), 'strength': 10}, {'description': 'Jordan Hayes operates within Dulce Base during Operation: Dulce.', 'out': RecordID(table_name=PLACE, record_id=DULCE BASE), 'strength': 9}, {'description': 'Jordan Hayes and Sam Rivera are both members of the Paranormal Military Squad and collaborate closely on technical aspects of Operation: Dulce.', 'out': RecordID(table_name=PERSON, record_id=SAM RIVERA), 'strength': 8}, {'description': 'Jordan Hayes reports to and receives orders from Washington D.C.', 'out': RecordID(table_name=PLACE, record_id=WASHINGTON), 'strength': 6}], 'description': 'Agent Jordan Hayes is a member of the Paranormal Military Squad and is a doctor.  They are analytical, skeptical, and possess a strong understanding of science and the unexplained. They are a skilled analyst and possesses a cautious nature.', 'id': RecordID(table_name=PERSON, record_id=JORDAN HAYES)}, {'->RELATED_TO': [{'description': 'Sam Rivera provides crucial technological support to the team.', 'out': RecordID(table_name=PERSON, record_id=SAM RIVERA), 'strength': 10}, {'description': 'Sam Rivera reports to and receives orders from Washington D.C.', 'out': RecordID(table_name=PLACE, record_id=WASHINGTON), 'strength': 6}, {'description': 'Sam Rivera operates within Dulce Base during Operation: Dulce.', 'out': RecordID(table_name=PLACE, record_id=DULCE BASE), 'strength': 9}], 'description': 'Agent Sam Rivera is a member of the Paranormal Military Squad and is a cybersecurity expert. They are curious, tech-savvy, and possess a good sense of humor. They are skilled at interpreting data and adapting to unexpected situations.', 'id': RecordID(table_name=PERSON, record_id=SAM RIVERA)}, {'->RELATED_TO': [{'description': \\\"Taylor Cruz and Sam Rivera are both members of the Paranormal Military Squad. Taylor is Sam's superior officer, but Sam's expertise is highly valued.\\\", 'out': RecordID(table_name=PERSON, record_id=SAM RIVERA), 'strength': 6}, {'description': 'Taylor Cruz reports to and receives orders from Washington D.C.', 'out': RecordID(table_name=PLACE, record_id=WASHINGTON), 'strength': 6}, {'description': 'Taylor Cruz operates within Dulce Base during Operation: Dulce.', 'out': RecordID(table_name=PLACE, record_id=DULCE BASE), 'strength': 9}, {'description': \\\"Taylor Cruz and Jordan Hayes are both members of the Paranormal Military Squad and often have conflicting viewpoints. Taylor's authority sometimes clashes with Jordan's independent thinking.\\\", 'out': RecordID(table_name=PERSON, record_id=JORDAN HAYES), 'strength': 5}, {'description': 'Taylor Cruz is the leader of the team during Operation: Dulce', 'out': RecordID(table_name=PERSON, record_id=TAYLOR CRUZ), 'strength': 10}], 'description': 'Agent Taylor Cruz is a member of the Paranormal Military Squad. They are ambitious, meticulous, and authoritarian. They value obedience and control. They are skilled at commanding and maintaining order.', 'id': RecordID(table_name=PERSON, record_id=TAYLOR CRUZ)}], 'status': 'OK', 'time': '36.412542ms'}]\\n</knowledge graph>\\n\\n<question>\\nWho is the main character and what motivates them?\\n</question>\\n\\n \"\n",
      "        }\n",
      "    ],\n",
      "    \"role\": \"user\"\n",
      "}\n"
     ]
    }
   ],
   "source": [
    "q = \"Who is the main character and what motivates them?\"\n",
    "\n",
    "print (\"\\n\\n\\n\\n ------ STD RAG -------------------------\\n\\n\\n\\n\")\n",
    "messages = generate_std_LLM_messages(q,the_attached_file)\n",
    "print(json.dumps(messages[0], indent=4, sort_keys=True))\n",
    "\n",
    "print (\"\\n\\n\\n\\n ------ GRAPH RAG -------------------------\\n\\n\\n\\n\")\n",
    "\n",
    "async with AsyncSurrealDB(url) as db:\n",
    "    await db.sign_in( u,  p) \n",
    "    await db.use(n, d)\n",
    "    messages = await generate_graph_RAG_messages(db,q,the_attached_file)\n",
    "    print(json.dumps(messages[0], indent=4, sort_keys=True))\n",
    " \n",
    "   \n"
   ]
  },
  {
   "cell_type": "code",
   "execution_count": 75,
   "id": "eaf947c4-621f-4e63-a914-c27c99d805a7",
   "metadata": {},
   "outputs": [
    {
     "name": "stdout",
     "output_type": "stream",
     "text": [
      "\n",
      "\n",
      "\n",
      "\n",
      " ------ STD RAG -------------------------\n",
      "\n",
      "\n",
      "\n",
      "\n"
     ]
    },
    {
     "data": {
      "text/markdown": [
       "* **Main Character:** Agent Alex Mercer is arguably the main character, though the narrative is ensemble-focused, giving significant attention to the perspectives and motivations of other key players.\n",
       "\n",
       "* **Motivations:**\n",
       "    * **Duty and Obedience:** Mercer is a highly trained agent, deeply committed to following protocols and completing his assigned mission.  This is demonstrated by his initial compliance with Agent Cruz's directives, though this is gradually challenged throughout the story.\n",
       "    * **Discovery and Understanding:** Despite his inherent obedience, Mercer is driven by a powerful desire to understand the mysteries of Dulce Base and the alien communication. This intellectual curiosity clashes with his ingrained sense of duty, creating internal conflict that fuels his actions.\n",
       "    * **Protection of Humanity:** Mercer's concern for the safety and well-being of humanity is a significant motivator. His ultimate goal is to ensure that first contact with extraterrestrial intelligence is handled responsibly and doesn't lead to harm.\n",
       "    * **Teamwork and Collaboration:** As the story progresses, Mercer demonstrates a growing reliance on and trust in his team members. His leadership style shifts from strict adherence to protocol to collaborative problem-solving, emphasizing the importance of combined human insight to navigate the unprecedented challenges they face.\n",
       "\n",
       "While other characters like Dr. Jordan Hayes (driven by scientific curiosity) and Agent Taylor Cruz (motivated by ambition and control) also play pivotal roles, Mercer's character arc, spanning from strict compliance to a more nuanced understanding of the mission, positions him as the central figure through which the overarching narrative unfolds.\n"
      ],
      "text/plain": [
       "<IPython.core.display.Markdown object>"
      ]
     },
     "metadata": {},
     "output_type": "display_data"
    },
    {
     "name": "stdout",
     "output_type": "stream",
     "text": [
      "\n",
      "\n",
      "\n",
      "\n",
      " ------ GRAPH RAG -------------------------\n",
      "\n",
      "\n",
      "\n",
      "\n"
     ]
    },
    {
     "data": {
      "text/markdown": [
       "* **Main Character:** Agent Alex Mercer is the main character of the story.  While the narrative features other important agents, Alex's perspective is central, and his actions and internal conflicts drive much of the plot.\n",
       "\n",
       "* **Motivations:** Alex is motivated by several factors:\n",
       "\n",
       "    * **Duty and Responsibility:** As a high-ranking member of the Paranormal Military Squad, he feels a strong sense of duty to complete his mission and protect national security. This is evident in his compliance with Agent Cruz’s orders and his concern for the safety of his team.\n",
       "    * **Determination and Resolve:**  Alex possesses unwavering determination and displays resilience in the face of the unknown. He demonstrates this through his consistent engagement with the mission even when uncertain and in the face of challenges.\n",
       "    * **A Hunger for Knowledge:** Alex shows significant curiosity and a desire for understanding beyond following orders. This is seen in his conversations with Dr. Hayes, where he acknowledges a sense of being pulled into \"someone else's game\" and seeks deeper truths beyond the official narrative. He is driven to discover and understand the mysteries of Dulce Base.\n",
       "    * **Mentorship:** Alex acts as a mentor to Sam Rivera, guiding and supporting their contributions. This suggests a desire to foster growth and share his expertise, indicating a sense of responsibility beyond his own mission.\n",
       "    * **Survival:** While duty and knowledge drive him, survival and the protection of his team are also strong motivating factors. This is implicit in his actions throughout the story as he continuously assesses risks and strives for the team's success.\n",
       "\n"
      ],
      "text/plain": [
       "<IPython.core.display.Markdown object>"
      ]
     },
     "metadata": {},
     "output_type": "display_data"
    }
   ],
   "source": [
    "#Lets test a question...\n",
    "\n",
    "q = \"Who is the main character and what motivates them? Format your response in bullet points.\"\n",
    "\n",
    "response = get_std_LLM_response(model,q,the_attached_file)\n",
    "\n",
    "print (\"\\n\\n\\n\\n ------ STD RAG -------------------------\\n\\n\\n\\n\")\n",
    "\n",
    "\n",
    "\n",
    "display(Markdown(response.text))\n",
    "\n",
    "print (\"\\n\\n\\n\\n ------ GRAPH RAG -------------------------\\n\\n\\n\\n\")\n",
    "\n",
    "async with AsyncSurrealDB(url) as db:\n",
    "    await db.sign_in( u,  p) \n",
    "    await db.use(n, d)\n",
    "    response = await get_graph_RAG_response(db,model,q,the_attached_file)\n",
    "    display(Markdown(response.text))\n",
    "\n",
    "\n"
   ]
  },
  {
   "cell_type": "code",
   "execution_count": 76,
   "id": "e6cb7379-0b85-4320-8dc0-a3812e6ee888",
   "metadata": {},
   "outputs": [
    {
     "name": "stdout",
     "output_type": "stream",
     "text": [
      "\n",
      "\n",
      "\n",
      "\n",
      " ------ STD RAG -------------------------\n",
      "\n",
      "\n",
      "\n",
      "\n"
     ]
    },
    {
     "data": {
      "text/markdown": [
       "Based solely on the provided text, there is no explicit mention of places or people Alex Mercer holds dearest.  The text focuses on his professional life and his participation in Operation: Dulce.  While he shows camaraderie and respect for his team members (Jordan Hayes, Taylor Cruz, and Sam Rivera),  there's no indication of these relationships extending beyond professional respect and shared mission objectives.  The narrative doesn't offer details about his personal life or attachments outside of his work with Paranormal Military Squad.\n"
      ],
      "text/plain": [
       "<IPython.core.display.Markdown object>"
      ]
     },
     "metadata": {},
     "output_type": "display_data"
    },
    {
     "name": "stdout",
     "output_type": "stream",
     "text": [
      "\n",
      "\n",
      "\n",
      "\n",
      " ------ GRAPH RAG -------------------------\n",
      "\n",
      "\n",
      "\n",
      "\n"
     ]
    },
    {
     "data": {
      "text/markdown": [
       "Based on the provided text and knowledge graph, here's what we can infer about the places and people Alex Mercer holds dearest:\n",
       "\n",
       "* **Places:**  The knowledge graph strongly indicates Dulce Base as a significant location for Alex Mercer due to his involvement in Operation: Dulce.  While the text doesn't explicitly state he holds it *dear*, its importance to his mission suggests a strong connection. Washington D.C. is also mentioned, representing his chain of command and source of orders.  Whether he holds Washington dear is unclear, as the connection is purely professional.\n",
       "\n",
       "* **People:** The knowledge graph highlights strong relationships with Jordan Hayes and Sam Rivera, indicating a close working relationship and mutual respect. The strength of these connections (9 and 7 respectively) suggests a level of camaraderie and trust exceeding mere professional obligation. Taylor Cruz is also mentioned, but with a lower strength rating (8), indicating a working relationship with less personal closeness.  There is no information in the provided text to suggest he holds any of these individuals \"dearest\" in a personal, emotional sense, rather that these are people he works closely with, trusts, and respects professionally.  The text suggests he respects Jordan's intellect highly.\n"
      ],
      "text/plain": [
       "<IPython.core.display.Markdown object>"
      ]
     },
     "metadata": {},
     "output_type": "display_data"
    }
   ],
   "source": [
    "\n",
    "#Let's test a question that asks about the main character's relationships\n",
    "q = \"What places and people does Alex Mercer hold dearest? Format your response in bullet points. Format your response in bullet points.\"\n",
    "\n",
    "response = get_std_LLM_response(model,q,input_text)\n",
    "\n",
    "print (\"\\n\\n\\n\\n ------ STD RAG -------------------------\\n\\n\\n\\n\")\n",
    "\n",
    "\n",
    "display(Markdown(response.text))\n",
    "\n",
    "print (\"\\n\\n\\n\\n ------ GRAPH RAG -------------------------\\n\\n\\n\\n\")\n",
    "\n",
    "async with AsyncSurrealDB(url) as db:\n",
    "    await db.sign_in( u,  p) \n",
    "    await db.use(n, d)\n",
    "    response = await get_graph_RAG_response(db,model,q,input_text)\n",
    "    display(Markdown(response.text))\n",
    "\n"
   ]
  },
  {
   "cell_type": "code",
   "execution_count": 78,
   "id": "d090858a-dbd1-4efb-bba7-f55d9bdba45d",
   "metadata": {},
   "outputs": [
    {
     "name": "stdout",
     "output_type": "stream",
     "text": [
      "\n",
      "\n",
      "\n",
      "\n",
      " ------ STD RAG -------------------------\n",
      "\n",
      "\n",
      "\n",
      "\n"
     ]
    },
    {
     "data": {
      "text/markdown": [
       "## Alex Mercer's Communication Network\n",
       "\n",
       "| Person             | Communication Frequency | Places of Communication (Ordered by Importance)                                                                   | Bond Strength | Interaction Weight Score |\n",
       "|----------------------|--------------------------|-----------------------------------------------------------------------------------------------------------------|-----------------|--------------------------|\n",
       "| Jordan Hayes         | Very High                 | 1. Dulce Base Command Center (multiple scenes, critical collaborations), 2. Dulce Base Corridors (shared concerns), 3. Elevator to Dulce (shared apprehension), 4. Dulce Base Lab (scientific collaboration) | Very Strong     | 9                        |\n",
       "| Taylor Cruz          | High                      | 1. Dulce Base Command Center (conflicts and uneasy alliances), 2. Briefing Room (initial instructions, later collaboration), 3. Equipment Bay (philosophical disagreement) | Strong but strained | 7                        |\n",
       "| Sam Rivera           | High                      | 1. Dulce Base Command Center (collaborative work, shared excitement), 2. Sam's Office (advice and encouragement), 3. Dulce Base Corridors (shared mission) | Strong           | 7                        |\n",
       "\n",
       "\n",
       "**Note:**  The \"Interaction Weight Score\" is a subjective assessment based on the length and significance of their interactions throughout the provided text.  A higher score indicates more frequent and/or more impactful interactions.  The ordering of places within each person's row reflects the apparent importance of the setting to their relationship and the overall narrative.\n"
      ],
      "text/plain": [
       "<IPython.core.display.Markdown object>"
      ]
     },
     "metadata": {},
     "output_type": "display_data"
    },
    {
     "name": "stdout",
     "output_type": "stream",
     "text": [
      "\n",
      "\n",
      "\n",
      "\n",
      " ------ GRAPH RAG -------------------------\n",
      "\n",
      "\n",
      "\n",
      "\n"
     ]
    },
    {
     "data": {
      "text/markdown": [
       "Based on the provided text and knowledge graph, here's a table summarizing Alex Mercer's communication and interactions,  keeping in mind that the provided knowledge graph lacks information on the *frequency* of scenes and requires inference from the narrative.  The \"Strength of Bond\" and \"Total Interaction Weight\" columns are estimations based on the narrative and the knowledge graph's strength scores.  Precise quantification isn't possible without more structured data.\n",
       "\n",
       "| Person           | Frequency of Scenes | Places of Interaction (ordered by importance)                                    | Strength of Bond | Total Interaction Weight (estimated) |\n",
       "|-------------------|----------------------|---------------------------------------------------------------------------------|--------------------|------------------------------------|\n",
       "| Jordan Hayes      | Very High             | Dulce Base Command Center, Mainframe Room, Communications Hub, Underground Meeting Room | 9                  | 90                                 |\n",
       "| Sam Rivera        | High                  | Dulce Base Command Center, Mainframe Room, Server Room, Underground Meeting Room      | 8                  | 72                                 |\n",
       "| Taylor Cruz       | High                  | Dulce Base Command Center, Mainframe Room, Underground Meeting Room, Briefing Room | 7                  | 63                                 |\n",
       "\n",
       "\n",
       "**Notes:**\n",
       "\n",
       "* **Frequency:**  This column is an approximation based on the narrative's emphasis on the interactions between characters.  \"Very High\" indicates frequent, significant interactions throughout the story. \"High\" suggests numerous important interactions.\n",
       "* **Places:** The order of places reflects the narrative's emphasis on the importance of each location within the context of their interactions.  For instance, the Dulce Base Command Center is listed first because many major interactions occur there.\n",
       "* **Strength of Bond:** This is a subjective assessment based on the descriptive language in the text and the strength scores from the knowledge graph.  It reflects the level of trust, cooperation, and understanding between characters.\n",
       "* **Total Interaction Weight:** This is a rough estimate, multiplying the \"Frequency\" (interpreted as a numerical value: Very High=10, High=8) by the \"Strength of Bond\". It attempts to quantify the overall significance of the interactions.\n",
       "\n",
       "\n",
       "The knowledge graph is limited. A more comprehensive graph that includes scene frequency and interaction details would allow for a more precise and detailed response.\n"
      ],
      "text/plain": [
       "<IPython.core.display.Markdown object>"
      ]
     },
     "metadata": {},
     "output_type": "display_data"
    }
   ],
   "source": [
    "\n",
    "\n",
    "q = \"\"\"\n",
    "\n",
    "\n",
    "Create a table of places that Alex communicates with:\n",
    "\n",
    "\n",
    "In the first column indicate the person. \n",
    "In the 2nd column list the frequency he has scenes with them.\n",
    "In the 3rd column list the places they had scenes together ordered by importance of the place and scene.\n",
    "In the 4th column indicate the strength of the bond between the people.\n",
    "In the 5th column score the total weight of the interactions across the scenes in aggregate.\n",
    "\n",
    "output the response in a table format using markdown language.\n",
    "\"\"\"\n",
    "\n",
    "\n",
    "response = get_std_LLM_response(model,q,input_text)\n",
    "\n",
    "print (\"\\n\\n\\n\\n ------ STD RAG -------------------------\\n\\n\\n\\n\")\n",
    "\n",
    "display(Markdown(response.text))\n",
    "\n",
    "print (\"\\n\\n\\n\\n ------ GRAPH RAG -------------------------\\n\\n\\n\\n\")\n",
    "\n",
    "async with AsyncSurrealDB(url) as db:\n",
    "    await db.sign_in( u,  p) \n",
    "    await db.use(n, d)\n",
    "    response = await get_graph_RAG_response(db,model,q,input_text)\n",
    "    display(Markdown(response.text))"
   ]
  },
  {
   "cell_type": "code",
   "execution_count": 77,
   "id": "69ef5cc5-6bce-466b-8ae2-1f0b95277a46",
   "metadata": {},
   "outputs": [
    {
     "name": "stdout",
     "output_type": "stream",
     "text": [
      "\n",
      "\n",
      "\n",
      "\n",
      " ------ STD RAG -------------------------\n",
      "\n",
      "\n",
      "\n",
      "\n"
     ]
    },
    {
     "data": {
      "text/markdown": [
       "| Place Name             | Frequency | People Present (Bond Strength)                     | Importance                               | Location Description                                                                     | Interaction Weight |\n",
       "|-------------------------|------------|----------------------------------------------------|-------------------------------------------|-----------------------------------------------------------------------------------------|--------------------|\n",
       "| Briefing Room           | 3          | Cruz (Antagonistic), Hayes (Understanding), Rivera (Respectful),  | High (Mission planning, strategy)      | Sterile, large room with projectors; used for mission briefings.                         | 7                 |\n",
       "| Cramped Underground Room| 1          | Hayes, Cruz                                         | High (Mission initiation, descent)       | Small, dark room, leading to elevator to Dulce.                                        | 3                 |\n",
       "| Elevator Shaft          | 1          | Hayes, Cruz, Rivera                                | High (Journey to Dulce)                  | Metal shaft, descending into Dulce base.  Dark and claustrophobic.                     | 3                 |\n",
       "| Dulce Base Corridors    | 3          | Hayes (Strong), Cruz (Antagonistic), Rivera (Respectful)     | High (Exploration, discoveries)          | Long, dark corridors within Dulce base. Steel doors, eerie atmosphere.                | 8                 |\n",
       "| Dulce Base Mainframe Room| 2          | Hayes (Strong), Cruz (Antagonistic), Rivera (Respectful)     | High (Central hub, communication)      | Large room containing mainframe and communications equipment.                             | 7                 |\n",
       "| Dulce Base Lab          | 1          | Hayes (Strong)                                       | Moderate (Alien tech analysis)           | A laboratory within Dulce base; contains alien technology.                            | 2                 |\n",
       "| Dulce Base Server Room   | 1          | Rivera (Mentor-Mentee),                                  | Moderate (Data analysis)                 | Small room with numerous servers; used for data analysis.                               | 2                 |\n",
       "| Dulce Base Command Center| 6          | Hayes (Strong), Cruz (Antagonistic), Rivera (Respectful) | Highest (Alien communication, mission culmination)| Central hub of Dulce base, containing advanced communications equipment and consoles. | 15                |\n",
       "\n",
       "\n",
       "**Note:** Bond strength is a subjective assessment based on the narrative. Interaction weight is an aggregate score reflecting the significance of interactions in each location across all chapters, with higher scores indicating greater importance and interaction.  Frequency counts instances where Alex is explicitly present and actively participating.\n"
      ],
      "text/plain": [
       "<IPython.core.display.Markdown object>"
      ]
     },
     "metadata": {},
     "output_type": "display_data"
    },
    {
     "name": "stdout",
     "output_type": "stream",
     "text": [
      "\n",
      "\n",
      "\n",
      "\n",
      " ------ GRAPH RAG -------------------------\n",
      "\n",
      "\n",
      "\n",
      "\n"
     ]
    },
    {
     "data": {
      "text/markdown": [
       "Based on the provided text and knowledge graph, here's a table summarizing the places Alex Mercer visits, along with associated details:\n",
       "\n",
       "| Place Name        | Visit Frequency | People Present (by strength of bond) | Importance of Place | Location Description                                                                        | Total Interaction Weight |\n",
       "|--------------------|-----------------|--------------------------------------|----------------------|--------------------------------------------------------------------------------------------|-------------------------|\n",
       "| Dulce Base         | Multiple        | Jordan Hayes (9), Taylor Cruz (8), Sam Rivera (7) | Very High             | Underground military base; mysterious, potentially dangerous.                              | 24                       |\n",
       "| Briefing Room      | Multiple        | Jordan Hayes, Taylor Cruz, Sam Rivera | High                   | Sterile room where missions are briefed.                                                    | 24                       |\n",
       "| Cramped Office     | At least once   | Sam Rivera                         | Medium                 | Small office where Sam works with servers; cramped workspace.                             | 7                        |\n",
       "| Deserted Corridor  | At least once   | Taylor Cruz                         | Low                    | A hallway inside Dulce Base.                                                               | 6                        |\n",
       "| Secluded Equipment Bay | At least once | Taylor Cruz, Jordan Hayes             | Low                    | Equipment storage area inside Dulce Base.                                                   | 11                       |\n",
       "| Underground Meeting Room | At least once | Jordan Hayes, Taylor Cruz, Sam Rivera | Medium                 | Small underground room near elevator to Dulce Base.                                        | 24                       |\n",
       "| Cramped Underground Meeting Room | At least once | Jordan Hayes, Taylor Cruz, Sam Rivera | Medium                 | Small underground room near elevator to Dulce Base.                                        | 24                       |\n",
       "| Central Communications Hub | At least once | Jordan Hayes, Taylor Cruz, Sam Rivera | High                   | Main communications area within Dulce Base.                                              | 24                       |\n",
       "| Central Hub        | At least once   | Jordan Hayes, Taylor Cruz, Sam Rivera | High                   | Main access point to deeper areas within Dulce Base.                                  | 24                       |\n",
       "| Mainframe Room      | At least once   | Jordan Hayes, Taylor Cruz, Sam Rivera | High                   | Dulce Base's mainframe room; contains important computers and servers.                      | 24                       |\n",
       "| Lab                 | At least once   | Jordan Hayes, Taylor Cruz            | High                  | Area within Dulce Base where alien technology is studied.                                | 15                       |\n",
       "| Server Room         | At least once   | Sam Rivera, Alex Mercer             | Medium                 | Room containing multiple servers.                                                           | 7                        |\n",
       "| Washington D.C.    | Multiple        | Multiple (unspecified)              | High                    | Government headquarters; source of orders and information.                               |  Unknown                 |\n",
       "\n",
       "\n",
       "**Note:**  The \"Total Interaction Weight\" is a rough estimate based on the strength of relationships mentioned in the knowledge graph and the frequency of interactions described in the text.  The Washington D.C. entry has an unknown weight because the specific people Alex interacted with there aren't explicitly stated.  The frequency of visits to some locations is inferred from the narrative.\n"
      ],
      "text/plain": [
       "<IPython.core.display.Markdown object>"
      ]
     },
     "metadata": {},
     "output_type": "display_data"
    }
   ],
   "source": [
    "\n",
    "\n",
    "q = \"\"\"\n",
    "\n",
    "Create a table of places that Alex visits:\n",
    "\n",
    "\n",
    "In the first column indicate the place name. \n",
    "In the 2nd column indicate the frequency he visits them.\n",
    "In the 3rd column list the people who were there with him by strength of the bond of the people.\n",
    "In the 4th column indicate the importance of the place.\n",
    "In the 5th column describe the location in 255 characters or less.\n",
    "In the 6th column score the total weight of the interactions across the scenes in aggregate.\n",
    "\n",
    "output the response in a table format using markdown language.\n",
    "\"\"\"\n",
    "\n",
    "\n",
    "\n",
    "response = get_std_LLM_response(model,q,input_text)\n",
    "\n",
    "print (\"\\n\\n\\n\\n ------ STD RAG -------------------------\\n\\n\\n\\n\")\n",
    "\n",
    "display(Markdown(response.text))\n",
    "\n",
    "print (\"\\n\\n\\n\\n ------ GRAPH RAG -------------------------\\n\\n\\n\\n\")\n",
    "\n",
    "async with AsyncSurrealDB(url) as db:\n",
    "    await db.sign_in( u,  p) \n",
    "    await db.use(n, d)\n",
    "    response = await get_graph_RAG_response(db,model,q,input_text)\n",
    "    display(Markdown(response.text))"
   ]
  },
  {
   "cell_type": "code",
   "execution_count": 78,
   "id": "36c0c908-c6cf-49d7-908d-02fba9898a48",
   "metadata": {},
   "outputs": [
    {
     "name": "stdout",
     "output_type": "stream",
     "text": [
      "\n",
      "\n",
      "\n",
      "\n",
      " ------ STD RAG -------------------------\n",
      "\n",
      "\n",
      "\n",
      "\n"
     ]
    },
    {
     "data": {
      "text/markdown": [
       "Alex and Jordan, bathed in alien light, decipher a cosmic message in Dulce Base's command center.  Hope and fear intertwine in their shared gaze.\n"
      ],
      "text/plain": [
       "<IPython.core.display.Markdown object>"
      ]
     },
     "metadata": {},
     "output_type": "display_data"
    },
    {
     "name": "stdout",
     "output_type": "stream",
     "text": [
      "\n",
      "\n",
      "\n",
      "\n",
      " ------ GRAPH RAG -------------------------\n",
      "\n",
      "\n",
      "\n",
      "\n"
     ]
    },
    {
     "data": {
      "text/markdown": [
       "Here's a book cover description based on your request:\n",
       "\n",
       "**Image:** Alex Mercer and Jordan Hayes, silhouetted against Dulce Base's glowing entrance, hand reaching towards an alien signal.\n",
       "\n",
       "**Text:**  *Dulce:  A cosmic encounter in the heart of darkness.*\n"
      ],
      "text/plain": [
       "<IPython.core.display.Markdown object>"
      ]
     },
     "metadata": {},
     "output_type": "display_data"
    }
   ],
   "source": [
    "\n",
    "\n",
    "\n",
    "q = \"\"\"\n",
    "    Based on Alex Mercer strongest relationships and the places most important to the plot choose a\n",
    "    scene that is the most emotionally charged and important to make the cover of the book. \n",
    "   Describe this cover in 20 words or less.\n",
    "\"\"\"\n",
    "\n",
    "response = get_std_LLM_response(model,q,input_text)\n",
    "\n",
    "print (\"\\n\\n\\n\\n ------ STD RAG -------------------------\\n\\n\\n\\n\")\n",
    "\n",
    "display(Markdown(response.text))\n",
    "\n",
    "print (\"\\n\\n\\n\\n ------ GRAPH RAG -------------------------\\n\\n\\n\\n\")\n",
    "\n",
    "async with AsyncSurrealDB(url) as db:\n",
    "    await db.sign_in( u,  p)  \n",
    "    await db.use(n, d)\n",
    "    response = await get_graph_RAG_response(db,model,q,input_text)\n",
    "    display(Markdown(response.text))\n"
   ]
  },
  {
   "cell_type": "code",
   "execution_count": 79,
   "id": "7512492a-5757-4b0d-890a-1f6370825b61",
   "metadata": {},
   "outputs": [
    {
     "name": "stdout",
     "output_type": "stream",
     "text": [
      "\n",
      "\n",
      "\n",
      "\n",
      " ------ STD RAG -------------------------\n",
      "\n",
      "\n",
      "\n",
      "\n"
     ]
    },
    {
     "data": {
      "text/markdown": [
       "## Operation: Dulce - Book Cover Concept\n",
       "\n",
       "**Scene Choice:** The most emotionally charged and important scene for the cover, considering Alex Mercer's strongest relationships and plot significance, is the climax of Chapter 11 or a similar scene from later chapters where the team is actively engaging in interstellar communication for the first time.  This captures the core of the narrative:  the risky first contact with an alien intelligence, highlighting the collaborative effort of the team.\n",
       "\n",
       "**8-Bit Style Cover Art Description:**\n",
       "\n",
       "The cover art will be rendered in a classic 8-bit video game style, reminiscent of NES or early SNES games.  The overall color palette will be dark, using blues, purples, and greens to create a mysterious and slightly ominous atmosphere.  \n",
       "\n",
       "**Foreground:**\n",
       "\n",
       "* **Alex Mercer:**  A pixelated Alex Mercer will be centrally positioned, but slightly off-center, his expression a mix of determination and apprehension.  He is depicted in his military uniform, but maybe with a futuristic twist; his weapon is slightly visible, hinting at the ongoing tension. He's looking towards a central point.\n",
       "\n",
       "* **Communication Interface:** The foreground will prominently feature a stylized, 8-bit representation of a complex communication interface, similar to the monitors described in the text.   Pixelated symbols and numbers (both human and alien) will scroll across the screen. The alien symbols will be distinct and evocative of a higher, or different, order of intelligence.  Bright neon colors (blue and green) will highlight active parts of the interface.\n",
       "\n",
       "**Background:**\n",
       "\n",
       "* **The Dulce Base:**  A simplified representation of the Dulce Base will be in the background. It can be suggested through pixelated grey and brown blocks representing underground structures. Maybe the elevator shaft and the corridors are visible. The style should imply depth and mystery.\n",
       "\n",
       "* **Cosmic Elements:**  Subtle hints of cosmic imagery will subtly appear in the background; perhaps a few larger pixels representing distant stars or nebulas. This background element won't overpower the foreground but adds a sense of scale and the wider implications of the operation.\n",
       "\n",
       "* **Team Silhouettes:**  The silhouettes of Jordan, Taylor, and Sam will be partially visible behind Alex and the interface.  This underscores the collaborative nature of the mission and their crucial roles.\n",
       "\n",
       "\n",
       "**Overall Style:**\n",
       "\n",
       "The style will be intentionally retro, using a limited color palette and simple pixel art to evoke a sense of nostalgia while remaining visually captivating.  The overall feeling should be one of mystery, suspense, and high-stakes action, promising an engaging and thought-provoking story. The title, \"Operation: Dulce,\" will be rendered in a bold, pixelated font, matching the retro aesthetic.\n",
       "\n",
       "\n",
       "**Specific Pixel Art Elements:**\n",
       "\n",
       "* Use a pixel art style that reflects the technology of the 80s and 90s.\n",
       "* The characters should have distinct features and expressions even with a limited number of pixels.\n",
       "*  Use vibrant colors sparingly to draw the eye to specific details, like the communication interface.  The rest will be in muted shades.\n",
       "* Incorporate shading through pixel manipulation to give characters and the background depth.\n",
       "* Use the limited palette and pixel style to convey emotions such as tension, anticipation, and determination.\n",
       "\n",
       "\n",
       "This concept aims to create a visually compelling book cover that immediately captures the essence of the story—a suspenseful, science fiction adventure centered around a crucial first contact event. The retro 8-bit style adds a layer of unique character and intrigue, promising a story with equal parts scientific exploration and human drama.\n"
      ],
      "text/plain": [
       "<IPython.core.display.Markdown object>"
      ]
     },
     "metadata": {},
     "output_type": "display_data"
    },
    {
     "name": "stdout",
     "output_type": "stream",
     "text": [
      "\n",
      "\n",
      "\n",
      "\n",
      " ------ GRAPH RAG -------------------------\n",
      "\n",
      "\n",
      "\n",
      "\n"
     ]
    },
    {
     "data": {
      "text/markdown": [
       "Here's a description of a book cover scene and its depiction in an 8-bit video game style, based on your provided text and knowledge graph:\n",
       "\n",
       "\n",
       "**Cover Scene Choice:**\n",
       "\n",
       "The most emotionally charged and important scene, considering Alex Mercer's strongest relationships (Jordan Hayes and Sam Rivera) and key locations (Dulce Base), is the moment when the team first receives a clear response from the alien signal.  This moment represents a pivotal shift from simple investigation to actual interstellar communication, and the emotional weight of that realization is a key theme of the story. The scene where Sam Rivera is shown to be the key in obtaining the communication is particularly important, representing his evolution in the story and his pivotal role.\n",
       "\n",
       "\n",
       "**8-bit Video Game Style Cover Art Description:**\n",
       "\n",
       "The cover art would be a pixelated scene set primarily within the Dulce Base command center.\n",
       "\n",
       "* **Background:** The background would consist of large, chunky pixels representing the dimly lit control room.  Shades of dark gray and blue would dominate, with some brighter pixels to represent glowing consoles and monitors.  The walls could feature pixelated depictions of pipes and vents, subtly conveying the underground setting.\n",
       "\n",
       "* **Characters:**\n",
       "    * **Alex Mercer:**  A sprite with a determined expression, depicted in shades of green and brown, would be centrally positioned, partially obscuring the monitor's display. His sprite would have some pixelated details to indicate his uniform and equipment.\n",
       "    * **Jordan Hayes:**  A sprite slightly smaller than Alex, maybe in purple and light blue, would be positioned next to Alex, their hand hovering over a pixelated keyboard.\n",
       "    * **Sam Rivera:** A smaller sprite in bright orange or yellow would be positioned slightly below Alex and Jordan, intensely focused on their own console, representing their integral role in the moment.\n",
       "    * **Taylor Cruz:** A sprite in dark blue/gray (to represent their authoritative nature) would be partially visible in the background, watching the others.\n",
       "\n",
       "* **Foreground:** The foreground would feature a brightly colored, pixelated representation of the alien signal itself.  It could be a series of geometric shapes, vibrant colors, or even stylized alien symbols, to capture the extraordinary nature of the communication.  The signal should be partially overlapping the foreground to suggest its integration within the scene.\n",
       "\n",
       "* **Text:**  The title, \"Operation: Dulce,\" would appear in a bold, pixelated 8-bit font at the top of the cover. The author's name would be smaller, below the title.  A subtitle like \"First Contact\" or \"The Interstellar Symphony\" could be added below the title.\n",
       "\n",
       "\n",
       "**Overall Style:**\n",
       "\n",
       "The style should evoke classic 8-bit RPGs or adventure games.  The color palette should be limited, using bold colors for contrast and impact.  The pixel art should be relatively high-resolution compared to truly vintage 8-bit graphics to keep it visually appealing, yet still distinctly 8-bit. The overall impression should be one of mystery, tension, and excitement, reflecting the narrative of the book.\n"
      ],
      "text/plain": [
       "<IPython.core.display.Markdown object>"
      ]
     },
     "metadata": {},
     "output_type": "display_data"
    }
   ],
   "source": [
    "\n",
    "\n",
    "q = \"\"\"Based on Alex Mercer strongest relationships and the places most important to the plot choose a\n",
    "    scene that is the most emotionally charged and important to make the cover of the book. \n",
    "   Draw this cover in the syle of an 8-bit video game.\n",
    "\"\"\"\n",
    "\n",
    "response = get_std_LLM_response(model,q,input_text)\n",
    "\n",
    "print (\"\\n\\n\\n\\n ------ STD RAG -------------------------\\n\\n\\n\\n\")\n",
    "\n",
    "display(Markdown(response.text))\n",
    "\n",
    "print (\"\\n\\n\\n\\n ------ GRAPH RAG -------------------------\\n\\n\\n\\n\")\n",
    "\n",
    "async with AsyncSurrealDB(url) as db:\n",
    "    await db.sign_in( u,  p) \n",
    "    await db.use(n, d)\n",
    "    response = await get_graph_RAG_response(db,model,q,input_text)\n",
    "    display(Markdown(response.text))"
   ]
  },
  {
   "cell_type": "code",
   "execution_count": 80,
   "id": "cb987247-629d-48ba-8457-1d1fc8b2f53b",
   "metadata": {},
   "outputs": [
    {
     "ename": "NotFound",
     "evalue": "404 models/imagen-3.0-generate-001 is not found for API version v1beta, or is not supported for predict. Call ListModels to see the list of available models and their supported methods.",
     "output_type": "error",
     "traceback": [
      "\u001b[0;31m---------------------------------------------------------------------------\u001b[0m",
      "\u001b[0;31m_InactiveRpcError\u001b[0m                         Traceback (most recent call last)",
      "File \u001b[0;32m/Library/Frameworks/Python.framework/Versions/3.12/lib/python3.12/site-packages/google/api_core/grpc_helpers.py:76\u001b[0m, in \u001b[0;36m_wrap_unary_errors.<locals>.error_remapped_callable\u001b[0;34m(*args, **kwargs)\u001b[0m\n\u001b[1;32m     75\u001b[0m \u001b[38;5;28;01mtry\u001b[39;00m:\n\u001b[0;32m---> 76\u001b[0m     \u001b[38;5;28;01mreturn\u001b[39;00m \u001b[43mcallable_\u001b[49m\u001b[43m(\u001b[49m\u001b[38;5;241;43m*\u001b[39;49m\u001b[43margs\u001b[49m\u001b[43m,\u001b[49m\u001b[43m \u001b[49m\u001b[38;5;241;43m*\u001b[39;49m\u001b[38;5;241;43m*\u001b[39;49m\u001b[43mkwargs\u001b[49m\u001b[43m)\u001b[49m\n\u001b[1;32m     77\u001b[0m \u001b[38;5;28;01mexcept\u001b[39;00m grpc\u001b[38;5;241m.\u001b[39mRpcError \u001b[38;5;28;01mas\u001b[39;00m exc:\n",
      "File \u001b[0;32m/Library/Frameworks/Python.framework/Versions/3.12/lib/python3.12/site-packages/grpc/_channel.py:1181\u001b[0m, in \u001b[0;36m_UnaryUnaryMultiCallable.__call__\u001b[0;34m(self, request, timeout, metadata, credentials, wait_for_ready, compression)\u001b[0m\n\u001b[1;32m   1175\u001b[0m (\n\u001b[1;32m   1176\u001b[0m     state,\n\u001b[1;32m   1177\u001b[0m     call,\n\u001b[1;32m   1178\u001b[0m ) \u001b[38;5;241m=\u001b[39m \u001b[38;5;28mself\u001b[39m\u001b[38;5;241m.\u001b[39m_blocking(\n\u001b[1;32m   1179\u001b[0m     request, timeout, metadata, credentials, wait_for_ready, compression\n\u001b[1;32m   1180\u001b[0m )\n\u001b[0;32m-> 1181\u001b[0m \u001b[38;5;28;01mreturn\u001b[39;00m \u001b[43m_end_unary_response_blocking\u001b[49m\u001b[43m(\u001b[49m\u001b[43mstate\u001b[49m\u001b[43m,\u001b[49m\u001b[43m \u001b[49m\u001b[43mcall\u001b[49m\u001b[43m,\u001b[49m\u001b[43m \u001b[49m\u001b[38;5;28;43;01mFalse\u001b[39;49;00m\u001b[43m,\u001b[49m\u001b[43m \u001b[49m\u001b[38;5;28;43;01mNone\u001b[39;49;00m\u001b[43m)\u001b[49m\n",
      "File \u001b[0;32m/Library/Frameworks/Python.framework/Versions/3.12/lib/python3.12/site-packages/grpc/_channel.py:1006\u001b[0m, in \u001b[0;36m_end_unary_response_blocking\u001b[0;34m(state, call, with_call, deadline)\u001b[0m\n\u001b[1;32m   1005\u001b[0m \u001b[38;5;28;01melse\u001b[39;00m:\n\u001b[0;32m-> 1006\u001b[0m     \u001b[38;5;28;01mraise\u001b[39;00m _InactiveRpcError(state)\n",
      "\u001b[0;31m_InactiveRpcError\u001b[0m: <_InactiveRpcError of RPC that terminated with:\n\tstatus = StatusCode.NOT_FOUND\n\tdetails = \"models/imagen-3.0-generate-001 is not found for API version v1beta, or is not supported for predict. Call ListModels to see the list of available models and their supported methods.\"\n\tdebug_error_string = \"UNKNOWN:Error received from peer ipv4:142.251.32.106:443 {created_time:\"2025-01-13T12:07:13.20065-05:00\", grpc_status:5, grpc_message:\"models/imagen-3.0-generate-001 is not found for API version v1beta, or is not supported for predict. Call ListModels to see the list of available models and their supported methods.\"}\"\n>",
      "\nThe above exception was the direct cause of the following exception:\n",
      "\u001b[0;31mNotFound\u001b[0m                                  Traceback (most recent call last)",
      "Cell \u001b[0;32mIn[80], line 3\u001b[0m\n\u001b[1;32m      1\u001b[0m imagen \u001b[38;5;241m=\u001b[39m genai\u001b[38;5;241m.\u001b[39mImageGenerationModel(\u001b[38;5;124m\"\u001b[39m\u001b[38;5;124mimagen-3.0-generate-001\u001b[39m\u001b[38;5;124m\"\u001b[39m)\n\u001b[0;32m----> 3\u001b[0m result \u001b[38;5;241m=\u001b[39m \u001b[43mimagen\u001b[49m\u001b[38;5;241;43m.\u001b[39;49m\u001b[43mgenerate_images\u001b[49m\u001b[43m(\u001b[49m\n\u001b[1;32m      4\u001b[0m \u001b[43m    \u001b[49m\u001b[43mprompt\u001b[49m\u001b[38;5;241;43m=\u001b[39;49m\u001b[38;5;124;43m\"\u001b[39;49m\u001b[38;5;124;43mFuzzy bunnies in my kitchen\u001b[39;49m\u001b[38;5;124;43m\"\u001b[39;49m\u001b[43m,\u001b[49m\n\u001b[1;32m      5\u001b[0m \u001b[43m    \u001b[49m\u001b[43mnumber_of_images\u001b[49m\u001b[38;5;241;43m=\u001b[39;49m\u001b[38;5;241;43m4\u001b[39;49m\u001b[43m,\u001b[49m\n\u001b[1;32m      6\u001b[0m \u001b[43m    \u001b[49m\u001b[43msafety_filter_level\u001b[49m\u001b[38;5;241;43m=\u001b[39;49m\u001b[38;5;124;43m\"\u001b[39;49m\u001b[38;5;124;43mblock_only_high\u001b[39;49m\u001b[38;5;124;43m\"\u001b[39;49m\u001b[43m,\u001b[49m\n\u001b[1;32m      7\u001b[0m \u001b[43m    \u001b[49m\u001b[43mperson_generation\u001b[49m\u001b[38;5;241;43m=\u001b[39;49m\u001b[38;5;124;43m\"\u001b[39;49m\u001b[38;5;124;43mallow_adult\u001b[39;49m\u001b[38;5;124;43m\"\u001b[39;49m\u001b[43m,\u001b[49m\n\u001b[1;32m      8\u001b[0m \u001b[43m    \u001b[49m\u001b[43maspect_ratio\u001b[49m\u001b[38;5;241;43m=\u001b[39;49m\u001b[38;5;124;43m\"\u001b[39;49m\u001b[38;5;124;43m3:4\u001b[39;49m\u001b[38;5;124;43m\"\u001b[39;49m\u001b[43m,\u001b[49m\n\u001b[1;32m      9\u001b[0m \u001b[43m    \u001b[49m\u001b[43mnegative_prompt\u001b[49m\u001b[38;5;241;43m=\u001b[39;49m\u001b[38;5;124;43m\"\u001b[39;49m\u001b[38;5;124;43mOutside\u001b[39;49m\u001b[38;5;124;43m\"\u001b[39;49m\u001b[43m,\u001b[49m\n\u001b[1;32m     10\u001b[0m \u001b[43m)\u001b[49m\n\u001b[1;32m     12\u001b[0m \u001b[38;5;28;01mfor\u001b[39;00m image \u001b[38;5;129;01min\u001b[39;00m result\u001b[38;5;241m.\u001b[39mimages:\n\u001b[1;32m     13\u001b[0m   \u001b[38;5;28mprint\u001b[39m(image)\n",
      "File \u001b[0;32m/Library/Frameworks/Python.framework/Versions/3.12/lib/python3.12/site-packages/google/generativeai/vision_models/_vision_models.py:243\u001b[0m, in \u001b[0;36mImageGenerationModel.generate_images\u001b[0;34m(self, prompt, negative_prompt, number_of_images, aspect_ratio, guidance_scale, language, safety_filter_level, person_generation)\u001b[0m\n\u001b[1;32m    196\u001b[0m \u001b[38;5;28;01mdef\u001b[39;00m \u001b[38;5;21mgenerate_images\u001b[39m(\n\u001b[1;32m    197\u001b[0m     \u001b[38;5;28mself\u001b[39m,\n\u001b[1;32m    198\u001b[0m     prompt: \u001b[38;5;28mstr\u001b[39m,\n\u001b[0;32m   (...)\u001b[0m\n\u001b[1;32m    206\u001b[0m     person_generation: Optional[PersonGeneration] \u001b[38;5;241m=\u001b[39m \u001b[38;5;28;01mNone\u001b[39;00m,\n\u001b[1;32m    207\u001b[0m ) \u001b[38;5;241m-\u001b[39m\u001b[38;5;241m>\u001b[39m \u001b[38;5;124m\"\u001b[39m\u001b[38;5;124mImageGenerationResponse\u001b[39m\u001b[38;5;124m\"\u001b[39m:\n\u001b[1;32m    208\u001b[0m \u001b[38;5;250m    \u001b[39m\u001b[38;5;124;03m\"\"\"Generates images from text prompt.\u001b[39;00m\n\u001b[1;32m    209\u001b[0m \n\u001b[1;32m    210\u001b[0m \u001b[38;5;124;03m    Args:\u001b[39;00m\n\u001b[0;32m   (...)\u001b[0m\n\u001b[1;32m    241\u001b[0m \u001b[38;5;124;03m        An `ImageGenerationResponse` object.\u001b[39;00m\n\u001b[1;32m    242\u001b[0m \u001b[38;5;124;03m    \"\"\"\u001b[39;00m\n\u001b[0;32m--> 243\u001b[0m     \u001b[38;5;28;01mreturn\u001b[39;00m \u001b[38;5;28;43mself\u001b[39;49m\u001b[38;5;241;43m.\u001b[39;49m\u001b[43m_generate_images\u001b[49m\u001b[43m(\u001b[49m\n\u001b[1;32m    244\u001b[0m \u001b[43m        \u001b[49m\u001b[43mprompt\u001b[49m\u001b[38;5;241;43m=\u001b[39;49m\u001b[43mprompt\u001b[49m\u001b[43m,\u001b[49m\n\u001b[1;32m    245\u001b[0m \u001b[43m        \u001b[49m\u001b[43mnegative_prompt\u001b[49m\u001b[38;5;241;43m=\u001b[39;49m\u001b[43mnegative_prompt\u001b[49m\u001b[43m,\u001b[49m\n\u001b[1;32m    246\u001b[0m \u001b[43m        \u001b[49m\u001b[43mnumber_of_images\u001b[49m\u001b[38;5;241;43m=\u001b[39;49m\u001b[43mnumber_of_images\u001b[49m\u001b[43m,\u001b[49m\n\u001b[1;32m    247\u001b[0m \u001b[43m        \u001b[49m\u001b[43maspect_ratio\u001b[49m\u001b[38;5;241;43m=\u001b[39;49m\u001b[43maspect_ratio\u001b[49m\u001b[43m,\u001b[49m\n\u001b[1;32m    248\u001b[0m \u001b[43m        \u001b[49m\u001b[43mguidance_scale\u001b[49m\u001b[38;5;241;43m=\u001b[39;49m\u001b[43mguidance_scale\u001b[49m\u001b[43m,\u001b[49m\n\u001b[1;32m    249\u001b[0m \u001b[43m        \u001b[49m\u001b[43mlanguage\u001b[49m\u001b[38;5;241;43m=\u001b[39;49m\u001b[43mlanguage\u001b[49m\u001b[43m,\u001b[49m\n\u001b[1;32m    250\u001b[0m \u001b[43m        \u001b[49m\u001b[43msafety_filter_level\u001b[49m\u001b[38;5;241;43m=\u001b[39;49m\u001b[43msafety_filter_level\u001b[49m\u001b[43m,\u001b[49m\n\u001b[1;32m    251\u001b[0m \u001b[43m        \u001b[49m\u001b[43mperson_generation\u001b[49m\u001b[38;5;241;43m=\u001b[39;49m\u001b[43mperson_generation\u001b[49m\u001b[43m,\u001b[49m\n\u001b[1;32m    252\u001b[0m \u001b[43m    \u001b[49m\u001b[43m)\u001b[49m\n",
      "File \u001b[0;32m/Library/Frameworks/Python.framework/Versions/3.12/lib/python3.12/site-packages/google/generativeai/vision_models/_vision_models.py:179\u001b[0m, in \u001b[0;36mImageGenerationModel._generate_images\u001b[0;34m(self, prompt, negative_prompt, number_of_images, width, height, aspect_ratio, guidance_scale, output_mime_type, compression_quality, language, safety_filter_level, person_generation)\u001b[0m\n\u001b[1;32m    176\u001b[0m     parameters[\u001b[38;5;124m\"\u001b[39m\u001b[38;5;124mpersonGeneration\u001b[39m\u001b[38;5;124m\"\u001b[39m] \u001b[38;5;241m=\u001b[39m person_generation\n\u001b[1;32m    177\u001b[0m     shared_generation_parameters[\u001b[38;5;124m\"\u001b[39m\u001b[38;5;124mperson_generation\u001b[39m\u001b[38;5;124m\"\u001b[39m] \u001b[38;5;241m=\u001b[39m person_generation\n\u001b[0;32m--> 179\u001b[0m response \u001b[38;5;241m=\u001b[39m \u001b[38;5;28;43mself\u001b[39;49m\u001b[38;5;241;43m.\u001b[39;49m\u001b[43m_client\u001b[49m\u001b[38;5;241;43m.\u001b[39;49m\u001b[43mpredict\u001b[49m\u001b[43m(\u001b[49m\n\u001b[1;32m    180\u001b[0m \u001b[43m    \u001b[49m\u001b[43mmodel\u001b[49m\u001b[38;5;241;43m=\u001b[39;49m\u001b[38;5;28;43mself\u001b[39;49m\u001b[38;5;241;43m.\u001b[39;49m\u001b[43mmodel_name\u001b[49m\u001b[43m,\u001b[49m\u001b[43m \u001b[49m\u001b[43minstances\u001b[49m\u001b[38;5;241;43m=\u001b[39;49m\u001b[43m[\u001b[49m\u001b[43minstance\u001b[49m\u001b[43m]\u001b[49m\u001b[43m,\u001b[49m\u001b[43m \u001b[49m\u001b[43mparameters\u001b[49m\u001b[38;5;241;43m=\u001b[39;49m\u001b[43mparameters\u001b[49m\n\u001b[1;32m    181\u001b[0m \u001b[43m\u001b[49m\u001b[43m)\u001b[49m\n\u001b[1;32m    183\u001b[0m generated_images: List[image_types\u001b[38;5;241m.\u001b[39mGeneratedImage] \u001b[38;5;241m=\u001b[39m []\n\u001b[1;32m    184\u001b[0m \u001b[38;5;28;01mfor\u001b[39;00m idx, prediction \u001b[38;5;129;01min\u001b[39;00m \u001b[38;5;28menumerate\u001b[39m(response\u001b[38;5;241m.\u001b[39mpredictions):\n",
      "File \u001b[0;32m/Library/Frameworks/Python.framework/Versions/3.12/lib/python3.12/site-packages/google/generativeai/client.py:191\u001b[0m, in \u001b[0;36mPredictionServiceClient.predict\u001b[0;34m(self, model, instances, parameters)\u001b[0m\n\u001b[1;32m    187\u001b[0m pr \u001b[38;5;241m=\u001b[39m protos\u001b[38;5;241m.\u001b[39mPredictRequest\u001b[38;5;241m.\u001b[39mpb()\n\u001b[1;32m    188\u001b[0m request \u001b[38;5;241m=\u001b[39m pr(\n\u001b[1;32m    189\u001b[0m     model\u001b[38;5;241m=\u001b[39mmodel, instances\u001b[38;5;241m=\u001b[39m[to_value(i) \u001b[38;5;28;01mfor\u001b[39;00m i \u001b[38;5;129;01min\u001b[39;00m instances], parameters\u001b[38;5;241m=\u001b[39mto_value(parameters)\n\u001b[1;32m    190\u001b[0m )\n\u001b[0;32m--> 191\u001b[0m \u001b[38;5;28;01mreturn\u001b[39;00m \u001b[38;5;28;43msuper\u001b[39;49m\u001b[43m(\u001b[49m\u001b[43m)\u001b[49m\u001b[38;5;241;43m.\u001b[39;49m\u001b[43mpredict\u001b[49m\u001b[43m(\u001b[49m\u001b[43mrequest\u001b[49m\u001b[43m)\u001b[49m\n",
      "File \u001b[0;32m/Library/Frameworks/Python.framework/Versions/3.12/lib/python3.12/site-packages/google/ai/generativelanguage_v1beta/services/prediction_service/client.py:785\u001b[0m, in \u001b[0;36mPredictionServiceClient.predict\u001b[0;34m(self, request, model, instances, retry, timeout, metadata)\u001b[0m\n\u001b[1;32m    782\u001b[0m \u001b[38;5;28mself\u001b[39m\u001b[38;5;241m.\u001b[39m_validate_universe_domain()\n\u001b[1;32m    784\u001b[0m \u001b[38;5;66;03m# Send the request.\u001b[39;00m\n\u001b[0;32m--> 785\u001b[0m response \u001b[38;5;241m=\u001b[39m \u001b[43mrpc\u001b[49m\u001b[43m(\u001b[49m\n\u001b[1;32m    786\u001b[0m \u001b[43m    \u001b[49m\u001b[43mrequest\u001b[49m\u001b[43m,\u001b[49m\n\u001b[1;32m    787\u001b[0m \u001b[43m    \u001b[49m\u001b[43mretry\u001b[49m\u001b[38;5;241;43m=\u001b[39;49m\u001b[43mretry\u001b[49m\u001b[43m,\u001b[49m\n\u001b[1;32m    788\u001b[0m \u001b[43m    \u001b[49m\u001b[43mtimeout\u001b[49m\u001b[38;5;241;43m=\u001b[39;49m\u001b[43mtimeout\u001b[49m\u001b[43m,\u001b[49m\n\u001b[1;32m    789\u001b[0m \u001b[43m    \u001b[49m\u001b[43mmetadata\u001b[49m\u001b[38;5;241;43m=\u001b[39;49m\u001b[43mmetadata\u001b[49m\u001b[43m,\u001b[49m\n\u001b[1;32m    790\u001b[0m \u001b[43m\u001b[49m\u001b[43m)\u001b[49m\n\u001b[1;32m    792\u001b[0m \u001b[38;5;66;03m# Done; return the response.\u001b[39;00m\n\u001b[1;32m    793\u001b[0m \u001b[38;5;28;01mreturn\u001b[39;00m response\n",
      "File \u001b[0;32m/Library/Frameworks/Python.framework/Versions/3.12/lib/python3.12/site-packages/google/api_core/gapic_v1/method.py:131\u001b[0m, in \u001b[0;36m_GapicCallable.__call__\u001b[0;34m(self, timeout, retry, compression, *args, **kwargs)\u001b[0m\n\u001b[1;32m    128\u001b[0m \u001b[38;5;28;01mif\u001b[39;00m \u001b[38;5;28mself\u001b[39m\u001b[38;5;241m.\u001b[39m_compression \u001b[38;5;129;01mis\u001b[39;00m \u001b[38;5;129;01mnot\u001b[39;00m \u001b[38;5;28;01mNone\u001b[39;00m:\n\u001b[1;32m    129\u001b[0m     kwargs[\u001b[38;5;124m\"\u001b[39m\u001b[38;5;124mcompression\u001b[39m\u001b[38;5;124m\"\u001b[39m] \u001b[38;5;241m=\u001b[39m compression\n\u001b[0;32m--> 131\u001b[0m \u001b[38;5;28;01mreturn\u001b[39;00m \u001b[43mwrapped_func\u001b[49m\u001b[43m(\u001b[49m\u001b[38;5;241;43m*\u001b[39;49m\u001b[43margs\u001b[49m\u001b[43m,\u001b[49m\u001b[43m \u001b[49m\u001b[38;5;241;43m*\u001b[39;49m\u001b[38;5;241;43m*\u001b[39;49m\u001b[43mkwargs\u001b[49m\u001b[43m)\u001b[49m\n",
      "File \u001b[0;32m/Library/Frameworks/Python.framework/Versions/3.12/lib/python3.12/site-packages/google/api_core/grpc_helpers.py:78\u001b[0m, in \u001b[0;36m_wrap_unary_errors.<locals>.error_remapped_callable\u001b[0;34m(*args, **kwargs)\u001b[0m\n\u001b[1;32m     76\u001b[0m     \u001b[38;5;28;01mreturn\u001b[39;00m callable_(\u001b[38;5;241m*\u001b[39margs, \u001b[38;5;241m*\u001b[39m\u001b[38;5;241m*\u001b[39mkwargs)\n\u001b[1;32m     77\u001b[0m \u001b[38;5;28;01mexcept\u001b[39;00m grpc\u001b[38;5;241m.\u001b[39mRpcError \u001b[38;5;28;01mas\u001b[39;00m exc:\n\u001b[0;32m---> 78\u001b[0m     \u001b[38;5;28;01mraise\u001b[39;00m exceptions\u001b[38;5;241m.\u001b[39mfrom_grpc_error(exc) \u001b[38;5;28;01mfrom\u001b[39;00m \u001b[38;5;21;01mexc\u001b[39;00m\n",
      "\u001b[0;31mNotFound\u001b[0m: 404 models/imagen-3.0-generate-001 is not found for API version v1beta, or is not supported for predict. Call ListModels to see the list of available models and their supported methods."
     ]
    }
   ],
   "source": [
    "\n",
    "\n",
    "imagen = genai.ImageGenerationModel(\"imagen-3.0-generate-001\")\n",
    "\n",
    "result = imagen.generate_images(\n",
    "    prompt=\"Fuzzy bunnies in my kitchen\",\n",
    "    number_of_images=4,\n",
    "    safety_filter_level=\"block_only_high\",\n",
    "    person_generation=\"allow_adult\",\n",
    "    aspect_ratio=\"3:4\",\n",
    "    negative_prompt=\"Outside\",\n",
    ")\n",
    "\n",
    "for image in result.images:\n",
    "  print(image)\n",
    "\n",
    "# Open and display the image using your local operating system.\n",
    "for image in result.images:\n",
    "  image._pil_image.show()\n",
    "\n",
    "\n",
    "\n"
   ]
  },
  {
   "cell_type": "code",
   "execution_count": 81,
   "id": "e773be1c-91ca-4120-b5a1-43c9d75a36ef",
   "metadata": {},
   "outputs": [
    {
     "name": "stdout",
     "output_type": "stream",
     "text": [
      "\n",
      "\n",
      "\n",
      "\n",
      " ------ STD RAG -------------------------\n",
      "\n",
      "\n",
      "\n",
      "\n",
      "\n",
      "-Goal-\n",
      "You are a researcher who is providing answers to a question for you client based on documents provided you. Answer the questions to the best of your ability given the documents.\n",
      "\n",
      "<question>\n",
      "Based on Alex Mercer strongest relationships and the places most important to the plot choose a\n",
      "    scene that is the most emotionally charged and important to make the cover of the book. \n",
      "   Draw this cover in the syle of an 8-bit video game using imagen3.\n",
      "\n",
      "</question>\n",
      "\n",
      " \n",
      "\n",
      "\n",
      "\n",
      "\n",
      " ------ GRAPH RAG -------------------------\n",
      "\n",
      "\n",
      "\n",
      "\n",
      "\n",
      "-Goal-\n",
      "You are a researcher who is providing answers to a question for you client based on documents provided you. You also have access to a knowledge graph based on the documents provided. Answer the questions to the best of your ability given the documents and knowledge graph.\n",
      "\n",
      "<knowledge graph>\n",
      "[{'result': [{'->RELATED_TO': [{'description': 'Alex Mercer operates within Dulce Base during Operation: Dulce.', 'out': RecordID(table_name=PLACE, record_id=DULCE BASE), 'strength': 9}, {'description': 'Alex Mercer and Taylor Cruz are both members of the Paranormal Military Squad and work together on Operation: Dulce.', 'out': RecordID(table_name=PERSON, record_id=TAYLOR CRUZ), 'strength': 8}, {'description': 'Alex Mercer reports to and receives orders from Washington D.C.', 'out': RecordID(table_name=PLACE, record_id=WASHINGTON), 'strength': 6}, {'description': 'Alex Mercer and Jordan Hayes are both members of the Paranormal Military Squad and work closely together, sharing a mutual respect and understanding.', 'out': RecordID(table_name=PERSON, record_id=JORDAN HAYES), 'strength': 9}, {'description': 'Alex Mercer leads the team during Operation: Dulce', 'out': RecordID(table_name=PERSON, record_id=ALEX MERCER), 'strength': 10}, {'description': 'Alex Mercer and Sam Rivera are both members of the Paranormal Military Squad and work together on Operation: Dulce. Alex mentors Sam.', 'out': RecordID(table_name=PERSON, record_id=SAM RIVERA), 'strength': 7}], 'description': 'Agent Alex Mercer is a member of the Paranormal Military Squad. He is unfailingly determined, observant, and a skilled leader.  He is shown to be capable of strategic thinking and has a strong sense of responsibility.', 'id': RecordID(table_name=PERSON, record_id=ALEX MERCER)}, {'->RELATED_TO': [{'description': 'Jordan Hayes is a key member of the team, conducting critical analysis.', 'out': RecordID(table_name=PERSON, record_id=JORDAN HAYES), 'strength': 10}, {'description': 'Jordan Hayes operates within Dulce Base during Operation: Dulce.', 'out': RecordID(table_name=PLACE, record_id=DULCE BASE), 'strength': 9}, {'description': 'Jordan Hayes and Sam Rivera are both members of the Paranormal Military Squad and collaborate closely on technical aspects of Operation: Dulce.', 'out': RecordID(table_name=PERSON, record_id=SAM RIVERA), 'strength': 8}, {'description': 'Jordan Hayes reports to and receives orders from Washington D.C.', 'out': RecordID(table_name=PLACE, record_id=WASHINGTON), 'strength': 6}], 'description': 'Agent Jordan Hayes is a member of the Paranormal Military Squad and is a doctor.  They are analytical, skeptical, and possess a strong understanding of science and the unexplained. They are a skilled analyst and possesses a cautious nature.', 'id': RecordID(table_name=PERSON, record_id=JORDAN HAYES)}, {'->RELATED_TO': [{'description': 'Sam Rivera provides crucial technological support to the team.', 'out': RecordID(table_name=PERSON, record_id=SAM RIVERA), 'strength': 10}, {'description': 'Sam Rivera reports to and receives orders from Washington D.C.', 'out': RecordID(table_name=PLACE, record_id=WASHINGTON), 'strength': 6}, {'description': 'Sam Rivera operates within Dulce Base during Operation: Dulce.', 'out': RecordID(table_name=PLACE, record_id=DULCE BASE), 'strength': 9}], 'description': 'Agent Sam Rivera is a member of the Paranormal Military Squad and is a cybersecurity expert. They are curious, tech-savvy, and possess a good sense of humor. They are skilled at interpreting data and adapting to unexpected situations.', 'id': RecordID(table_name=PERSON, record_id=SAM RIVERA)}, {'->RELATED_TO': [{'description': \"Taylor Cruz and Sam Rivera are both members of the Paranormal Military Squad. Taylor is Sam's superior officer, but Sam's expertise is highly valued.\", 'out': RecordID(table_name=PERSON, record_id=SAM RIVERA), 'strength': 6}, {'description': 'Taylor Cruz reports to and receives orders from Washington D.C.', 'out': RecordID(table_name=PLACE, record_id=WASHINGTON), 'strength': 6}, {'description': 'Taylor Cruz operates within Dulce Base during Operation: Dulce.', 'out': RecordID(table_name=PLACE, record_id=DULCE BASE), 'strength': 9}, {'description': \"Taylor Cruz and Jordan Hayes are both members of the Paranormal Military Squad and often have conflicting viewpoints. Taylor's authority sometimes clashes with Jordan's independent thinking.\", 'out': RecordID(table_name=PERSON, record_id=JORDAN HAYES), 'strength': 5}, {'description': 'Taylor Cruz is the leader of the team during Operation: Dulce', 'out': RecordID(table_name=PERSON, record_id=TAYLOR CRUZ), 'strength': 10}], 'description': 'Agent Taylor Cruz is a member of the Paranormal Military Squad. They are ambitious, meticulous, and authoritarian. They value obedience and control. They are skilled at commanding and maintaining order.', 'id': RecordID(table_name=PERSON, record_id=TAYLOR CRUZ)}], 'status': 'OK', 'time': '37.308125ms'}]\n",
      "</knowledge graph>\n",
      "\n",
      "<question>\n",
      "Based on Alex Mercer strongest relationships and the places most important to the plot choose a\n",
      "    scene that is the most emotionally charged and important to make the cover of the book. \n",
      "   Draw this cover in the syle of an 8-bit video game using imagen3.\n",
      "\n",
      "</question>\n",
      "\n",
      " \n"
     ]
    }
   ],
   "source": [
    "\n",
    "q = \"\"\"Based on Alex Mercer strongest relationships and the places most important to the plot choose a\n",
    "    scene that is the most emotionally charged and important to make the cover of the book. \n",
    "   Draw this cover in the syle of an 8-bit video game using imagen3.\n",
    "\"\"\"\n",
    "\n",
    "print (\"\\n\\n\\n\\n ------ STD RAG -------------------------\\n\\n\\n\\n\")\n",
    "messages = generate_std_LLM_messages(q,the_attached_file)\n",
    "print(messages[0][\"parts\"][0][\"text\"])\n",
    "\n",
    "print (\"\\n\\n\\n\\n ------ GRAPH RAG -------------------------\\n\\n\\n\\n\")\n",
    "\n",
    "async with AsyncSurrealDB(url) as db:\n",
    "    await db.sign_in( u,  p) \n",
    "    await db.use(n, d)\n",
    "    messages = await generate_graph_RAG_messages(db,q,the_attached_file)\n",
    "    print(messages[0][\"parts\"][0][\"text\"])\n",
    "\n",
    "\n"
   ]
  },
  {
   "cell_type": "code",
   "execution_count": null,
   "id": "702ae4a6-3f21-4342-a21f-546b59241306",
   "metadata": {},
   "outputs": [],
   "source": []
  }
 ],
 "metadata": {
  "kernelspec": {
   "display_name": "Python 3 (ipykernel)",
   "language": "python",
   "name": "python3"
  },
  "language_info": {
   "codemirror_mode": {
    "name": "ipython",
    "version": 3
   },
   "file_extension": ".py",
   "mimetype": "text/x-python",
   "name": "python",
   "nbconvert_exporter": "python",
   "pygments_lexer": "ipython3",
   "version": "3.12.7"
  }
 },
 "nbformat": 4,
 "nbformat_minor": 5
}
