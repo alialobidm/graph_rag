{
 "cells": [
  {
   "cell_type": "code",
   "execution_count": 11,
   "id": "04f3f765-96d5-49c2-96e3-aa64c560e88d",
   "metadata": {},
   "outputs": [],
   "source": [
    "import sys\n",
    "import os\n",
    "import json\n",
    "import google.generativeai as genai\n",
    "import os\n",
    "import time\n",
    "import ipynb_path\n",
    "from surrealdb import Surreal;\n",
    "\n",
    "from IPython.display import display, Markdown\n",
    "\n",
    "\n",
    "#get this notebook's path for access to the other files needed\n",
    "dir_path = os.path.dirname(os.path.realpath(ipynb_path.get(__name__)))\n",
    "sys.path.append(dir_path) #add the current directory for adding py imports\n",
    "from RAG_prompts import STD_RAG_PROMT, GRAPH_RAG_PROMT"
   ]
  },
  {
   "cell_type": "code",
   "execution_count": 3,
   "id": "3d8dfda3-61c6-4ec0-8803-7ef419ea7448",
   "metadata": {},
   "outputs": [
    {
     "name": "stdout",
     "output_type": "stream",
     "text": [
      "surreal start --log none --user root --pass root --bind 0.0.0.0:8080 \"rocksdb:///Users/sandro/Library/CloudStorage/GoogleDrive-apireno@gmail.com/My Drive/code/graph_rag/db\"\n"
     ]
    }
   ],
   "source": [
    "\n",
    "# this folder\n",
    "nb_folder = dir_path\n",
    "input_file = nb_folder + \"/Operation Dulce v2 1 1.md\"\n",
    "\n",
    "    \n",
    "ip = \"0.0.0.0:8080\"\n",
    "url = \"ws://{0}/rpc\".format(ip)\n",
    "\n",
    "u = \"root\"\n",
    "p = \"root\"\n",
    "n = \"graph_rag\"\n",
    "d = \"graph_rag\"\n",
    "db_folder = nb_folder + \"/db\"\n",
    "\n",
    "surrealdb_start = \"surreal start --log none --user {u} --pass {p} --bind {ip} \\\"rocksdb://{db_folder}\\\"\".format(\n",
    "    u=u,\n",
    "    p=p,\n",
    "    ip=ip,\n",
    "    db_folder=db_folder)\n",
    "\n",
    "#run this command if your surreal instance isn't running yet \n",
    "#copy and paste from below into a terminal\n",
    "print(surrealdb_start)\n"
   ]
  },
  {
   "cell_type": "code",
   "execution_count": 6,
   "id": "a4a60278-ae0c-43e7-b5cc-f887dbd400e3",
   "metadata": {},
   "outputs": [],
   "source": [
    "\n",
    "# get the text from the source file for use in our prompt\n",
    "with open(input_file, \"r\") as f:\n",
    "    input_text = f.read()\n",
    "\n",
    "\n",
    "retrieve_function_surql = \"\"\"\n",
    "DEFINE FUNCTION IF NOT EXISTS fn::get_related_entities($text: string) {\n",
    "    \n",
    "    LET $emb = fn::get_embeddings($text);\n",
    "    \n",
    "    RETURN SELECT id,description, ->RELATED_TO.{out,strength,description} FROM PERSON \n",
    "        WHERE  embedding <|5,COSINE|> $emb;\n",
    "};\n",
    "\"\"\"\n",
    "\n",
    "\n",
    "async with Surreal(url) as db:\n",
    "    await db.signin({\"user\": u, \"pass\": p}) \n",
    "    await db.use(n, d)\n",
    "    outcome = await db.query(retrieve_function_surql)\n",
    "\n"
   ]
  },
  {
   "cell_type": "code",
   "execution_count": 8,
   "id": "4b9a6852-bed5-4cdc-aa58-a4b0d58cbe6f",
   "metadata": {},
   "outputs": [],
   "source": [
    "#this function will call the LLM with a prompt that includes the text of the original document\n",
    "def get_std_LLM_response(the_model,the_question,the_input_text):\n",
    "\n",
    "    messages = [\n",
    "            {\"role\": \"user\", \"parts\": [{\"text\": STD_RAG_PROMT.format(\n",
    "                question = the_question,\n",
    "                documents = the_input_text\n",
    "            )}]}\n",
    "        ]\n",
    "\n",
    "    \n",
    "    response = model.generate_content(messages)\n",
    "    return response\n",
    "    \n",
    "#this function will call the LLM with a prompt that includes the text of the original document\n",
    "#plus the relevant entities and relationships from the knowledge graph bases on a vector search\n",
    "async def get_graph_RAG_response(the_db,the_model,the_question,the_input_text):\n",
    "    \n",
    "    get_the_graph_context_surql = \"fn::get_related_entities('{0}')\"\n",
    "    \n",
    "    outcome = await the_db.query(get_the_graph_context_surql.format(the_question))\n",
    "\n",
    "    messages = [\n",
    "            {\"role\": \"user\", \"parts\": [{\"text\": GRAPH_RAG_PROMT.format(\n",
    "                question = the_question,\n",
    "                documents = the_input_text,\n",
    "                knowledge_graph = outcome\n",
    "            )}]}\n",
    "        ]\n",
    "\n",
    "    \n",
    "    response = model.generate_content(messages)\n",
    "    return response\n",
    "    \n",
    "       "
   ]
  },
  {
   "cell_type": "code",
   "execution_count": 9,
   "id": "7a0050ec-609c-4b15-af47-38bdb03a0edc",
   "metadata": {},
   "outputs": [],
   "source": [
    "\n",
    "# Set your API key (I've stored mine in an env variable)\n",
    "genai.configure(api_key=os.getenv('GOOGLE_GENAI_API_KEY'))\n",
    "\n",
    "#flash is faster and good enough\n",
    "#model = \"gemini-1.0-pro\"\n",
    "model = \"gemini-1.5-flash\"\n",
    "\n",
    "model = genai.GenerativeModel(model)\n",
    "\n"
   ]
  },
  {
   "cell_type": "code",
   "execution_count": 12,
   "id": "eaf947c4-621f-4e63-a914-c27c99d805a7",
   "metadata": {},
   "outputs": [
    {
     "name": "stdout",
     "output_type": "stream",
     "text": [
      "\n",
      "\n",
      "\n",
      "\n",
      " ------ STD RAG -------------------------\n",
      "\n",
      "\n",
      "\n",
      "\n"
     ]
    },
    {
     "data": {
      "text/markdown": [
       "While the story doesn't explicitly focus on one singular protagonist, **Agent Alex Mercer** emerges as a central figure. He drives the narrative with his:\n",
       "\n",
       "* **Military discipline:** He  is a veteran of Paranormal Military Squad, adhering to protocol while also questioning the limitations of established procedures.\n",
       "* **Strategic mind:** He analyzes the situation, strategizes for engagement, and prioritizes understanding over confrontation.\n",
       "* **Humanity:** He acknowledges the importance of cautious optimism and a willingness to learn from the alien intelligence. \n",
       "\n",
       "His motivation seems to stem from a combination of:\n",
       "\n",
       "* **Duty:**  He's dedicated to his mission and understands the significance of the team's role. \n",
       "* **Curiosity:** He's driven by a desire to understand the unknown and the possibility of forging a new path for humanity.\n",
       "* **Responsibility:** He recognizes the potential ramifications of their actions and wants to ensure that humanity makes a good first impression on the alien intelligence. \n"
      ],
      "text/plain": [
       "<IPython.core.display.Markdown object>"
      ]
     },
     "metadata": {},
     "output_type": "display_data"
    },
    {
     "name": "stdout",
     "output_type": "stream",
     "text": [
      "\n",
      "\n",
      "\n",
      "\n",
      " ------ GRAPH RAG -------------------------\n",
      "\n",
      "\n",
      "\n",
      "\n"
     ]
    },
    {
     "data": {
      "text/markdown": [
       "The main character in this story is **Agent Alex Mercer**. He is a member of the Paranormal Military Squad, and he is motivated by a deep-seated desire to understand the unknown. He is analytical and determined, and he often acts as a leader for the team, prioritizing caution and diplomacy while pushing for deeper understanding. He is also driven by a sense of responsibility to protect humanity from any potential threats posed by the alien intelligence. \n"
      ],
      "text/plain": [
       "<IPython.core.display.Markdown object>"
      ]
     },
     "metadata": {},
     "output_type": "display_data"
    }
   ],
   "source": [
    "#Lets test a question...\n",
    "\n",
    "q = \"Who is the main character and what motivates them?\"\n",
    "\n",
    "response = get_std_RAG_response(model,q,input_text)\n",
    "\n",
    "print (\"\\n\\n\\n\\n ------ STD RAG -------------------------\\n\\n\\n\\n\")\n",
    "\n",
    "\n",
    "\n",
    "display(Markdown(response.text))\n",
    "\n",
    "print (\"\\n\\n\\n\\n ------ GRAPH RAG -------------------------\\n\\n\\n\\n\")\n",
    "\n",
    "async with Surreal(url) as db:\n",
    "    await db.signin({\"user\": u, \"pass\": p}) \n",
    "    await db.use(n, d)\n",
    "    response = await get_graph_RAG_response(db,model,q,input_text)\n",
    "    display(Markdown(response.text))\n",
    "\n",
    "\n"
   ]
  },
  {
   "cell_type": "code",
   "execution_count": 13,
   "id": "e6cb7379-0b85-4320-8dc0-a3812e6ee888",
   "metadata": {},
   "outputs": [
    {
     "name": "stdout",
     "output_type": "stream",
     "text": [
      "\n",
      "\n",
      "\n",
      "\n",
      " ------ STD RAG -------------------------\n",
      "\n",
      "\n",
      "\n",
      "\n"
     ]
    },
    {
     "data": {
      "text/markdown": [
       "The documents provided don't directly address Alex Mercer's personal life, including the places and people he holds dearest. While they describe his character and his actions during Operation: Dulce, they mainly focus on his professional persona as an agent and his interactions with his team members. \n"
      ],
      "text/plain": [
       "<IPython.core.display.Markdown object>"
      ]
     },
     "metadata": {},
     "output_type": "display_data"
    },
    {
     "name": "stdout",
     "output_type": "stream",
     "text": [
      "\n",
      "\n",
      "\n",
      "\n",
      " ------ GRAPH RAG -------------------------\n",
      "\n",
      "\n",
      "\n",
      "\n"
     ]
    },
    {
     "data": {
      "text/markdown": [
       "Based on the provided documents and knowledge graph, we can infer that Alex Mercer holds the following places and people dearest:\n",
       "\n",
       "**Places:**\n",
       "\n",
       "* **Earth:** Alex Mercer is dedicated to protecting Earth from any potential threats arising from the alien contact.\n",
       "* **Humanity:** He is deeply committed to protecting Humanity from any potential threats during the alien contact.\n",
       "* **Dulce Base:**  While he is cautious and apprehensive, he is determined to unravel the secrets of Dulce Base.\n",
       "\n",
       "**People:**\n",
       "\n",
       "* **Jordan Hayes:** Alex values Jordan's analytical mind and their ability to see patterns, seeing them as crucial to their survival. He acknowledges Jordan's expertise and often seeks their input.\n",
       "* **Sam Rivera:** Alex mentors and encourages Sam, recognizing their potential for deciphering complex signals and technology. He trusts Sam's intuition and analytical abilities.\n",
       "\n",
       "It is important to note that the documents primarily focus on Alex's professional life, and there is no mention of his personal life or any romantic relationships. Therefore, we cannot definitively identify any specific people who he holds \"dearest\" in a personal sense. \n"
      ],
      "text/plain": [
       "<IPython.core.display.Markdown object>"
      ]
     },
     "metadata": {},
     "output_type": "display_data"
    }
   ],
   "source": [
    "\n",
    "#Let's test a question that asks about the main character's relationships\n",
    "q = \"What places and people does Alex Mercer hold dearest?\"\n",
    "\n",
    "response = get_std_RAG_response(model,q,input_text)\n",
    "\n",
    "print (\"\\n\\n\\n\\n ------ STD RAG -------------------------\\n\\n\\n\\n\")\n",
    "\n",
    "\n",
    "display(Markdown(response.text))\n",
    "\n",
    "print (\"\\n\\n\\n\\n ------ GRAPH RAG -------------------------\\n\\n\\n\\n\")\n",
    "\n",
    "async with Surreal(url) as db:\n",
    "    await db.signin({\"user\": u, \"pass\": p}) \n",
    "    await db.use(n, d)\n",
    "    response = await get_graph_RAG_response(db,model,q,input_text)\n",
    "    display(Markdown(response.text))\n",
    "\n"
   ]
  },
  {
   "cell_type": "code",
   "execution_count": 15,
   "id": "d090858a-dbd1-4efb-bba7-f55d9bdba45d",
   "metadata": {},
   "outputs": [
    {
     "name": "stdout",
     "output_type": "stream",
     "text": [
      "\n",
      "\n",
      "\n",
      "\n",
      " ------ STD RAG -------------------------\n",
      "\n",
      "\n",
      "\n",
      "\n"
     ]
    },
    {
     "data": {
      "text/markdown": [
       "## Alex Mercer's Timeline: \n",
       "\n",
       "**Chapter 1:**\n",
       "- Attends initial briefing, seemingly compliant with protocols.\n",
       "- Shows a quiet determination beneath the surface, sensing the unknown.\n",
       "- Recognizes Jordan's analytical skills as crucial for survival.\n",
       "\n",
       "**Chapter 2:**\n",
       "- Expresses concern about the lack of communication from Dulce.\n",
       "- Emphasizes the need for intuition and trust beyond technology.\n",
       "- Acknowledges Sam's intuitive understanding of the data.\n",
       "\n",
       "**Chapter 3:**\n",
       "- Discusses the larger implications of the mission, beyond its immediate parameters.\n",
       "- Notes the competitive tension with Taylor Cruz.\n",
       "- Acknowledges Taylor's shift towards respect for the gravity of their work.\n",
       "\n",
       "**Chapter 4:**\n",
       "- Feels pulled into an unknown game, potentially as a pawn.\n",
       "- Acknowledges the eerie atmosphere of Dulce.\n",
       "- Confronts Taylor about the need to consider all possibilities. \n",
       "\n",
       "**Chapter 5:**\n",
       "- Recognizes Jordan's understanding of the star alignments and its implications.\n",
       "- Debates Taylor about the importance of hypothesis over blind obedience.\n",
       "-  Acknowledges Sam's potential as a sentinel in the face of the unknown.\n",
       "\n",
       "**Chapter 6:**\n",
       "- Understands the shift in their mission from simple recovery to guarding a cosmic warning.\n",
       "- Acknowledges the transformation in Jordan from doubt to action.\n",
       "- Feels a sense of brotherhood with Jordan and Sam.\n",
       "\n",
       "**Chapter 7:**\n",
       "- Expresses concern about the evolving signal's potential for danger.\n",
       "-  Reassures the team to proceed with cautious optimism.\n",
       "- Acknowledges the changing nature of the mission from observation to interaction.\n",
       "\n",
       "**Chapter 8:**\n",
       "-  Emphasizes the need for caution and understanding when encountering the alien intelligence.\n",
       "-  Recognizes the shift in their roles from operatives to guardians of a cosmic message.\n",
       "\n",
       "**Chapter 9:**\n",
       "-  Emphasizes the need for vigilance and awareness of the signal's intentions.\n",
       "-  Acknowledges the potential for both breakthrough and disaster.\n",
       "-  Reassures Jordan of his trust and support.\n",
       "\n",
       "**Chapter 10:**\n",
       "-  Urges the team to understand the intent behind the cosmic warning.\n",
       "-  Recognizes the transformation of their mission from exploration to engagement.\n",
       "-  Acknowledges the shift in their role from observers to active participants.\n",
       "\n",
       "**Chapter 11:**\n",
       "-  Urges caution in interacting with the potentially intelligent signal.\n",
       "-  Emphasizes the importance of understanding over confrontation.\n",
       "-  Acknowledges the need for protocols when establishing dialogue with an alien intelligence.\n",
       "\n",
       "**Chapter 12:**\n",
       "-  Recognizes the potential for diplomacy with the alien intelligence.\n",
       "-  Acknowledges Taylor's caution about potential threats.\n",
       "-  Emphasizes the importance of remaining grounded while seeking answers.\n",
       "\n",
       "**Chapter 13:**\n",
       "-  Urges the team to remain adaptable in the face of the unknown.\n",
       "-  Understands and acknowledges the potential for cosmic negotiations.\n",
       "-  Reminds the team that they are not just observers but participants in a larger dialogue.\n",
       "\n",
       "**Chapter 14:**\n",
       "-  Emphasizes the need for finesse in communicating with the alien intelligence.\n",
       "-  Recognizes the transformation of their mission from simple recovery to a cosmic concerto.\n",
       "-  Acknowledges the importance of collective expertise and teamwork.\n",
       "\n",
       "**Chapter 15:**\n",
       "-  Emphasizes the need for consistency and a clear message when communicating.\n",
       "-  Recognizes the potential for both forging a bond and exposing vulnerabilities.\n",
       "-  Urges the team to harmonize their response with the alien intelligence.\n",
       "\n",
       "**Chapter 16:**\n",
       "-  Reminds the team of the importance of prudence and caution.\n",
       "-  Acknowledges the potential for both understanding and danger.\n",
       "-  Urges the team to engage with the alien intelligence with care and respect.\n",
       "\n",
       "This timeline shows Alex Mercer's progression from a cautious, protocol-driven agent to a leader who embraces the unknown and fosters a sense of collaborative discovery and diplomacy.  His actions demonstrate a growing understanding of the cosmic implications of their mission and a commitment to protecting humanity while seeking knowledge. \n"
      ],
      "text/plain": [
       "<IPython.core.display.Markdown object>"
      ]
     },
     "metadata": {},
     "output_type": "display_data"
    },
    {
     "name": "stdout",
     "output_type": "stream",
     "text": [
      "\n",
      "\n",
      "\n",
      "\n",
      " ------ GRAPH RAG -------------------------\n",
      "\n",
      "\n",
      "\n",
      "\n"
     ]
    },
    {
     "data": {
      "text/markdown": [
       "## Timeline of Alex Mercer's Actions:\n",
       "\n",
       "**Chapter 1:**\n",
       "\n",
       "* **Initial Meeting:** Alex Mercer is present in the briefing room for Operation: Dulce. He is initially reluctant to engage, but eventually complies with Agent Taylor Cruz's directive to follow protocol.\n",
       "* **Hidden Determination:** Despite his apparent compliance, Alex maintains a determined undercurrent, showing he won't be easily swayed by the challenges ahead.\n",
       "\n",
       "**Chapter 2:**\n",
       "\n",
       "* **Intuition and Trust:**  Alex visits Sam Rivera in their office, emphasizing the importance of intuition and trust in addition to technology. He recognizes Sam's talent for deciphering alien signals and instills a sense of trust in them.\n",
       "\n",
       "**Chapter 3:**\n",
       "\n",
       "* **Humanity's Stake:** Alex engages in conversation with Dr. Jordan Hayes, discussing the broader implications of their mission and the potential impact on humanity. They share a sense of the enormity of the task at hand.\n",
       "* **Cautious Acceptance:** Alex observes Taylor Cruz’s initial dismissal of their conversation, but later notes a slight shift in Taylor's attitude, signaling a reluctant acceptance of the importance of their work.\n",
       "\n",
       "**Chapter 4:**\n",
       "\n",
       "* **Sense of Being Played:**  Alex shares with Jordan Hayes his feeling that they are being manipulated by unknown forces within the Dulce Base.\n",
       "* **Unwavering Resolve:** Alex, facing Taylor Cruz’s authority, asserts his determination to proceed with the mission.\n",
       "\n",
       "**Chapter 5:**\n",
       "\n",
       "* **Cosmic Appointment:** Alex reacts to Jordan Hayes' theory about celestial alignments impacting the mission,  showing a willingness to consider the extraordinary. \n",
       "* **Openness to Unknowns:** Alex defends Jordan's theory against Taylor Cruz’s dismissal, demonstrating a willingness to embrace the unknown.\n",
       "\n",
       "**Chapter 6:**\n",
       "\n",
       "* **The Warning:**  Alex recognizes the importance of understanding the alien warning decoded by Jordan and Sam.\n",
       "* **Shift in Mandate:** Alex acknowledges the change in their mission from mere observation to active participation.\n",
       "\n",
       "**Chapter 7:**\n",
       "\n",
       "* **First Contact:** Alex witnesses the team's initial contact with the alien intelligence and the profound change it brings. \n",
       "* **Embrace of Change:** Alex recognizes the need for a new approach—one of connection and comprehension—in dealing with the alien intelligence.\n",
       "\n",
       "**Chapter 8:**\n",
       "\n",
       "* **Navigating the Unknown:** Alex discusses with Jordan Hayes the importance of being prepared for the unknown, demonstrating his strategic thinking.\n",
       "* **Collective Responsibility:** Alex acknowledges that their actions now affect humanity's place in the cosmos.\n",
       "\n",
       "**Chapter 9:**\n",
       "\n",
       "* **Aware and Reactive:** Alex probes Dr. Jordan Hayes about the alien intelligence's level of awareness and its potential intentions.\n",
       "* **Cautious Optimism:** Alex encourages Jordan to continue communicating but warns against complacency in their communication.\n",
       "\n",
       "**Chapter 10:**\n",
       "\n",
       "* **Learning the Song:** Alex acknowledges the importance of understanding the alien signal's rhythmic nature and encourages his team to learn its language.\n",
       "* **Humanity’s Reply:** Alex initiates a response to the alien signal, demonstrating his leadership and belief in the mission.\n",
       "\n",
       "**Chapter 11:**\n",
       "\n",
       "* **The First Emissaries:** Alex recognizes the monumental nature of their actions and their role as Earth's first emissaries to an alien civilization.\n",
       "\n",
       "**Chapter 12:**\n",
       "\n",
       "* **Empathy as a Bridge:** Alex suggests using empathy as a tool to bridge the gap between humanity and the alien intelligence.\n",
       "* **Measured Response:** Alex stresses the need for a cautious and measured response to the alien communication.\n",
       "* **Initiation of Dialogue:** Alex gives the order to initiate a formal communication with the alien intelligence.\n",
       "\n",
       "**Chapter 13:**\n",
       "\n",
       "* **Navigating the Unknown:** Alex acknowledges that their team is now venturing into uncharted territory and the need to adapt their approach.\n",
       "\n",
       "**Chapter 14:**\n",
       "\n",
       "* **Symphonic Dialogue:** Alex encourages his team to see their communication with the alien intelligence as a dance, a collaborative effort.\n",
       "* **Earth’s First Note:** Alex recognizes the historical significance of their mission and the impact it will have on the future of humanity.\n",
       "\n",
       "**Chapter 15:**\n",
       "\n",
       "* **Seeking Harmony:** Alex directs his team to harmonize their responses with the alien signal, emphasizing the need for a collaborative approach.\n",
       "* **Humanity’s Voice:** Alex acknowledges the importance of Earth's voice in the galactic conversation and encourages his team to make it heard. \n",
       "\n",
       "**Overall:** Throughout the chapters, Alex Mercer emerges as a strong leader, demonstrating both caution and resolve. He is driven by a sense of responsibility and a belief in humanity's potential to engage with the unknown. He fosters collaboration and respects the expertise of his team while ensuring the mission's overall success. His actions highlight his commitment to understanding and engaging with the alien intelligence, while safeguarding the interests of humanity. \n"
      ],
      "text/plain": [
       "<IPython.core.display.Markdown object>"
      ]
     },
     "metadata": {},
     "output_type": "display_data"
    }
   ],
   "source": [
    "\n",
    "\n",
    "\n",
    "q = \"Provide a timeline for Alex Mercers actions\"\n",
    "\n",
    "response = get_std_RAG_response(model,q,input_text)\n",
    "\n",
    "print (\"\\n\\n\\n\\n ------ STD RAG -------------------------\\n\\n\\n\\n\")\n",
    "\n",
    "display(Markdown(response.text))\n",
    "\n",
    "print (\"\\n\\n\\n\\n ------ GRAPH RAG -------------------------\\n\\n\\n\\n\")\n",
    "\n",
    "async with Surreal(url) as db:\n",
    "    await db.signin({\"user\": u, \"pass\": p}) \n",
    "    await db.use(n, d)\n",
    "    response = await get_graph_RAG_response(db,model,q,input_text)\n",
    "    display(Markdown(response.text))\n"
   ]
  },
  {
   "cell_type": "code",
   "execution_count": null,
   "id": "69ef5cc5-6bce-466b-8ae2-1f0b95277a46",
   "metadata": {},
   "outputs": [],
   "source": []
  },
  {
   "cell_type": "code",
   "execution_count": null,
   "id": "702ae4a6-3f21-4342-a21f-546b59241306",
   "metadata": {},
   "outputs": [],
   "source": []
  }
 ],
 "metadata": {
  "kernelspec": {
   "display_name": "Python 3 (ipykernel)",
   "language": "python",
   "name": "python3"
  },
  "language_info": {
   "codemirror_mode": {
    "name": "ipython",
    "version": 3
   },
   "file_extension": ".py",
   "mimetype": "text/x-python",
   "name": "python",
   "nbconvert_exporter": "python",
   "pygments_lexer": "ipython3",
   "version": "3.12.7"
  }
 },
 "nbformat": 4,
 "nbformat_minor": 5
}
